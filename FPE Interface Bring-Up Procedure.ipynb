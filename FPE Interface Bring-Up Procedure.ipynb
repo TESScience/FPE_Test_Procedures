{
 "cells": [
  {
   "cell_type": "markdown",
   "metadata": {},
   "source": [
    "# FPE Interface Board Bring-up Procedure"
   ]
  },
  {
   "cell_type": "markdown",
   "metadata": {},
   "source": [
    "Abstract: *This iPython Notebook contains instructions for the FPE Interface Board PCB Bring-up test flow.  This procedure can be used for the Interface Boards, versions 6.2 and 7.0.  Simliar iPython Notebooks will be created for the Driver and Video Boards.*"
   ]
  },
  {
   "cell_type": "markdown",
   "metadata": {},
   "source": [
    "# Preamble\n",
    "\n",
    "Below we create a small object for keeping track of which tests have passed.  At the end of this document we verify this object to make sure all of the tests and procedures have been validly performed.\n",
    "\n",
    "<span style=\"color:red\">***IF THIS OBJECT DOES NOT VALIDATE THEN THE TESTS HAVE FAILED AND WILL BE INDICATED AT THE END OF THE DOCUMENT***</span>\n",
    "\n",
    "\n",
    "Note that in general, if at some stage in this procedure a test fails, the operator is expected to resolve it through the appropriate NCR/ECO process before proceeding.\n",
    "\n",
    "Where a cell indicates \"None # FILL IN ...\" the test conductor should replace this text with the appropriate information."
   ]
  },
  {
   "cell_type": "code",
   "execution_count": 2,
   "metadata": {
    "collapsed": true
   },
   "outputs": [],
   "source": [
    "import random\n",
    "test_check = {}"
   ]
  },
  {
   "cell_type": "markdown",
   "metadata": {},
   "source": [
    "## Test Start Date"
   ]
  },
  {
   "cell_type": "code",
   "execution_count": 3,
   "metadata": {
    "collapsed": true
   },
   "outputs": [],
   "source": [
    "test_check[\"DATE\"] = None # TODO: Fill in today's date here as a string in the form \"MM/DD/YY\""
   ]
  },
  {
   "cell_type": "markdown",
   "metadata": {},
   "source": [
    "## Test Conductor Information"
   ]
  },
  {
   "cell_type": "markdown",
   "metadata": {},
   "source": [
    "Please write down your personal information for accountability purposes:"
   ]
  },
  {
   "cell_type": "code",
   "execution_count": 4,
   "metadata": {
    "collapsed": false
   },
   "outputs": [],
   "source": [
    "test_check[\"NAME\"] = None # FILL IN YOUR NAME HERE AS A STRING\n",
    "test_check[\"EMAIL\"] = None # FILL IN YOUR EMAIL HERE AS A STRING"
   ]
  },
  {
   "cell_type": "markdown",
   "metadata": {},
   "source": [
    "## Unit Under Test"
   ]
  },
  {
   "cell_type": "markdown",
   "metadata": {},
   "source": [
    "Please record the part number and serial number of the unit under test:"
   ]
  },
  {
   "cell_type": "code",
   "execution_count": 101,
   "metadata": {
    "collapsed": true
   },
   "outputs": [],
   "source": [
    "test_check[\"Part Number\"] = None # FILL IN THE PART NUMBER HERE AS A STRING\n",
    "test_check[\"Serial Number\"] = None # FILL IN THE SERIAL NUMBER HERE AS A STRING"
   ]
  },
  {
   "cell_type": "markdown",
   "metadata": {},
   "source": [
    "## Test Equipment"
   ]
  },
  {
   "cell_type": "markdown",
   "metadata": {},
   "source": [
    "Note test equipment model #'s and serial #'s"
   ]
  },
  {
   "cell_type": "code",
   "execution_count": 102,
   "metadata": {
    "collapsed": false
   },
   "outputs": [],
   "source": [
    "test_check[\"Equipment\"] = {\n",
    "    \"Multimeter\": { \"Model Number\": None, # TODO: Enter a string here for the model number\n",
    "                    \"Serial Number\": None # TODO: Enter a string here for the serial number\n",
    "                  },\n",
    "    \"Oscilloscope\": { \"Model Number\": None, # TODO: Enter a string here for the model number\n",
    "                      \"Serial Number\": None # TODO: Enter a string here for the serial number\n",
    "                    },\n",
    "    \"DHU Emulator\": { \"Model Number\": None, # TODO: Enter a string here for the model number\n",
    "                      \"Serial Number\": None # TODO: Enter a string here for the serial number\n",
    "                    }\n",
    "}"
   ]
  },
  {
   "cell_type": "markdown",
   "metadata": {},
   "source": [
    "## Prepare for Inspections"
   ]
  },
  {
   "cell_type": "markdown",
   "metadata": {},
   "source": [
    "1) Verify work area is ESD safe."
   ]
  },
  {
   "cell_type": "code",
   "execution_count": 103,
   "metadata": {
    "collapsed": true
   },
   "outputs": [],
   "source": [
    "test_check[\"ESD_SAFE\"] =  None # TODO: If the area is ESD safe enter 'ESD Safe'"
   ]
  },
  {
   "cell_type": "markdown",
   "metadata": {},
   "source": [
    "2) Photograph the front of the assembly.  Use a service like Flickr to upload your photo and paste the URL below, in place of the placeholder image.\n",
    "\n",
    "You will need to double-click the active area to the left of the image to see the embedded link, then delete it and replace it with your new link.  For Flickr, use the link given at \"Share Photo\" then \"Embed\".  Hit shift-enter to run the cell and see the image."
   ]
  },
  {
   "cell_type": "markdown",
   "metadata": {},
   "source": [
    "<!-- Delete the mock below and put in a real image -->\n",
    "\n",
    "<a data-flickr-embed=\"true\"  href=\"https://www.flickr.com/photos/135953480@N06/22504227741/in/dateposted-public/\" title=\"TESS_Placeholder\"><img src=\"https://farm1.staticflickr.com/627/22504227741_da029de321_m.jpg\" width=\"218\" height=\"218\" alt=\"TESS_Placeholder\"></a><script async src=\"//embedr.flickr.com/assets/client-code.js\" charset=\"utf-8\"></script>"
   ]
  },
  {
   "cell_type": "markdown",
   "metadata": {},
   "source": [
    "3) Photograph the back of the assembly and upload it also. Paste the URL below, in place of the placeholder image."
   ]
  },
  {
   "cell_type": "markdown",
   "metadata": {},
   "source": [
    "<a data-flickr-embed=\"true\"  href=\"https://www.flickr.com/photos/135953480@N06/22504227741/in/dateposted-public/\" title=\"TESS_Placeholder\"><img src=\"https://farm1.staticflickr.com/627/22504227741_da029de321_m.jpg\" width=\"218\" height=\"218\" alt=\"TESS_Placeholder\"></a><script async src=\"//embedr.flickr.com/assets/client-code.js\" charset=\"utf-8\"></script>"
   ]
  },
  {
   "cell_type": "markdown",
   "metadata": {},
   "source": [
    "### Standard Inspections"
   ]
  },
  {
   "cell_type": "markdown",
   "metadata": {},
   "source": [
    "４. Weigh assembly, note any non-flight configurations"
   ]
  },
  {
   "cell_type": "code",
   "execution_count": 104,
   "metadata": {
    "collapsed": true
   },
   "outputs": [],
   "source": [
    "test_check[\"Assembly Weight\"] = None\n",
    "test_check[\"Non-Flight Configurations\"] = None"
   ]
  },
  {
   "cell_type": "markdown",
   "metadata": {},
   "source": [
    "#### Visual Inspection under Stereo Microscope"
   ]
  },
  {
   "cell_type": "code",
   "execution_count": 105,
   "metadata": {
    "collapsed": true
   },
   "outputs": [],
   "source": [
    "test_check[\"Visual Inspection\"] = {}"
   ]
  },
  {
   "cell_type": "markdown",
   "metadata": {},
   "source": [
    "５.*a* Workmanship and mechanical damage"
   ]
  },
  {
   "cell_type": "code",
   "execution_count": 106,
   "metadata": {
    "collapsed": false
   },
   "outputs": [],
   "source": [
    "test_check[\"Visual Inspection\"][\"Mechanical Damage\"] = None # TODO: If there is no damage write 'No Damage'"
   ]
  },
  {
   "cell_type": "markdown",
   "metadata": {},
   "source": [
    "５.*b* DNP parts not installed"
   ]
  },
  {
   "cell_type": "code",
   "execution_count": 107,
   "metadata": {
    "collapsed": true
   },
   "outputs": [],
   "source": [
    "test_check[\"Visual Inspection\"][\"DNP parts not installed\"] = None # TODO: If no parts are missing write 'None missing'"
   ]
  },
  {
   "cell_type": "markdown",
   "metadata": {},
   "source": [
    "５.*c* No missing components"
   ]
  },
  {
   "cell_type": "code",
   "execution_count": 108,
   "metadata": {
    "collapsed": false
   },
   "outputs": [],
   "source": [
    "test_check[\"Visual Inspection\"][\"No Missing Components\"] = None # TODO: Set to True if no components are missing"
   ]
  },
  {
   "cell_type": "markdown",
   "metadata": {},
   "source": [
    "５.*d* Verify required jumpers installed\n",
    "\n",
    "***TODO: Make a labeled picture of the jumpers***"
   ]
  },
  {
   "cell_type": "code",
   "execution_count": 109,
   "metadata": {
    "collapsed": true
   },
   "outputs": [],
   "source": [
    "test_check[\"Visual Inspection\"][\"Required jumpers installed\"] = None # TODO: Set to True if all required jumpers are installed"
   ]
  },
  {
   "cell_type": "markdown",
   "metadata": {},
   "source": [
    "５.*e* Component orientation (chips, polarized caps, diodes, etc)\n",
    "\n",
    "***TODO: Make a labeled picture of component orientation***"
   ]
  },
  {
   "cell_type": "code",
   "execution_count": 110,
   "metadata": {
    "collapsed": true
   },
   "outputs": [],
   "source": [
    "test_check[\"Visual Inspection\"][\"Components are oriented correctly\"] = None # TODO: Set to True if all components are oriented correctly"
   ]
  },
  {
   "cell_type": "markdown",
   "metadata": {},
   "source": [
    "５.*f* Verify chips are correct parts (& date codes if specified in design)\n",
    "\n",
    "***TODO: Make a labeled picture with part names***"
   ]
  },
  {
   "cell_type": "code",
   "execution_count": 111,
   "metadata": {
    "collapsed": true
   },
   "outputs": [],
   "source": [
    "test_check[\"Visual Inspection\"][\"Chips are correct parts\"] = None # TODO: Set to True if all chips are correct parts"
   ]
  },
  {
   "cell_type": "markdown",
   "metadata": {},
   "source": [
    "５.*g* Verify connector savers installed if required\n",
    "\n",
    "***TODO: Determine where connector savers will be required for flight hardware and make list of connector numbers***"
   ]
  },
  {
   "cell_type": "code",
   "execution_count": 112,
   "metadata": {
    "collapsed": true
   },
   "outputs": [],
   "source": [
    "test_check[\"Visual Inspection\"][\"Connector Savers Installed\"] = None # TODO: Set to True if all connector savers are installed"
   ]
  },
  {
   "cell_type": "markdown",
   "metadata": {},
   "source": [
    "### Power OFF Resistance Measurements"
   ]
  },
  {
   "cell_type": "markdown",
   "metadata": {},
   "source": [
    "6) With the power off and no external connections to the PCB, measure the resistance on all power lines.  All measurements should be referenced to circuit ground."
   ]
  },
  {
   "cell_type": "code",
   "execution_count": 113,
   "metadata": {
    "collapsed": true
   },
   "outputs": [],
   "source": [
    "test_check[\"Power Off Measurements\"] = {}"
   ]
  },
  {
   "cell_type": "code",
   "execution_count": 114,
   "metadata": {
    "collapsed": true
   },
   "outputs": [],
   "source": [
    "test_check[\"Power Off Measurements\"][\"GND\"] = None\n",
    "test_check[\"Power Off Measurements\"][\"+5V\"] = None\n",
    "test_check[\"Power Off Measurements\"][\"+15V\"] = None\n",
    "test_check[\"Power Off Measurements\"][\"-12V\"] = None\n",
    "test_check[\"Power Off Measurements\"][\"+24\"] = None\n",
    "test_check[\"Power Off Measurements\"][\"-50\"] = None\n",
    "test_check[\"Power Off Measurements\"][\"+1.8F\"] = None\n",
    "test_check[\"Power Off Measurements\"][\"+1F\"] = None\n",
    "test_check[\"Power Off Measurements\"][\"+2.5\"] = None\n",
    "test_check[\"Power Off Measurements\"][\"+3.3B\"] = None\n",
    "test_check[\"Power Off Measurements\"][\"+3.3Dac\"] = None\n",
    "test_check[\"Power Off Measurements\"][\"+3.3F\"] = None"
   ]
  },
  {
   "cell_type": "code",
   "execution_count": 33,
   "metadata": {
    "collapsed": true
   },
   "outputs": [],
   "source": [
    "#TODO: Add check of power off resistance measurements."
   ]
  },
  {
   "cell_type": "markdown",
   "metadata": {},
   "source": [
    "7) With power OFF, measure the resistance to ground of all pins on the JS stack connector."
   ]
  },
  {
   "cell_type": "markdown",
   "metadata": {},
   "source": [
    "Set up the dictionary to hold the results:"
   ]
  },
  {
   "cell_type": "code",
   "execution_count": 9,
   "metadata": {
    "collapsed": false
   },
   "outputs": [],
   "source": [
    "from collections import defaultdict\n",
    "test_check[\"JS stack connector resistances\"] = defaultdict(dict)"
   ]
  },
  {
   "cell_type": "markdown",
   "metadata": {},
   "source": [
    "Now enter the measurement data (replace the word \"None\"). Note that expected units are given:"
   ]
  },
  {
   "cell_type": "code",
   "execution_count": 10,
   "metadata": {
    "collapsed": false
   },
   "outputs": [],
   "source": [
    "test_check[\"JS stack connector resistances\"][1][\"GND\"] = None # Ohms\n",
    "test_check[\"JS stack connector resistances\"][2][\"SDO-A-1\"] = None # MOhms\n",
    "test_check[\"JS stack connector resistances\"][3][\"GND\"] = None # Ohms\n",
    "test_check[\"JS stack connector resistances\"][4][\"SDO-B-1\"] = None # MOhms\n",
    "test_check[\"JS stack connector resistances\"][5][\"GND\"] = None # Ohms\n",
    "test_check[\"JS stack connector resistances\"][6][\"SDO-C-1\"] = None # MOhms\n",
    "test_check[\"JS stack connector resistances\"][7][\"GND\"] = None # Ohms\n",
    "test_check[\"JS stack connector resistances\"][8][\"SDO-D-1\"] = None # MOhms\n",
    "test_check[\"JS stack connector resistances\"][9][\"GND\"] = None # Ohms\n",
    "test_check[\"JS stack connector resistances\"][10][\"SCK\"] = None # MOhms\n",
    "test_check[\"JS stack connector resistances\"][11][\"GND\"] = None # Ohms\n",
    "test_check[\"JS stack connector resistances\"][12][\"CNV\"] = None # MOhms\n",
    "test_check[\"JS stack connector resistances\"][13][\"GND\"] = None # Ohms\n",
    "test_check[\"JS stack connector resistances\"][14][\"INT\"] = None # MOhms\n",
    "test_check[\"JS stack connector resistances\"][15][\"GND\"] = None # Ohms\n",
    "test_check[\"JS stack connector resistances\"][16][\"DEINT\"] = None # MOhms\n",
    "test_check[\"JS stack connector resistances\"][17][\"GND\"] = None # Ohms\n",
    "test_check[\"JS stack connector resistances\"][18][\"CLAMP\"] = None # MOhms\n",
    "test_check[\"JS stack connector resistances\"][19][\"GND\"] = None # Ohms\n",
    "test_check[\"JS stack connector resistances\"][20][\"CWCLK\"] = None # MOhms\n",
    "test_check[\"JS stack connector resistances\"][21][\"GND\"] = None # Ohms\n",
    "test_check[\"JS stack connector resistances\"][22][\"DD\"] = None # MOhms\n",
    "test_check[\"JS stack connector resistances\"][23][\"GND\"] = None # Ohms\n",
    "test_check[\"JS stack connector resistances\"][24][\"DCK\"] = None # MOhms\n",
    "test_check[\"JS stack connector resistances\"][25][\"GND\"] = None # Ohms\n",
    "test_check[\"JS stack connector resistances\"][26][\"SP1OR\"] = None # MOhms\n",
    "test_check[\"JS stack connector resistances\"][27][\"GND\"] = None # Ohms\n",
    "test_check[\"JS stack connector resistances\"][28][\"SP2OR\"] = None # MOhms\n",
    "test_check[\"JS stack connector resistances\"][29][\"GND\"] = None # Ohms\n",
    "test_check[\"JS stack connector resistances\"][30][\"SP3OR\"] = None # MOhms\n",
    "test_check[\"JS stack connector resistances\"][31][\"GND\"] = None # Ohms\n",
    "test_check[\"JS stack connector resistances\"][32][\"SRG\"] = None # MOhms\n",
    "test_check[\"JS stack connector resistances\"][33][\"GND\"] = None # Ohms\n",
    "test_check[\"JS stack connector resistances\"][34][\"SID\"] = None # MOhms\n",
    "test_check[\"JS stack connector resistances\"][35][\"GND\"] = None # Ohms\n",
    "test_check[\"JS stack connector resistances\"][36][\"SP1U\"] = None # MOhms\n",
    "test_check[\"JS stack connector resistances\"][37][\"GND\"] = None # Ohms\n",
    "test_check[\"JS stack connector resistances\"][38][\"SP2U\"] = None # KOhms\n",
    "test_check[\"JS stack connector resistances\"][39][\"GND\"] = None # Ohms\n",
    "test_check[\"JS stack connector resistances\"][40][\"SP3U\"] = None # MOhms\n",
    "test_check[\"JS stack connector resistances\"][41][\"GND\"] = None # Ohms\n",
    "test_check[\"JS stack connector resistances\"][42][\"_DS96_\"] = None # Ohms\n",
    "test_check[\"JS stack connector resistances\"][43][\"GND\"] = None # MOhms\n",
    "test_check[\"JS stack connector resistances\"][44][\"SDO-A-2\"] = None # Ohms\n",
    "test_check[\"JS stack connector resistances\"][45][\"GND\"] = None # MOhms\n",
    "test_check[\"JS stack connector resistances\"][46][\"SDO-B-2\"] = None # Ohms\n",
    "test_check[\"JS stack connector resistances\"][47][\"GND\"] = None # MOhms\n",
    "test_check[\"JS stack connector resistances\"][48][\"SDO-C-2\"] = None # Ohms\n",
    "test_check[\"JS stack connector resistances\"][49][\"GND\"] = None # MOhms\n",
    "test_check[\"JS stack connector resistances\"][50][\"SDO-D-2\"] = None # MOhms\n",
    "test_check[\"JS stack connector resistances\"][51][\"P1-FS-1\"] = None # MOhms\n",
    "test_check[\"JS stack connector resistances\"][52][\"P2-FS-1\"] = None # MOhms\n",
    "test_check[\"JS stack connector resistances\"][53][\"P3-FS-1\"] = None # MOhms\n",
    "test_check[\"JS stack connector resistances\"][54][\"P3-OR-1\"] = None # MOhms\n",
    "test_check[\"JS stack connector resistances\"][55][\"P2-OR-1\"] = None # MOhms\n",
    "test_check[\"JS stack connector resistances\"][56][\"P1-OR-1\"] = None # MOhms\n",
    "test_check[\"JS stack connector resistances\"][57][\"RG-1\"] = None # MOhms\n",
    "test_check[\"JS stack connector resistances\"][58][\"P1-IA-1\"] = None # MOhms\n",
    "test_check[\"JS stack connector resistances\"][59][\"P2-IA-1\"] = None # MOhms\n",
    "test_check[\"JS stack connector resistances\"][60][\"P3-IA-1\"] = None # MOhms\n",
    "test_check[\"JS stack connector resistances\"][61][\"P1-U-1\"] = None # MOhms\n",
    "test_check[\"JS stack connector resistances\"][62][\"P2-U-1\"] = None # MOhms\n",
    "test_check[\"JS stack connector resistances\"][63][\"P3-U-1\"] = None # MOhms\n",
    "test_check[\"JS stack connector resistances\"][64][\"ID-1\"] = None # MOhms\n",
    "test_check[\"JS stack connector resistances\"][65][\"SP1-IA-1\"] = None # MOhms\n",
    "test_check[\"JS stack connector resistances\"][66][\"SP2-IA-1\"] = None # MOhms\n",
    "test_check[\"JS stack connector resistances\"][67][\"SP3-IA-1\"] = None # MOhms\n",
    "test_check[\"JS stack connector resistances\"][68][\"SP1-FS-1\"] = None # MOhms\n",
    "test_check[\"JS stack connector resistances\"][69][\"SP2-FS-1\"] = None # MOhms\n",
    "test_check[\"JS stack connector resistances\"][70][\"SP3-FS-1\"] = None # MOhms\n",
    "test_check[\"JS stack connector resistances\"][71][\"HK0\"] = None # MOhms\n",
    "test_check[\"JS stack connector resistances\"][72][\"HK8\"] = None # MOhms\n",
    "test_check[\"JS stack connector resistances\"][73][\"HK16\"] = None # MOhms\n",
    "test_check[\"JS stack connector resistances\"][74][\"HK24\"] = None # MOhms\n",
    "test_check[\"JS stack connector resistances\"][75][\"HK32\"] = None # MOhms\n",
    "test_check[\"JS stack connector resistances\"][76][\"HK40\"] = None # MOhms\n",
    "test_check[\"JS stack connector resistances\"][77][\"HK48\"] = None # MOhms\n",
    "test_check[\"JS stack connector resistances\"][78][\"HK56\"] = None # MOhms\n",
    "test_check[\"JS stack connector resistances\"][79][\"HK64\"] = None # MOhms\n",
    "test_check[\"JS stack connector resistances\"][80][\"HK72\"] = None # MOhms\n",
    "test_check[\"JS stack connector resistances\"][81][\"SP1-IA-2\"] = None # MOhms\n",
    "test_check[\"JS stack connector resistances\"][82][\"SP2-IA-2\"] = None # MOhms\n",
    "test_check[\"JS stack connector resistances\"][83][\"SP3-IA-2\"] = None # MOhms\n",
    "test_check[\"JS stack connector resistances\"][84][\"SP1-FS-2\"] = None # MOhms\n",
    "test_check[\"JS stack connector resistances\"][85][\"SP2-FS-2\"] = None # MOhms\n",
    "test_check[\"JS stack connector resistances\"][86][\"SP3-FS-2\"] = None # MOhms\n",
    "test_check[\"JS stack connector resistances\"][87][\"P1-FS-2\"] = None # MOhms\n",
    "test_check[\"JS stack connector resistances\"][88][\"P2-FS-2\"] = None # MOhms\n",
    "test_check[\"JS stack connector resistances\"][89][\"P3-FS-2\"] = None # MOhms\n",
    "test_check[\"JS stack connector resistances\"][90][\"P3-OR-2\"] = None # MOhms\n",
    "test_check[\"JS stack connector resistances\"][91][\"P2-OR-2\"] = None # MOhms\n",
    "test_check[\"JS stack connector resistances\"][92][\"P1-OR-2\"] = None # MOhms\n",
    "test_check[\"JS stack connector resistances\"][93][\"RG-2\"] = None # MOhms\n",
    "test_check[\"JS stack connector resistances\"][94][\"P1-IA-2\"] = None # MOhms\n",
    "test_check[\"JS stack connector resistances\"][95][\"P2-IA-2\"] = None # MOhms\n",
    "test_check[\"JS stack connector resistances\"][96][\"P3-IA-2\"] = None # MOhms\n",
    "test_check[\"JS stack connector resistances\"][97][\"P1-U-2\"] = None # MOhms\n",
    "test_check[\"JS stack connector resistances\"][98][\"P2-U-2\"] = None # MOhms\n",
    "test_check[\"JS stack connector resistances\"][99][\"P3-U-2\"] = None # MOhms\n",
    "test_check[\"JS stack connector resistances\"][100][\"ID-2\"] = None # MOhms\n",
    "test_check[\"JS stack connector resistances\"][101][\"ID-4\"] = None # OL\n",
    "test_check[\"JS stack connector resistances\"][102][\"P3-U-4\"] = None # OL\n",
    "test_check[\"JS stack connector resistances\"][103][\"P2-U-4\"] = None # OL\n",
    "test_check[\"JS stack connector resistances\"][104][\"P1-U-4\"] = None # OL\n",
    "test_check[\"JS stack connector resistances\"][105][\"P3-IA-4\"] = None # OL\n",
    "test_check[\"JS stack connector resistances\"][106][\"P2-IA-4\"] = None # OL\n",
    "test_check[\"JS stack connector resistances\"][107][\"P1-IA-4\"] = None # OL\n",
    "test_check[\"JS stack connector resistances\"][108][\"RG-4\"] = None # OL\n",
    "test_check[\"JS stack connector resistances\"][109][\"P1-OR-4\"] = None # OL\n",
    "test_check[\"JS stack connector resistances\"][110][\"P2-OR-4\"] = None # OL\n",
    "test_check[\"JS stack connector resistances\"][111][\"P3-OR-4\"] = None # OL\n",
    "test_check[\"JS stack connector resistances\"][112][\"P3-FS-4\"] = None # OL\n",
    "test_check[\"JS stack connector resistances\"][113][\"P2-FS-4\"] = None # OL\n",
    "test_check[\"JS stack connector resistances\"][114][\"P1-FS-4\"] = None # OL\n",
    "test_check[\"JS stack connector resistances\"][115][\"SP3-FS-4\"] = None # MOhms\n",
    "test_check[\"JS stack connector resistances\"][116][\"SP2-FS-4\"] = None # MOhms\n",
    "test_check[\"JS stack connector resistances\"][117][\"SP1-FS-4\"] = None # MOhms\n",
    "test_check[\"JS stack connector resistances\"][118][\"SP3-IA-4\"] = None # MOhms\n",
    "test_check[\"JS stack connector resistances\"][119][\"SP2-IA-4\"] = None # MOhms\n",
    "test_check[\"JS stack connector resistances\"][120][\"SP1-IA-4\"] = None # MOhms\n",
    "test_check[\"JS stack connector resistances\"][121][\"HK80\"] = None # MOhms\n",
    "test_check[\"JS stack connector resistances\"][122][\"HK88\"] = None # MOhms\n",
    "test_check[\"JS stack connector resistances\"][123][\"HK96\"] = None # MOhms\n",
    "test_check[\"JS stack connector resistances\"][124][\"HK104\"] = None # MOhms\n",
    "test_check[\"JS stack connector resistances\"][125][\"HK112\"] = None # MOhms\n",
    "test_check[\"JS stack connector resistances\"][126][\"HK120\"] = None # MOhms\n",
    "test_check[\"JS stack connector resistances\"][127][\"HKA0\"] = None # MOhms\n",
    "test_check[\"JS stack connector resistances\"][128][\"HKA1\"] = None # MOhms\n",
    "test_check[\"JS stack connector resistances\"][129][\"HKA2\"] = None # MOhms\n",
    "test_check[\"JS stack connector resistances\"][130][\"HKCOM\"] = None # MOhms\n",
    "test_check[\"JS stack connector resistances\"][131][\"SP3-FS-3\"] = None # MOhms\n",
    "test_check[\"JS stack connector resistances\"][132][\"SP2-FS-3\"] = None # MOhms\n",
    "test_check[\"JS stack connector resistances\"][133][\"SP1-FS-3\"] = None # MOhms\n",
    "test_check[\"JS stack connector resistances\"][134][\"SP3-IA-3\"] = None # MOhms\n",
    "test_check[\"JS stack connector resistances\"][135][\"SP2-IA-3\"] = None # MOhms\n",
    "test_check[\"JS stack connector resistances\"][136][\"SP1-IA-3\"] = None # MOhms\n",
    "test_check[\"JS stack connector resistances\"][137][\"ID-3\"] = None # OL\n",
    "test_check[\"JS stack connector resistances\"][138][\"P3-U-3\"] = None # OL\n",
    "test_check[\"JS stack connector resistances\"][139][\"P2-U-3\"] = None # OL\n",
    "test_check[\"JS stack connector resistances\"][140][\"P1-U-3\"] = None # OL\n",
    "test_check[\"JS stack connector resistances\"][141][\"P3-IA-3\"] = None # OL\n",
    "test_check[\"JS stack connector resistances\"][142][\"P2-IA-3\"] = None # OL\n",
    "test_check[\"JS stack connector resistances\"][143][\"P1-IA-3\"] = None # OL\n",
    "test_check[\"JS stack connector resistances\"][144][\"RG-3\"] = None # OL\n",
    "test_check[\"JS stack connector resistances\"][145][\"P1-OR-3\"] = None # OL\n",
    "test_check[\"JS stack connector resistances\"][146][\"P2-OR-3\"] = None # OL\n",
    "test_check[\"JS stack connector resistances\"][147][\"P3-OR-3\"] = None # OL\n",
    "test_check[\"JS stack connector resistances\"][148][\"P3-FS-3\"] = None # OL\n",
    "test_check[\"JS stack connector resistances\"][149][\"P2-FS-3\"] = None # OL\n",
    "test_check[\"JS stack connector resistances\"][150][\"P1-FS-3\"] = None # OL\n",
    "test_check[\"JS stack connector resistances\"][151][\"GND\"] = None # Ohms\n",
    "test_check[\"JS stack connector resistances\"][152][\"SDO-D-4\"] = None # MOhms\n",
    "test_check[\"JS stack connector resistances\"][153][\"GND\"] = None # Ohms\n",
    "test_check[\"JS stack connector resistances\"][154][\"SDO-C-4\"] = None # MOhms\n",
    "test_check[\"JS stack connector resistances\"][155][\"GND\"] = None # Ohms\n",
    "test_check[\"JS stack connector resistances\"][156][\"SDO-B-4\"] = None # MOhms\n",
    "test_check[\"JS stack connector resistances\"][157][\"GND\"] = None # Ohms\n",
    "test_check[\"JS stack connector resistances\"][158][\"SDO-A-4\"] = None # MOhms\n",
    "test_check[\"JS stack connector resistances\"][159][\"GND\"] = None # Ohms\n",
    "test_check[\"JS stack connector resistances\"][160][\"_DS0_\"] = None # MOhms\n",
    "test_check[\"JS stack connector resistances\"][161][\"GND\"] = None # Ohms\n",
    "test_check[\"JS stack connector resistances\"][162][\"_DS8_\"] = None # MOhms\n",
    "test_check[\"JS stack connector resistances\"][163][\"GND\"] = None # Ohms\n",
    "test_check[\"JS stack connector resistances\"][164][\"_DS16_\"] = None # MOhms\n",
    "test_check[\"JS stack connector resistances\"][165][\"GND\"] = None # Ohms\n",
    "test_check[\"JS stack connector resistances\"][166][\"_DS24_\"] = None # MOhms\n",
    "test_check[\"JS stack connector resistances\"][167][\"GND\"] = None # Ohms\n",
    "test_check[\"JS stack connector resistances\"][168][\"_DS32_\"] = None # MOhms\n",
    "test_check[\"JS stack connector resistances\"][169][\"GND\"] = None # Ohms\n",
    "test_check[\"JS stack connector resistances\"][170][\"_DS40_\"] = None # MOhms\n",
    "test_check[\"JS stack connector resistances\"][171][\"GND\"] = None # Ohms\n",
    "test_check[\"JS stack connector resistances\"][172][\"Spare1\"] = None # OL\n",
    "test_check[\"JS stack connector resistances\"][173][\"GND\"] = None # Ohms\n",
    "test_check[\"JS stack connector resistances\"][174][\"RTDCOM\"] = None # MOhms\n",
    "test_check[\"JS stack connector resistances\"][175][\"GND\"] = None # Ohms\n",
    "test_check[\"JS stack connector resistances\"][176][\"15\"] = None # MOhms\n",
    "test_check[\"JS stack connector resistances\"][177][\"GND\"] = None # Ohms\n",
    "test_check[\"JS stack connector resistances\"][178][\"-12\"] = None # MOhms\n",
    "test_check[\"JS stack connector resistances\"][179][\"GND\"] = None # Ohms\n",
    "test_check[\"JS stack connector resistances\"][180][\"5\"] = None # MOhms\n",
    "test_check[\"JS stack connector resistances\"][181][\"GND\"] = None # Ohms\n",
    "test_check[\"JS stack connector resistances\"][182][\"_DS48_\"] = None # MOhms\n",
    "test_check[\"JS stack connector resistances\"][183][\"GND\"] = None # Ohms\n",
    "test_check[\"JS stack connector resistances\"][184][\"_DS56_\"] = None # MOhms\n",
    "test_check[\"JS stack connector resistances\"][185][\"GND\"] = None # Ohms\n",
    "test_check[\"JS stack connector resistances\"][186][\"_DS64_\"] = None # MOhms\n",
    "test_check[\"JS stack connector resistances\"][187][\"GND\"] = None # Ohms\n",
    "test_check[\"JS stack connector resistances\"][188][\"_DS72_\"] = None # MOhms\n",
    "test_check[\"JS stack connector resistances\"][189][\"GND\"] = None # Ohms\n",
    "test_check[\"JS stack connector resistances\"][190][\"_DS80_\"] = None # MOhms\n",
    "test_check[\"JS stack connector resistances\"][191][\"GND\"] = None # Ohms\n",
    "test_check[\"JS stack connector resistances\"][192][\"_DS88_\"] = None # MOhms\n",
    "test_check[\"JS stack connector resistances\"][193][\"GND\"] = None # Ohms\n",
    "test_check[\"JS stack connector resistances\"][194][\"SDO-D-3\"] = None # MOhms\n",
    "test_check[\"JS stack connector resistances\"][195][\"GND\"] = None # Ohms\n",
    "test_check[\"JS stack connector resistances\"][196][\"SDO-C-3\"] = None # MOhms\n",
    "test_check[\"JS stack connector resistances\"][197][\"GND\"] = None # Ohms\n",
    "test_check[\"JS stack connector resistances\"][198][\"SDO-B-3\"] = None # MOhms\n",
    "test_check[\"JS stack connector resistances\"][199][\"GND\"] = None # Ohms\n",
    "test_check[\"JS stack connector resistances\"][200][\"SDO-A-3\"] = None # MOhms"
   ]
  },
  {
   "cell_type": "markdown",
   "metadata": {},
   "source": [
    "Executing the next cell will compare the recorded values above to the expected values, within a margin of +/- 10%.  The output should not produce any errors."
   ]
  },
  {
   "cell_type": "code",
   "execution_count": null,
   "metadata": {
    "collapsed": false
   },
   "outputs": [],
   "source": [
    "assert test_check[\"JS stack connector resistances\"][1][\"GND\"] <= 0.2\n",
    "assert 1.62 <= test_check[\"JS stack connector resistances\"][2][\"SDO-A-2\"] <= 1.98\n",
    "assert test_check[\"JS stack connector resistances\"][3][\"GND\"] <= 0.2\n",
    "assert 1.62 <= test_check[\"JS stack connector resistances\"][4][\"SDO-B-1\"] <= 1.98\n",
    "assert test_check[\"JS stack connector resistances\"][5][\"GND\"] <= 0.2\n",
    "assert 1.62 <= test_check[\"JS stack connector resistances\"][6][\"SDO-C-1\"] <= 1.98\n",
    "assert test_check[\"JS stack connector resistances\"][7][\"GND\"] <= 0.2\n",
    "assert 1.62 <= test_check[\"JS stack connector resistances\"][8][\"SDO-D-1\"] <= 1.98\n",
    "assert test_check[\"JS stack connector resistances\"][9][\"GND\"] <= 0.2\n",
    "assert 1.62 <= test_check[\"JS stack connector resistances\"][10][\"SCK\"] <= 1.98\n",
    "assert test_check[\"JS stack connector resistances\"][11][\"GND\"] <= 0.2\n",
    "assert 1.62 <= test_check[\"JS stack connector resistances\"][12][\"CNV\"] <= 1.98\n",
    "assert test_check[\"JS stack connector resistances\"][13][\"GND\"] <= 0.2\n",
    "assert 1.62 <= test_check[\"JS stack connector resistances\"][14][\"INT\"] <= 1.98\n",
    "assert test_check[\"JS stack connector resistances\"][15][\"GND\"] <= 0.2\n",
    "assert 1.62 <= test_check[\"JS stack connector resistances\"][16][\"DEINT\"] <= 1.98\n",
    "assert test_check[\"JS stack connector resistances\"][17][\"GND\"] <= 0.2\n",
    "assert 1.62 <= test_check[\"JS stack connector resistances\"][18][\"CLAMP\"] <= 1.98\n",
    "assert test_check[\"JS stack connector resistances\"][19][\"GND\"] <= 0.2\n",
    "assert 1.62 <= test_check[\"JS stack connector resistances\"][20][\"CWCLK\"] <= 1.98\n",
    "assert test_check[\"JS stack connector resistances\"][21][\"GND\"] <= 0.2\n",
    "assert 1.62 <= test_check[\"JS stack connector resistances\"][22][\"DD\"] <= 1.98\n",
    "assert test_check[\"JS stack connector resistances\"][23][\"GND\"] <= 0.2\n",
    "assert 1.62 <= test_check[\"JS stack connector resistances\"][24][\"DCK\"] <= 1.98\n",
    "assert test_check[\"JS stack connector resistances\"][25][\"GND\"] <= 0.2\n",
    "assert 1.62 <= test_check[\"JS stack connector resistances\"][26][\"SP1OR\"] <= 1.98\n",
    "assert test_check[\"JS stack connector resistances\"][27][\"GND\"] <= 0.2\n",
    "assert 1.62 <= test_check[\"JS stack connector resistances\"][28][\"SP2OR\"] <= 1.98\n",
    "assert test_check[\"JS stack connector resistances\"][29][\"GND\"] <= 0.2\n",
    "assert 1.62 <= test_check[\"JS stack connector resistances\"][30][\"SP3OR\"] <= 1.98\n",
    "assert test_check[\"JS stack connector resistances\"][31][\"GND\"] <= 0.2\n",
    "assert 1.62 <= test_check[\"JS stack connector resistances\"][32][\"SRG\"] <= 1.98\n",
    "assert test_check[\"JS stack connector resistances\"][33][\"GND\"] <= 0.2\n",
    "assert 1.62 <= test_check[\"JS stack connector resistances\"][34][\"SID\"] <= 1.98\n",
    "assert test_check[\"JS stack connector resistances\"][35][\"GND\"] <= 0.2\n",
    "assert 1.62 <= test_check[\"JS stack connector resistances\"][36][\"SP1U\"] <= 1.98\n",
    "assert test_check[\"JS stack connector resistances\"][37][\"GND\"] <= 0.2\n",
    "assert 1.62 <= test_check[\"JS stack connector resistances\"][38][\"SP2U\"] <= 1.98\n",
    "assert test_check[\"JS stack connector resistances\"][39][\"GND\"]  <= 0.2\n",
    "assert 1.62 <= test_check[\"JS stack connector resistances\"][40][\"SP3U\"] <= 1.98\n",
    "assert test_check[\"JS stack connector resistances\"][41][\"GND\"]  <= 0.2\n",
    "assert 1.62 <= test_check[\"JS stack connector resistances\"][42][\"_DS96_\"] <= 1.98\n",
    "assert test_check[\"JS stack connector resistances\"][43][\"GND\"]  <= 0.2\n",
    "assert 1.62 <= test_check[\"JS stack connector resistances\"][44][\"SDO-A-2\"] <= 1.98\n",
    "assert test_check[\"JS stack connector resistances\"][45][\"GND\"]  <= 0.2\n",
    "assert 1.62 <= test_check[\"JS stack connector resistances\"][46][\"SDO-B-2\"] <= 1.98\n",
    "assert test_check[\"JS stack connector resistances\"][47][\"GND\"]  <= 0.2\n",
    "assert 1.62 <= test_check[\"JS stack connector resistances\"][48][\"SDO-C-2\"] <= 1.98\n",
    "assert test_check[\"JS stack connector resistances\"][49][\"GND\"]  <= 0.2\n",
    "assert 1.62 <= test_check[\"JS stack connector resistances\"][50][\"SDO-D-2\"] <= 1.98\n",
    "assert test_check[\"JS stack connector resistances\"][51][\"P1-FS-1\"] >= 5.4\n",
    "assert test_check[\"JS stack connector resistances\"][52][\"P2-FS-1\"] >= 22\n",
    "assert 21.1 <= test_check[\"JS stack connector resistances\"][53][\"P3-FS-1\"] <= 25.7\n",
    "assert 7 <= test_check[\"JS stack connector resistances\"][54][\"P3-OR-1\"] <= 8.4\n",
    "assert 7 <= test_check[\"JS stack connector resistances\"][55][\"P2-OR-1\"] <= 8.4\n",
    "assert 7 <= test_check[\"JS stack connector resistances\"][56][\"P1-OR-1\"] <= 8.4\n",
    "assert 7.6 <= test_check[\"JS stack connector resistances\"][57][\"RG-1\"] <= 9.3\n",
    "assert test_check[\"JS stack connector resistances\"][58][\"P1-IA-1\"] >= 22\n",
    "assert test_check[\"JS stack connector resistances\"][59][\"P2-IA-1\"] >= 22\n",
    "assert test_check[\"JS stack connector resistances\"][60][\"P3-IA-1\"] >= 22\n",
    "assert 7.2 <= test_check[\"JS stack connector resistances\"][61][\"P1-U-1\"] <= 8.8\n",
    "assert 7.2 <= test_check[\"JS stack connector resistances\"][62][\"P2-U-1\"] <= 8.8\n",
    "assert 7.2 <= test_check[\"JS stack connector resistances\"][63][\"P3-U-1\"] <= 8.8\n",
    "assert 7.2 <= test_check[\"JS stack connector resistances\"][64][\"ID-1\"] <= 8.8\n",
    "assert 1.62 <= test_check[\"JS stack connector resistances\"][65][\"SP1-IA-1\"] <= 1.98\n",
    "assert 1.62 <= test_check[\"JS stack connector resistances\"][66][\"SP2-IA-1\"] <= 1.98\n",
    "assert 1.62 <= test_check[\"JS stack connector resistances\"][67][\"SP3-IA-1\"] <= 1.98\n",
    "assert 1.62 <= test_check[\"JS stack connector resistances\"][68][\"SP1-FS-1\"] <= 1.98\n",
    "assert 1.62 <= test_check[\"JS stack connector resistances\"][69][\"SP2-FS-1\"] <= 1.98\n",
    "assert 1.62 <= test_check[\"JS stack connector resistances\"][70][\"SP3-FS-1\"] <= 1.98\n",
    "assert 1.62 <= test_check[\"JS stack connector resistances\"][71][\"HK0\"] <= 1.98\n",
    "assert 1.62 <= test_check[\"JS stack connector resistances\"][72][\"HK8\"] <= 1.98\n",
    "assert 1.62 <= test_check[\"JS stack connector resistances\"][73][\"HK16\"] <= 1.98\n",
    "assert 1.62 <= test_check[\"JS stack connector resistances\"][74][\"HK24\"] <= 1.98\n",
    "assert 1.62 <= test_check[\"JS stack connector resistances\"][75][\"HK32\"] <= 1.98\n",
    "assert 1.62 <= test_check[\"JS stack connector resistances\"][76][\"HK40\"] <= 1.98\n",
    "assert 1.62 <= test_check[\"JS stack connector resistances\"][77][\"HK48\"] <= 1.98\n",
    "assert 1.62 <= test_check[\"JS stack connector resistances\"][78][\"HK56\"] <= 1.98\n",
    "assert 1.62 <= test_check[\"JS stack connector resistances\"][79][\"HK64\"] <= 1.98\n",
    "assert 1.62 <= test_check[\"JS stack connector resistances\"][80][\"HK72\"] <= 1.98\n",
    "assert 1.62 <= test_check[\"JS stack connector resistances\"][81][\"SP1-IA-2\"] <= 1.98\n",
    "assert 1.62 <= test_check[\"JS stack connector resistances\"][82][\"SP2-IA-2\"] <= 1.98\n",
    "assert 1.62 <= test_check[\"JS stack connector resistances\"][83][\"SP3-IA-2\"] <= 1.98\n",
    "assert 1.62 <= test_check[\"JS stack connector resistances\"][84][\"SP1-FS-2\"] <= 1.98\n",
    "assert 1.62 <= test_check[\"JS stack connector resistances\"][85][\"SP2-FS-2\"] <= 1.98\n",
    "assert 1.62 <= test_check[\"JS stack connector resistances\"][86][\"SP3-FS-2\"] <= 1.98\n",
    "assert 8 <= test_check[\"JS stack connector resistances\"][87][\"P1-FS-2\"] <= 12\n",
    "assert 8 <= test_check[\"JS stack connector resistances\"][88][\"P2-FS-2\"] <= 12\n",
    "assert 8 <= test_check[\"JS stack connector resistances\"][89][\"P3-FS-2\"] <= 12\n",
    "assert 2.5 <= test_check[\"JS stack connector resistances\"][90][\"P3-OR-2\"] <= 3.1\n",
    "assert 2.5 <= test_check[\"JS stack connector resistances\"][91][\"P2-OR-2\"] <= 3.1\n",
    "assert 2.5 <= test_check[\"JS stack connector resistances\"][92][\"P1-OR-2\"] <= 3.1\n",
    "assert 1.2 <= test_check[\"JS stack connector resistances\"][93][\"RG-2\"] <=1.45\n",
    "assert 8 <= test_check[\"JS stack connector resistances\"][94][\"P1-IA-2\"] <= 12\n",
    "assert 8 <= test_check[\"JS stack connector resistances\"][95][\"P2-IA-2\"] <= 12\n",
    "assert 8 <= test_check[\"JS stack connector resistances\"][96][\"P3-IA-2\"] <= 12\n",
    "assert 2.5 <= test_check[\"JS stack connector resistances\"][97][\"P1-U-2\"] <= 3.1\n",
    "assert 2.5 <= test_check[\"JS stack connector resistances\"][98][\"P2-U-2\"] <= 3.1\n",
    "assert 2.5 <= test_check[\"JS stack connector resistances\"][99][\"P3-U-2\"] <= 3.1\n",
    "assert 1.35 <= test_check[\"JS stack connector resistances\"][100][\"ID-2\"] <= 1.65\n",
    "assert test_check[\"JS stack connector resistances\"][101][\"ID-4\"] == \"OL\"\n",
    "assert test_check[\"JS stack connector resistances\"][102][\"P3-U-4\"] == \"OL\"\n",
    "assert test_check[\"JS stack connector resistances\"][103][\"P2-U-4\"] == \"OL\"\n",
    "assert test_check[\"JS stack connector resistances\"][104][\"P1-U-4\"] == \"OL\"\n",
    "assert test_check[\"JS stack connector resistances\"][105][\"P3-IA-4\"] == \"OL\"\n",
    "assert test_check[\"JS stack connector resistances\"][106][\"P2-IA-4\"] == \"OL\"\n",
    "assert test_check[\"JS stack connector resistances\"][107][\"P1-IA-4\"] == \"OL\"\n",
    "assert test_check[\"JS stack connector resistances\"][108][\"RG-4\"] == \"OL\"\n",
    "assert test_check[\"JS stack connector resistances\"][109][\"P1-OR-4\"] == \"OL\"\n",
    "assert test_check[\"JS stack connector resistances\"][110][\"P2-OR-4\"] == \"OL\"\n",
    "assert test_check[\"JS stack connector resistances\"][111][\"P3-OR-4\"] == \"OL\"\n",
    "assert test_check[\"JS stack connector resistances\"][112][\"P3-FS-4\"] == \"OL\"\n",
    "assert test_check[\"JS stack connector resistances\"][113][\"P2-FS-4\"] == \"OL\"\n",
    "assert test_check[\"JS stack connector resistances\"][114][\"P1-FS-4\"] == \"OL\"\n",
    "assert 1.5 <= test_check[\"JS stack connector resistances\"][115][\"SP3-FS-4\"] <= 1.9\n",
    "assert 1.5 <= test_check[\"JS stack connector resistances\"][116][\"SP2-FS-4\"] <= 1.9\n",
    "assert 1.5 <= test_check[\"JS stack connector resistances\"][117][\"SP1-FS-4\"] <= 1.9\n",
    "assert 1.5 <= test_check[\"JS stack connector resistances\"][118][\"SP3-IA-4\"] <= 1.9\n",
    "assert 1.5 <= test_check[\"JS stack connector resistances\"][119][\"SP2-IA-4\"] <= 1.9\n",
    "assert 1.5 <= test_check[\"JS stack connector resistances\"][120][\"SP1-IA-4\"] <= 1.9\n",
    "assert 1.5 <= test_check[\"JS stack connector resistances\"][121][\"HK80\"] <= 1.9\n",
    "assert 1.5 <= test_check[\"JS stack connector resistances\"][122][\"HK88\"] <= 1.9\n",
    "assert 1.5 <= test_check[\"JS stack connector resistances\"][123][\"HK96\"] <= 1.9\n",
    "assert 1.5 <= test_check[\"JS stack connector resistances\"][124][\"HK104\"] <= 1.9\n",
    "assert 1.5 <= test_check[\"JS stack connector resistances\"][125][\"HK112\"] <= 1.9\n",
    "assert 1.5 <= test_check[\"JS stack connector resistances\"][126][\"HK120\"] <= 1.9\n",
    "assert 1.5 <= test_check[\"JS stack connector resistances\"][127][\"HKA0\"] <= 1.9\n",
    "assert 1.5 <= test_check[\"JS stack connector resistances\"][128][\"HKA1\"] <= 1.9\n",
    "assert 1.5 <= test_check[\"JS stack connector resistances\"][129][\"HKA2\"] <= 1.9\n",
    "assert 315 <= test_check[\"JS stack connector resistances\"][130][\"HKCOM\"] <= 385\n",
    "assert 1.5 <= test_check[\"JS stack connector resistances\"][131][\"SP3-FS-3\"] <= 1.9\n",
    "assert 1.5 <= test_check[\"JS stack connector resistances\"][132][\"SP2-FS-3\"] <= 1.9\n",
    "assert 1.5 <= test_check[\"JS stack connector resistances\"][133][\"SP1-FS-3\"] <= 1.9\n",
    "assert 1.5 <= test_check[\"JS stack connector resistances\"][134][\"SP3-IA-3\"] <= 1.9\n",
    "assert 1.5 <= test_check[\"JS stack connector resistances\"][135][\"SP2-IA-3\"] <= 1.9\n",
    "assert 1.5 <= test_check[\"JS stack connector resistances\"][136][\"SP1-IA-3\"] <= 1.9\n",
    "assert test_check[\"JS stack connector resistances\"][137][\"ID-3\"] == \"OL\"\n",
    "assert test_check[\"JS stack connector resistances\"][138][\"P3-U-3\"] == \"OL\"\n",
    "assert test_check[\"JS stack connector resistances\"][139][\"P2-U-3\"] == \"OL\"\n",
    "assert test_check[\"JS stack connector resistances\"][140][\"P1-U-3\"] == \"OL\"\n",
    "assert test_check[\"JS stack connector resistances\"][141][\"P3-IA-3\"] == \"OL\"\n",
    "assert test_check[\"JS stack connector resistances\"][142][\"P2-IA-3\"] == \"OL\"\n",
    "assert test_check[\"JS stack connector resistances\"][143][\"P1-IA-3\"] == \"OL\"\n",
    "assert test_check[\"JS stack connector resistances\"][144][\"RG-3\"] == \"OL\"\n",
    "assert test_check[\"JS stack connector resistances\"][145][\"P1-OR-3\"] == \"OL\"\n",
    "assert test_check[\"JS stack connector resistances\"][146][\"P2-OR-3\"] == \"OL\"\n",
    "assert test_check[\"JS stack connector resistances\"][147][\"P3-OR-3\"] == \"OL\"\n",
    "assert test_check[\"JS stack connector resistances\"][148][\"P3-FS-3\"] == \"OL\"\n",
    "assert test_check[\"JS stack connector resistances\"][149][\"P2-FS-3\"] == \"OL\"\n",
    "assert test_check[\"JS stack connector resistances\"][150][\"P1-FS-3\"] == \"OL\"\n",
    "assert test_check[\"JS stack connector resistances\"][151][\"GND\"] <= 0.2\n",
    "assert 1.35 <= test_check[\"JS stack connector resistances\"][152][\"SDO-D-4\"] <= 1.65\n",
    "assert test_check[\"JS stack connector resistances\"][153][\"GND\"] <= 0.2\n",
    "assert 1.35 <= test_check[\"JS stack connector resistances\"][154][\"SDO-C-4\"] <= 1.65\n",
    "assert test_check[\"JS stack connector resistances\"][155][\"GND\"] <= 0.2\n",
    "assert 1.35 <= test_check[\"JS stack connector resistances\"][156][\"SDO-B-4\"] <= 1.65\n",
    "assert test_check[\"JS stack connector resistances\"][157][\"GND\"] <= 0.2\n",
    "assert 1.35 <= test_check[\"JS stack connector resistances\"][158][\"SDO-A-4\"] <= 1.65\n",
    "assert test_check[\"JS stack connector resistances\"][159][\"GND\"] <= 0.2\n",
    "assert 1.5 <= test_check[\"JS stack connector resistances\"][160][\"_DS0_\"] <= 1.9\n",
    "assert test_check[\"JS stack connector resistances\"][161][\"GND\"] <= 0.2\n",
    "assert 1.5 <= test_check[\"JS stack connector resistances\"][162][\"_DS8_\"] <= 1.9\n",
    "assert test_check[\"JS stack connector resistances\"][163][\"GND\"] <= 0.2\n",
    "assert 1.5 <= test_check[\"JS stack connector resistances\"][164][\"_DS16_\"] <= 1.9\n",
    "assert test_check[\"JS stack connector resistances\"][165][\"GND\"] <= 0.2\n",
    "assert 1.5 <= test_check[\"JS stack connector resistances\"][166][\"_DS24_\"] <= 1.9\n",
    "assert test_check[\"JS stack connector resistances\"][167][\"GND\"] <= 0.2\n",
    "assert 1.5 <= test_check[\"JS stack connector resistances\"][168][\"_DS32_\"] <= 1.9\n",
    "assert test_check[\"JS stack connector resistances\"][169][\"GND\"] <= 0.2\n",
    "assert 1.5 <= test_check[\"JS stack connector resistances\"][170][\"_DS40_\"] <= 1.9\n",
    "assert test_check[\"JS stack connector resistances\"][171][\"GND\"] <= 0.2\n",
    "assert test_check[\"JS stack connector resistances\"][172][\"Spare1\"] == \"OL\"\n",
    "assert test_check[\"JS stack connector resistances\"][173][\"GND\"] <= 0.2\n",
    "assert 3.6 <= test_check[\"JS stack connector resistances\"][174][\"RTDCOM\"] <= 4.4\n",
    "assert test_check[\"JS stack connector resistances\"][175][\"GND\"] <= 0.2\n",
    "assert test_check[\"JS stack connector resistances\"][176][\"15\"] >= 2\n",
    "assert test_check[\"JS stack connector resistances\"][177][\"GND\"] <= 0.2\n",
    "assert 5.4 <= test_check[\"JS stack connector resistances\"][178][\"-12\"] <= 6.6\n",
    "assert test_check[\"JS stack connector resistances\"][179][\"GND\"] <= 0.2\n",
    "assert test_check[\"JS stack connector resistances\"][180][\"5\"] >=2\n",
    "assert test_check[\"JS stack connector resistances\"][181][\"GND\"] <= 0.2\n",
    "assert 1.5 <= test_check[\"JS stack connector resistances\"][182][\"_DS48_\"] <= 1.9\n",
    "assert test_check[\"JS stack connector resistances\"][183][\"GND\"] <= 0.2\n",
    "assert 1.5 <= test_check[\"JS stack connector resistances\"][184][\"_DS56_\"] <= 1.9\n",
    "assert test_check[\"JS stack connector resistances\"][185][\"GND\"] <= 0.2\n",
    "assert 1.5 <= test_check[\"JS stack connector resistances\"][186][\"_DS64_\"] <= 1.9\n",
    "assert test_check[\"JS stack connector resistances\"][187][\"GND\"] <= 0.2\n",
    "assert 1.5 <= test_check[\"JS stack connector resistances\"][188][\"_DS72_\"] <= 1.9\n",
    "assert test_check[\"JS stack connector resistances\"][189][\"GND\"] <= 0.2\n",
    "assert 1.5 <= test_check[\"JS stack connector resistances\"][190][\"_DS80_\"] <= 1.9\n",
    "assert test_check[\"JS stack connector resistances\"][191][\"GND\"] <= 0.2\n",
    "assert 1.5 <= test_check[\"JS stack connector resistances\"][192][\"_DS88_\"] <= 1.9\n",
    "assert test_check[\"JS stack connector resistances\"][193][\"GND\"] <= 0.2\n",
    "assert 1.5 <= test_check[\"JS stack connector resistances\"][194][\"SDO-D-3\"] <= 1.9\n",
    "assert test_check[\"JS stack connector resistances\"][195][\"GND\"] <= 0.2\n",
    "assert 1.5 <= test_check[\"JS stack connector resistances\"][196][\"SDO-C-3\"] <= 1.9\n",
    "assert test_check[\"JS stack connector resistances\"][197][\"GND\"] <= 0.2\n",
    "assert 1.5 <= test_check[\"JS stack connector resistances\"][198][\"SDO-B-3\"] <= 1.9\n",
    "assert test_check[\"JS stack connector resistances\"][199][\"GND\"] <= 0.2\n",
    "assert 1.5 <= test_check[\"JS stack connector resistances\"][200][\"SDO-A-3\"] <= 1.9"
   ]
  },
  {
   "cell_type": "markdown",
   "metadata": {},
   "source": [
    "## Power On Voltage Measurements"
   ]
  },
  {
   "cell_type": "markdown",
   "metadata": {},
   "source": [
    "1) Verify that voltages on power connector from DHU Emulator are correct before connecting to test assembly. The relevant FPE 1 & FPE 2 connector pins are wired as follows: \n",
    "\n",
    "pin 1 & 5: GND\n",
    "\n",
    "pin 2 & 7: +15V\n",
    "\n",
    "pin 3 & 8: +5V\n",
    "\n",
    "pin 4 & 9: -12V\n",
    "\n",
    "(pin 6 is NC in 6.2 Interface design, but DHU FPE1 connector pin 6 is wired to FPE2 connector pin 6.)"
   ]
  },
  {
   "cell_type": "markdown",
   "metadata": {},
   "source": [
    "Set up the dictionary to hold the results:"
   ]
  },
  {
   "cell_type": "code",
   "execution_count": 22,
   "metadata": {
    "collapsed": true
   },
   "outputs": [],
   "source": [
    "test_check[\"Power On Measurements\"]={}"
   ]
  },
  {
   "cell_type": "markdown",
   "metadata": {},
   "source": [
    "Record the voltage measurements:"
   ]
  },
  {
   "cell_type": "code",
   "execution_count": 27,
   "metadata": {
    "collapsed": false
   },
   "outputs": [],
   "source": [
    "test_check[\"Power On Measurements\"][\"+5V\"] = None # Volts\n",
    "test_check[\"Power On Measurements\"][\"+15V\"] =  None # Volts\n",
    "test_check[\"Power On Measurements\"][\"-12V\"] =  None # Volts"
   ]
  },
  {
   "cell_type": "markdown",
   "metadata": {},
   "source": [
    "Now see if the values are within tolerance:"
   ]
  },
  {
   "cell_type": "code",
   "execution_count": 28,
   "metadata": {
    "collapsed": false
   },
   "outputs": [],
   "source": [
    "assert 4.75 <= test_check[\"Power On Measurements\"][\"+5V\"] <= 5.25\n",
    "assert 14.25 <= test_check[\"Power On Measurements\"][\"+15V\"] <= 15.75\n",
    "assert -12.6 <= test_check[\"Power On Measurements\"][\"-12V\"] <= -11.4"
   ]
  },
  {
   "cell_type": "markdown",
   "metadata": {},
   "source": [
    "2) Connect DHU power cable to test assembly J7. Measure voltages again, along with currents. Current measurements are made on the DHE Emulator front panel using a DMM.  The output voltages at the measurement ports have a scale value of 1V/A."
   ]
  },
  {
   "cell_type": "code",
   "execution_count": 29,
   "metadata": {
    "collapsed": true
   },
   "outputs": [],
   "source": [
    "test_check[\"Power On Measurements Connected\"]={}"
   ]
  },
  {
   "cell_type": "markdown",
   "metadata": {},
   "source": [
    "Record the voltage and current measurements:"
   ]
  },
  {
   "cell_type": "code",
   "execution_count": 31,
   "metadata": {
    "collapsed": true
   },
   "outputs": [],
   "source": [
    "test_check[\"Power On Measurements Connected\"][\"+5V\"] = None # Volts\n",
    "test_check[\"Power On Measurements Connected\"][\"+5V Current\"] = None # milliamps\n",
    "test_check[\"Power On Measurements Connected\"][\"+15V\"] = None # Volts\n",
    "test_check[\"Power On Measurements Connected\"][\"+15V Current\"] = None # milliamps\n",
    "test_check[\"Power On Measurements Connected\"][\"-12V\"] = None # Volts\n",
    "test_check[\"Power On Measurements Connected\"][\"12V Current\"] = None # milliamps"
   ]
  },
  {
   "cell_type": "code",
   "execution_count": null,
   "metadata": {
    "collapsed": false
   },
   "outputs": [],
   "source": [
    "assert 4.75 <= test_check[\"Power On Measurements\"][\"+5V\"] <= 5.25\n",
    "assert 187 <= test_check[\"Power On Measurements Connected\"][\"+5V Current\"] <= 207\n",
    "assert 14.25 <= test_check[\"Power On Measurements\"][\"+15V\"] <= 15.75\n",
    "assert 12.8 <= test_check[\"Power On Measurements Connected\"][\"+15V Current\"] <= 14.2\n",
    "assert -12.6 <= test_check[\"Power On Measurements\"][\"-12V\"] <= -11.4\n",
    "assert 24.1 <= test_check[\"Power On Measurements Connected\"][\"12V Current\"] <= 26.7"
   ]
  },
  {
   "cell_type": "markdown",
   "metadata": {},
   "source": [
    "3) Capture FLIR images; check for hot spots. Use a service like Flickr to upload your photo and paste the URL below, in place of the placeholder image.\n",
    "\n",
    "You will need to double-click the active area to the left of the image to see the embedded link, then delete it and replace it with your new link.  For Flickr, use the link given at \"Share Photo\" then \"Embed\".  Hit shift-enter to run the cell and see the image."
   ]
  },
  {
   "cell_type": "markdown",
   "metadata": {},
   "source": [
    "<!-- Delete the mock below and put in a real image -->\n",
    "\n",
    "<a data-flickr-embed=\"true\"  href=\"https://www.flickr.com/photos/135953480@N06/22504227741/in/dateposted-public/\" title=\"TESS_Placeholder\"><img src=\"https://farm1.staticflickr.com/627/22504227741_da029de321_m.jpg\" width=\"218\" height=\"218\" alt=\"TESS_Placeholder\"></a><script async src=\"//embedr.flickr.com/assets/client-code.js\" charset=\"utf-8\"></script>"
   ]
  },
  {
   "cell_type": "markdown",
   "metadata": {},
   "source": [
    "## Testing basic FPGA functions and Loading Default Parameters"
   ]
  },
  {
   "cell_type": "markdown",
   "metadata": {},
   "source": [
    "### Start the Observatory Simulator and Load the FPE FPGA"
   ]
  },
  {
   "cell_type": "markdown",
   "metadata": {},
   "source": [
    "Remember that whenever you power-cycle the Observatory Simulator, you should set `preload=True` below.\n",
    "\n",
    "When you are running this notebook and it has *not* been power cycled, you should set `preload=False`.\n",
    "\n",
    "Make sure that FPE has both power and data cables connected, and make sure that the FPE is connected to the \"FPE 1\" socket on the observatory simulator. Execute the cell below to program the FPGA:"
   ]
  },
  {
   "cell_type": "code",
   "execution_count": 41,
   "metadata": {
    "collapsed": false
   },
   "outputs": [
    {
     "name": "stdout",
     "output_type": "stream",
     "text": [
      "Observatory Simulator Version 1.6c - Oct  8 2015 11:55:03\n",
      "Wrapper load complete. Interface voltages OK.\n"
     ]
    }
   ],
   "source": [
    "from tessfpe.dhu.fpe import FPE\n",
    "from tessfpe.dhu.unit_tests import check_house_keeping_voltages\n",
    "fpe1 = FPE(1, debug=False, preload=True, FPE_Wrapper_version='6.1.1')\n",
    "print fpe1.version\n",
    "if check_house_keeping_voltages(fpe1):\n",
    "    print \"Wrapper load complete. Interface voltages OK.\""
   ]
  },
  {
   "cell_type": "markdown",
   "metadata": {},
   "source": [
    "### Set the operating parameters to their default values:"
   ]
  },
  {
   "cell_type": "code",
   "execution_count": 42,
   "metadata": {
    "collapsed": false
   },
   "outputs": [
    {
     "data": {
      "text/plain": [
       "{'ccd1_backside': 0.0,\n",
       " 'ccd1_input_diode_high': 12.0,\n",
       " 'ccd1_input_diode_low': 12.0,\n",
       " 'ccd1_input_gate_1': -3.0,\n",
       " 'ccd1_input_gate_2': -3.0,\n",
       " 'ccd1_output_drain_a_offset': 8.0,\n",
       " 'ccd1_output_drain_b_offset': 8.0,\n",
       " 'ccd1_output_drain_c_offset': 8.0,\n",
       " 'ccd1_output_drain_d_offset': 8.0,\n",
       " 'ccd1_output_gate': -1.0,\n",
       " 'ccd1_parallel_high_offset': 0.0,\n",
       " 'ccd1_parallel_low': -8.0,\n",
       " 'ccd1_reset_drain': 12.0,\n",
       " 'ccd1_reset_high': 3.0,\n",
       " 'ccd1_reset_low_offset': -3.0,\n",
       " 'ccd1_scupper': 12.0,\n",
       " 'ccd1_serial_high': 4.0,\n",
       " 'ccd1_serial_low_offset': -6.0,\n",
       " 'ccd1_substrate': -40.0,\n",
       " 'ccd2_backside': 0.0,\n",
       " 'ccd2_input_diode_high': 12.0,\n",
       " 'ccd2_input_diode_low': 12.0,\n",
       " 'ccd2_input_gate_1': -3.0,\n",
       " 'ccd2_input_gate_2': -3.0,\n",
       " 'ccd2_output_drain_a_offset': 8.0,\n",
       " 'ccd2_output_drain_b_offset': 8.0,\n",
       " 'ccd2_output_drain_c_offset': 8.0,\n",
       " 'ccd2_output_drain_d_offset': 8.0,\n",
       " 'ccd2_output_gate': -1.0,\n",
       " 'ccd2_parallel_high_offset': 0.0,\n",
       " 'ccd2_parallel_low': -8.0,\n",
       " 'ccd2_reset_drain': 12.0,\n",
       " 'ccd2_reset_high': 3.0,\n",
       " 'ccd2_reset_low_offset': -3.0,\n",
       " 'ccd2_scupper': 12.0,\n",
       " 'ccd2_serial_high': 4.0,\n",
       " 'ccd2_serial_low_offset': -6.0,\n",
       " 'ccd2_substrate': -40.0,\n",
       " 'ccd3_backside': 0.0,\n",
       " 'ccd3_input_diode_high': 12.0,\n",
       " 'ccd3_input_diode_low': 12.0,\n",
       " 'ccd3_input_gate_1': -3.0,\n",
       " 'ccd3_input_gate_2': -3.0,\n",
       " 'ccd3_output_drain_a_offset': 8.0,\n",
       " 'ccd3_output_drain_b_offset': 8.0,\n",
       " 'ccd3_output_drain_c_offset': 8.0,\n",
       " 'ccd3_output_drain_d_offset': 8.0,\n",
       " 'ccd3_output_gate': -1.0,\n",
       " 'ccd3_parallel_high_offset': 0.0,\n",
       " 'ccd3_parallel_low': -8.0,\n",
       " 'ccd3_reset_drain': 12.0,\n",
       " 'ccd3_reset_high': 3.0,\n",
       " 'ccd3_reset_low_offset': -3.0,\n",
       " 'ccd3_scupper': 12.0,\n",
       " 'ccd3_serial_high': 4.0,\n",
       " 'ccd3_serial_low_offset': -6.0,\n",
       " 'ccd3_substrate': -40.0,\n",
       " 'ccd4_backside': 0.0,\n",
       " 'ccd4_input_diode_high': 12.0,\n",
       " 'ccd4_input_diode_low': 12.0,\n",
       " 'ccd4_input_gate_1': -3.0,\n",
       " 'ccd4_input_gate_2': -3.0,\n",
       " 'ccd4_output_drain_a_offset': 8.0,\n",
       " 'ccd4_output_drain_b_offset': 8.0,\n",
       " 'ccd4_output_drain_c_offset': 8.0,\n",
       " 'ccd4_output_drain_d_offset': 8.0,\n",
       " 'ccd4_output_gate': -1.0,\n",
       " 'ccd4_parallel_high_offset': 0.0,\n",
       " 'ccd4_parallel_low': -8.0,\n",
       " 'ccd4_reset_drain': 12.0,\n",
       " 'ccd4_reset_high': 3.0,\n",
       " 'ccd4_reset_low_offset': -3.0,\n",
       " 'ccd4_scupper': 12.0,\n",
       " 'ccd4_serial_high': 4.0,\n",
       " 'ccd4_serial_low_offset': -6.0,\n",
       " 'ccd4_substrate': -40.0,\n",
       " 'heater_1_current': 0.0,\n",
       " 'heater_2_current': 0.0,\n",
       " 'heater_3_current': 0.0}"
      ]
     },
     "execution_count": 42,
     "metadata": {},
     "output_type": "execute_result"
    }
   ],
   "source": [
    "from tessfpe.data.operating_parameters import operating_parameters\n",
    "def set_fpe_defaults(fpe):\n",
    "    \"Set the FPE to the default operating parameters and return a list of the default values\"\n",
    "    defaults = {}\n",
    "    for k in range(len(fpe.ops.address)):\n",
    "        if fpe.ops.address[k] is None:\n",
    "            continue\n",
    "        fpe.ops.address[k].value = fpe.ops.address[k].default\n",
    "        defaults[fpe.ops.address[k].name] = fpe.ops.address[k].default\n",
    "    return defaults\n",
    "\n",
    "# Print out the default values\n",
    "set_fpe_defaults(fpe1)\n"
   ]
  },
  {
   "cell_type": "markdown",
   "metadata": {},
   "source": [
    "### With Default Parameters Loaded, Continue Power ON Voltage Measurements"
   ]
  },
  {
   "cell_type": "markdown",
   "metadata": {},
   "source": [
    "#### Measure voltages on all JS stack connector pins (= Driver safe-to-mate)"
   ]
  },
  {
   "cell_type": "code",
   "execution_count": 43,
   "metadata": {
    "collapsed": true
   },
   "outputs": [],
   "source": [
    "from collections import defaultdict\n",
    "test_check[\"JS stack connector voltages\"] = defaultdict(dict)"
   ]
  },
  {
   "cell_type": "code",
   "execution_count": null,
   "metadata": {
    "collapsed": true
   },
   "outputs": [],
   "source": [
    "test_check[\"JS stack connector voltages\"][1][\"GND\"] = None\n",
    "test_check[\"JS stack connector voltages\"][2][\"SDO-A-1\"] = None\n",
    "test_check[\"JS stack connector voltages\"][3][\"GND\"] = None\n",
    "test_check[\"JS stack connector voltages\"][4][\"SDO-B-1\"] = None\n",
    "test_check[\"JS stack connector voltages\"][5][\"GND\"] = None\n",
    "test_check[\"JS stack connector voltages\"][6][\"SDO-C-1\"] = None\n",
    "test_check[\"JS stack connector voltages\"][7][\"GND\"] = None\n",
    "test_check[\"JS stack connector voltages\"][8][\"SDO-D-1\"] = None\n",
    "test_check[\"JS stack connector voltages\"][9][\"GND\"] = None\n",
    "test_check[\"JS stack connector voltages\"][10][\"SCK\"] = None\n",
    "test_check[\"JS stack connector voltages\"][11][\"GND\"] = None\n",
    "test_check[\"JS stack connector voltages\"][12][\"CNV\"] = None\n",
    "test_check[\"JS stack connector voltages\"][13][\"GND\"] = None\n",
    "test_check[\"JS stack connector voltages\"][14][\"INT\"] = None\n",
    "test_check[\"JS stack connector voltages\"][15][\"GND\"] = None\n",
    "test_check[\"JS stack connector voltages\"][16][\"DEINT\"] = None\n",
    "test_check[\"JS stack connector voltages\"][17][\"GND\"] = None\n",
    "test_check[\"JS stack connector voltages\"][18][\"CLAMP\"] = None\n",
    "test_check[\"JS stack connector voltages\"][19][\"GND\"] = None\n",
    "test_check[\"JS stack connector voltages\"][20][\"CWCLK\"] = None\n",
    "test_check[\"JS stack connector voltages\"][21][\"GND\"] = None\n",
    "test_check[\"JS stack connector voltages\"][22][\"DD\"] = None\n",
    "test_check[\"JS stack connector voltages\"][23][\"GND\"] = None\n",
    "test_check[\"JS stack connector voltages\"][24][\"DCK\"] = None\n",
    "test_check[\"JS stack connector voltages\"][25][\"GND\"] = None\n",
    "test_check[\"JS stack connector voltages\"][26][\"SP1OR\"] = None\n",
    "test_check[\"JS stack connector voltages\"][27][\"GND\"] = None\n",
    "test_check[\"JS stack connector voltages\"][28][\"SP2OR\"] = None\n",
    "test_check[\"JS stack connector voltages\"][29][\"GND\"] = None\n",
    "test_check[\"JS stack connector voltages\"][30][\"SP3OR\"] = None\n",
    "test_check[\"JS stack connector voltages\"][31][\"GND\"] = None\n",
    "test_check[\"JS stack connector voltages\"][32][\"SRG\"] = None\n",
    "test_check[\"JS stack connector voltages\"][33][\"GND\"] = None\n",
    "test_check[\"JS stack connector voltages\"][34][\"SID\"] = None\n",
    "test_check[\"JS stack connector voltages\"][35][\"GND\"] = None\n",
    "test_check[\"JS stack connector voltages\"][36][\"SP1U\"] = None\n",
    "test_check[\"JS stack connector voltages\"][37][\"GND\"] = None\n",
    "test_check[\"JS stack connector voltages\"][38][\"SP2U\"] = None\n",
    "test_check[\"JS stack connector voltages\"][39][\"GND\"] = None\n",
    "test_check[\"JS stack connector voltages\"][40][\"SP3U\"] = None\n",
    "test_check[\"JS stack connector voltages\"][41][\"GND\"] = None\n",
    "test_check[\"JS stack connector voltages\"][42][\"_DS96_\"] = None\n",
    "test_check[\"JS stack connector voltages\"][43][\"GND\"] = None\n",
    "test_check[\"JS stack connector voltages\"][44][\"SDO-A-2\"] = None\n",
    "test_check[\"JS stack connector voltages\"][45][\"GND\"] = None\n",
    "test_check[\"JS stack connector voltages\"][46][\"SDO-B-2\"] = None\n",
    "test_check[\"JS stack connector voltages\"][47][\"GND\"] = None\n",
    "test_check[\"JS stack connector voltages\"][48][\"SDO-C-2\"] = None\n",
    "test_check[\"JS stack connector voltages\"][49][\"GND\"] = None\n",
    "test_check[\"JS stack connector voltages\"][50][\"SDO-D-2\"] = None\n",
    "test_check[\"JS stack connector voltages\"][51][\"P1-FS-1\"] = None\n",
    "test_check[\"JS stack connector voltages\"][52][\"P2-FS-1\"] = None\n",
    "test_check[\"JS stack connector voltages\"][53][\"P3-FS-1\"] = None\n",
    "test_check[\"JS stack connector voltages\"][54][\"P3-OR-1\"] = None\n",
    "test_check[\"JS stack connector voltages\"][55][\"P2-OR-1\"] = None\n",
    "test_check[\"JS stack connector voltages\"][56][\"P1-OR-1\"] = None\n",
    "test_check[\"JS stack connector voltages\"][57][\"RG-1\"] = None\n",
    "test_check[\"JS stack connector voltages\"][58][\"P1-IA-1\"] = None\n",
    "test_check[\"JS stack connector voltages\"][59][\"P2-IA-1\"] = None\n",
    "test_check[\"JS stack connector voltages\"][60][\"P3-IA-1\"] = None\n",
    "test_check[\"JS stack connector voltages\"][61][\"P1-U-1\"] = None\n",
    "test_check[\"JS stack connector voltages\"][62][\"P2-U-1\"] = None\n",
    "test_check[\"JS stack connector voltages\"][63][\"P3-U-1\"] = None\n",
    "test_check[\"JS stack connector voltages\"][64][\"ID-1\"] = None\n",
    "test_check[\"JS stack connector voltages\"][65][\"SP1-IA-1\"] = None\n",
    "test_check[\"JS stack connector voltages\"][66][\"SP2-IA-1\"] = None\n",
    "test_check[\"JS stack connector voltages\"][67][\"SP3-IA-1\"] = None\n",
    "test_check[\"JS stack connector voltages\"][68][\"SP1-FS-1\"] = None\n",
    "test_check[\"JS stack connector voltages\"][69][\"SP2-FS-1\"] = None\n",
    "test_check[\"JS stack connector voltages\"][70][\"SP3-FS-1\"] = None\n",
    "test_check[\"JS stack connector voltages\"][71][\"HK0\"] = None\n",
    "test_check[\"JS stack connector voltages\"][72][\"HK8\"] = None\n",
    "test_check[\"JS stack connector voltages\"][73][\"HK16\"] = None\n",
    "test_check[\"JS stack connector voltages\"][74][\"HK24\"] = None\n",
    "test_check[\"JS stack connector voltages\"][75][\"HK32\"] = None\n",
    "test_check[\"JS stack connector voltages\"][76][\"HK40\"] = None\n",
    "test_check[\"JS stack connector voltages\"][77][\"HK48\"] = None\n",
    "test_check[\"JS stack connector voltages\"][78][\"HK56\"] = None\n",
    "test_check[\"JS stack connector voltages\"][79][\"HK64\"] = None\n",
    "test_check[\"JS stack connector voltages\"][80][\"HK72\"] = None\n",
    "test_check[\"JS stack connector voltages\"][81][\"SP1-IA-2\"] = None\n",
    "test_check[\"JS stack connector voltages\"][82][\"SP2-IA-2\"] = None\n",
    "test_check[\"JS stack connector voltages\"][83][\"SP3-IA-2\"] = None\n",
    "test_check[\"JS stack connector voltages\"][84][\"SP1-FS-2\"] = None\n",
    "test_check[\"JS stack connector voltages\"][85][\"SP2-FS-2\"] = None\n",
    "test_check[\"JS stack connector voltages\"][86][\"SP3-FS-2\"] = None\n",
    "test_check[\"JS stack connector voltages\"][87][\"P1-FS-2\"] = None\n",
    "test_check[\"JS stack connector voltages\"][88][\"P2-FS-2\"] = None\n",
    "test_check[\"JS stack connector voltages\"][89][\"P3-FS-2\"] = None\n",
    "test_check[\"JS stack connector voltages\"][90][\"P3-OR-2\"] = None\n",
    "test_check[\"JS stack connector voltages\"][91][\"P2-OR-2\"] = None\n",
    "test_check[\"JS stack connector voltages\"][92][\"P1-OR-2\"] = None\n",
    "test_check[\"JS stack connector voltages\"][93][\"RG-2\"] = None\n",
    "test_check[\"JS stack connector voltages\"][94][\"P1-IA-2\"] = None\n",
    "test_check[\"JS stack connector voltages\"][95][\"P2-IA-2\"] = None\n",
    "test_check[\"JS stack connector voltages\"][96][\"P3-IA-2\"] = None\n",
    "test_check[\"JS stack connector voltages\"][97][\"P1-U-2\"] = None\n",
    "test_check[\"JS stack connector voltages\"][98][\"P2-U-2\"] = None\n",
    "test_check[\"JS stack connector voltages\"][99][\"P3-U-2\"] = None\n",
    "test_check[\"JS stack connector voltages\"][100][\"ID-2\"] = None\n",
    "test_check[\"JS stack connector voltages\"][101][\"ID-4\"] = None\n",
    "test_check[\"JS stack connector voltages\"][102][\"P3-U-4\"] = None\n",
    "test_check[\"JS stack connector voltages\"][103][\"P2-U-4\"] = None\n",
    "test_check[\"JS stack connector voltages\"][104][\"P1-U-4\"] = None\n",
    "test_check[\"JS stack connector voltages\"][105][\"P3-IA-4\"] = None\n",
    "test_check[\"JS stack connector voltages\"][106][\"P2-IA-4\"] = None\n",
    "test_check[\"JS stack connector voltages\"][107][\"P1-IA-4\"] = None\n",
    "test_check[\"JS stack connector voltages\"][108][\"RG-4\"] = None\n",
    "test_check[\"JS stack connector voltages\"][109][\"P1-OR-4\"] = None\n",
    "test_check[\"JS stack connector voltages\"][110][\"P2-OR-4\"] = None\n",
    "test_check[\"JS stack connector voltages\"][111][\"P3-OR-4\"] = None\n",
    "test_check[\"JS stack connector voltages\"][112][\"P3-FS-4\"] = None\n",
    "test_check[\"JS stack connector voltages\"][113][\"P2-FS-4\"] = None\n",
    "test_check[\"JS stack connector voltages\"][114][\"P1-FS-4\"] = None\n",
    "test_check[\"JS stack connector voltages\"][115][\"SP3-FS-4\"] = None\n",
    "test_check[\"JS stack connector voltages\"][116][\"SP2-FS-4\"] = None\n",
    "test_check[\"JS stack connector voltages\"][117][\"SP1-FS-4\"] = None\n",
    "test_check[\"JS stack connector voltages\"][118][\"SP3-IA-4\"] = None\n",
    "test_check[\"JS stack connector voltages\"][119][\"SP2-IA-4\"] = None\n",
    "test_check[\"JS stack connector voltages\"][120][\"SP1-IA-4\"] = None\n",
    "test_check[\"JS stack connector voltages\"][121][\"HK80\"] = None\n",
    "test_check[\"JS stack connector voltages\"][122][\"HK88\"] = None\n",
    "test_check[\"JS stack connector voltages\"][123][\"HK96\"] = None\n",
    "test_check[\"JS stack connector voltages\"][124][\"HK104\"] = None\n",
    "test_check[\"JS stack connector voltages\"][125][\"HK112\"] = None\n",
    "test_check[\"JS stack connector voltages\"][126][\"HK120\"] = None\n",
    "test_check[\"JS stack connector voltages\"][127][\"HKA0\"] = None\n",
    "test_check[\"JS stack connector voltages\"][128][\"HKA1\"] = None\n",
    "test_check[\"JS stack connector voltages\"][129][\"HKA2\"] = None\n",
    "test_check[\"JS stack connector voltages\"][130][\"HKCOM\"] = None\n",
    "test_check[\"JS stack connector voltages\"][131][\"SP3-FS-3\"] = None\n",
    "test_check[\"JS stack connector voltages\"][132][\"SP2-FS-3\"] = None\n",
    "test_check[\"JS stack connector voltages\"][133][\"SP1-FS-3\"] = None\n",
    "test_check[\"JS stack connector voltages\"][134][\"SP3-IA-3\"] = None\n",
    "test_check[\"JS stack connector voltages\"][135][\"SP2-IA-3\"] = None\n",
    "test_check[\"JS stack connector voltages\"][136][\"SP1-IA-3\"] = None\n",
    "test_check[\"JS stack connector voltages\"][137][\"ID-3\"] = None\n",
    "test_check[\"JS stack connector voltages\"][138][\"P3-U-3\"] = None\n",
    "test_check[\"JS stack connector voltages\"][139][\"P2-U-3\"] = None\n",
    "test_check[\"JS stack connector voltages\"][140][\"P1-U-3\"] = None\n",
    "test_check[\"JS stack connector voltages\"][141][\"P3-IA-3\"] = None\n",
    "test_check[\"JS stack connector voltages\"][142][\"P2-IA-3\"] = None\n",
    "test_check[\"JS stack connector voltages\"][143][\"P1-IA-3\"] = None\n",
    "test_check[\"JS stack connector voltages\"][144][\"RG-3\"] = None\n",
    "test_check[\"JS stack connector voltages\"][145][\"P1-OR-3\"] = None\n",
    "test_check[\"JS stack connector voltages\"][146][\"P2-OR-3\"] = None\n",
    "test_check[\"JS stack connector voltages\"][147][\"P3-OR-3\"] = None\n",
    "test_check[\"JS stack connector voltages\"][148][\"P3-FS-3\"] = None\n",
    "test_check[\"JS stack connector voltages\"][149][\"P2-FS-3\"] = None\n",
    "test_check[\"JS stack connector voltages\"][150][\"P1-FS-3\"] = None\n",
    "test_check[\"JS stack connector voltages\"][151][\"GND\"] = None\n",
    "test_check[\"JS stack connector voltages\"][152][\"SDO-D-4\"] = None\n",
    "test_check[\"JS stack connector voltages\"][153][\"GND\"] = None\n",
    "test_check[\"JS stack connector voltages\"][154][\"SDO-C-4\"] = None\n",
    "test_check[\"JS stack connector voltages\"][155][\"GND\"] = None\n",
    "test_check[\"JS stack connector voltages\"][156][\"SDO-B-4\"] = None\n",
    "test_check[\"JS stack connector voltages\"][157][\"GND\"] = None\n",
    "test_check[\"JS stack connector voltages\"][158][\"SDO-A-4\"] = None\n",
    "test_check[\"JS stack connector voltages\"][159][\"GND\"] = None\n",
    "test_check[\"JS stack connector voltages\"][160][\"_DS0_\"] = None\n",
    "test_check[\"JS stack connector voltages\"][161][\"GND\"] = None\n",
    "test_check[\"JS stack connector voltages\"][162][\"_DS8_\"] = None\n",
    "test_check[\"JS stack connector voltages\"][163][\"GND\"] = None\n",
    "test_check[\"JS stack connector voltages\"][164][\"_DS16_\"] = None\n",
    "test_check[\"JS stack connector voltages\"][165][\"GND\"] = None\n",
    "test_check[\"JS stack connector voltages\"][166][\"_DS24_\"] = None\n",
    "test_check[\"JS stack connector voltages\"][167][\"GND\"] = None\n",
    "test_check[\"JS stack connector voltages\"][168][\"_DS32_\"] = None\n",
    "test_check[\"JS stack connector voltages\"][169][\"GND\"] = None\n",
    "test_check[\"JS stack connector voltages\"][170][\"_DS40_\"] = None\n",
    "test_check[\"JS stack connector voltages\"][171][\"GND\"] = None\n",
    "test_check[\"JS stack connector voltages\"][172][\"\"] = None\n",
    "test_check[\"JS stack connector voltages\"][173][\"GND\"] = None\n",
    "test_check[\"JS stack connector voltages\"][174][\"RTDCOM\"] = None\n",
    "test_check[\"JS stack connector voltages\"][175][\"GND\"] = None\n",
    "test_check[\"JS stack connector voltages\"][176][\"15\"] = None\n",
    "test_check[\"JS stack connector voltages\"][177][\"GND\"] = None\n",
    "test_check[\"JS stack connector voltages\"][178][\"-12\"] = None\n",
    "test_check[\"JS stack connector voltages\"][179][\"GND\"] = None\n",
    "test_check[\"JS stack connector voltages\"][180][\"5\"] = None\n",
    "test_check[\"JS stack connector voltages\"][181][\"GND\"] = None\n",
    "test_check[\"JS stack connector voltages\"][182][\"_DS48_\"] = None\n",
    "test_check[\"JS stack connector voltages\"][183][\"GND\"] = None\n",
    "test_check[\"JS stack connector voltages\"][184][\"_DS56_\"] = None\n",
    "test_check[\"JS stack connector voltages\"][185][\"GND\"] = None\n",
    "test_check[\"JS stack connector voltages\"][186][\"_DS64_\"] = None\n",
    "test_check[\"JS stack connector voltages\"][187][\"GND\"] = None\n",
    "test_check[\"JS stack connector voltages\"][188][\"_DS72_\"] = None\n",
    "test_check[\"JS stack connector voltages\"][189][\"GND\"] = None\n",
    "test_check[\"JS stack connector voltages\"][190][\"_DS80_\"] = None\n",
    "test_check[\"JS stack connector voltages\"][191][\"GND\"] = None\n",
    "test_check[\"JS stack connector voltages\"][192][\"_DS88_\"] = None\n",
    "test_check[\"JS stack connector voltages\"][193][\"GND\"] = None\n",
    "test_check[\"JS stack connector voltages\"][194][\"SDO-D-3\"] = None\n",
    "test_check[\"JS stack connector voltages\"][195][\"GND\"] = None\n",
    "test_check[\"JS stack connector voltages\"][196][\"SDO-C-3\"] = None\n",
    "test_check[\"JS stack connector voltages\"][197][\"GND\"] = None\n",
    "test_check[\"JS stack connector voltages\"][198][\"SDO-B-3\"] = None\n",
    "test_check[\"JS stack connector voltages\"][199][\"GND\"] = None\n",
    "test_check[\"JS stack connector voltages\"][200][\"SDO-A-3\"] = None"
   ]
  },
  {
   "cell_type": "markdown",
   "metadata": {},
   "source": [
    "Executing the next cell will compare the recorded values above to the expected values, within a margin of +/- 10%.  The output should not produce any errors."
   ]
  },
  {
   "cell_type": "code",
   "execution_count": null,
   "metadata": {
    "collapsed": true,
    "scrolled": false
   },
   "outputs": [],
   "source": [
    "#TODO check values against reference values"
   ]
  },
  {
   "cell_type": "markdown",
   "metadata": {},
   "source": [
    "#### Verify the image capturing function:"
   ]
  },
  {
   "cell_type": "markdown",
   "metadata": {},
   "source": [
    "5) Issue the start frames command."
   ]
  },
  {
   "cell_type": "code",
   "execution_count": 127,
   "metadata": {
    "collapsed": true
   },
   "outputs": [],
   "source": [
    "# TODO Insert start_frames command"
   ]
  },
  {
   "cell_type": "code",
   "execution_count": 48,
   "metadata": {
    "collapsed": false
   },
   "outputs": [
    {
     "data": {
      "text/plain": [
       "'Frames Stopped...'"
      ]
     },
     "execution_count": 48,
     "metadata": {},
     "output_type": "execute_result"
    }
   ],
   "source": [
    "fpe1.cmd_stop_frames() "
   ]
  },
  {
   "cell_type": "markdown",
   "metadata": {},
   "source": [
    "6) Capture an image and display it. Note that with only the Interface Board connected, the captured image should be comprised entirely of pixels with a value of -1."
   ]
  },
  {
   "cell_type": "code",
   "execution_count": 131,
   "metadata": {
    "collapsed": true
   },
   "outputs": [],
   "source": [
    "# TODO Insert capture image commands"
   ]
  },
  {
   "cell_type": "markdown",
   "metadata": {},
   "source": [
    "7) Issue the stop frames command."
   ]
  },
  {
   "cell_type": "code",
   "execution_count": 129,
   "metadata": {
    "collapsed": true
   },
   "outputs": [],
   "source": [
    "# TODO Insert stop_frames command"
   ]
  },
  {
   "cell_type": "markdown",
   "metadata": {},
   "source": [
    "2) Take a set of housekeeping data."
   ]
  },
  {
   "cell_type": "code",
   "execution_count": null,
   "metadata": {
    "collapsed": false
   },
   "outputs": [],
   "source": [
    "from tessfpe.data.housekeeping_channels import housekeeping_channels\n",
    "housekeeping_channels"
   ]
  },
  {
   "cell_type": "code",
   "execution_count": null,
   "metadata": {
    "collapsed": true
   },
   "outputs": [],
   "source": [
    "# TODO compare measured to reference values"
   ]
  },
  {
   "cell_type": "markdown",
   "metadata": {},
   "source": [
    "<pre>\n",
    "- FPE Test Procedures\n",
    "\t- FPE Bring-up Procedure (Check boxes for board type? Flight or not?)\n",
    "\t\t- Verify work area is ESD safe\n",
    "\t\t- Setup per diagram, take photos\n",
    "\t\t- Note test equipment model #'s and serial #'s\n",
    "\t\t- Standard inspections for all 3 PCB types; capture images\n",
    "\t\t\t- Weigh assembly, note non-flight configurations\n",
    "\t\t\t- Visual inspection under stereo microscope\n",
    "\t\t\t\t- Workmanship and mechanical damage\n",
    "\t\t\t\t- DNP parts not installed\n",
    "\t\t\t\t- No missing components\n",
    "\t\t\t\tVerify req'd jumpers installed\n",
    "\t\t\t\tComponent orientation (chips, polarized caps, diodes, etc)\n",
    "\t\t\t\tVerify chips are correct parts (& date codes if specified in design)\n",
    "\t\t\t\tVerify connector savers installed if req'd\n",
    "                \n",
    "\t\tPower OFF resistance measurements (compare to reference values)\n",
    "\t\t\tPower lines\n",
    "\t\t\tStack connector\n",
    "\t\t\tCCD connectors (video only) Maybe delete this? Discuss.\n",
    "\t\t\tTemp connector (video only)\n",
    "\t\tPower ON voltage measurements (compare to reference values/images)\n",
    "\t\t\tDHU supply voltages before connection to setup\n",
    "\t\t\tDHU supply voltages and currents with setup connected\n",
    "\t\t\tCapture FLIR images; check for hot spots\n",
    "            Program FPGA\n",
    "\t\t\tStart frames\n",
    "\t\t\t\tTake raw image as verification that FPGA was programmed OK\n",
    "\t\t\tStop frames\n",
    "\t\t\t\tTake HK data as further verification \n",
    "                    ref values for 3 cases: Interface only, Interface + Driver, full stack)\n",
    "            Measure voltages on all open connector pins (= PCB safe-to-mate)\n",
    "                Interface: stack connector only\n",
    "                Driver: stack connector only\n",
    "                Video: \n",
    "                    Stack connector\n",
    "                    CCD connectors (discuss need for this)\n",
    "                    Temp connector\n",
    "\t\t*Bring up complete*\n",
    "\tFPE Functional Test and calibration\n",
    "\t\t(Assume for now we test full stack, not separate boards)\n",
    "\t\tSetup per diagram, take photos\n",
    "\t\tNote test equipment model #'s and serial #'s\n",
    "\t\tPower ON voltage measurements (compare to reference values/images)\n",
    "\t\t\tDHU supply voltages before connection to setup\n",
    "\t\t\tDHU supply voltages and currents with setup connected\n",
    "\t\tProgram FPGA\n",
    "\t\t\tVerify communication \n",
    "\t\t\tLoad Wrapper and MemFiles (record version numbers)\n",
    "\t\tHousekeeping calibration\n",
    "\t\t\tStart frames, Stop frames (or otherwise set DACs to default values)\n",
    "\t\t\tDo HK calibration process\n",
    "\t\t\t\tGet HK bias value(s)\n",
    "\t\t\t\tEtc…\n",
    "\t\t\tVery with DMM measurements\n",
    "\t\t\t\tSupply voltages\n",
    "\t\t\t\tOthers? All 128? HK ADC bias?\n",
    "\t\t\tCapture calibrated HK set\n",
    "\t\t\t\tBias groups\n",
    "\t\t\t\tClock Driver groups\n",
    "\t\t\t\tInterface group\n",
    "\t\tDAC Calibration\n",
    "\t\t\tDo DAC calibration process\n",
    "\t\t\tCapture HK set over full range of DAC settings (frames stopped)\n",
    "\t\t\tStart frames\n",
    "\t\t\tCapture HK set (frames running)\n",
    "\t\tCCD signal verification and CCD safe-to-mate\n",
    "\t\t\tMeasure signals at CCD connectors\n",
    "\t\t\t\tVerify clock voltages, timing, wave shapes on scope for each CCD connector\n",
    "\t\tRTD Functional test and calibration\n",
    "\t\t\tConnect 12 x 1000 Ohm 0.1% resistors  to Temp connector\n",
    "\t\t\t(Connect calibration R's to AlCu sensor connections somewhere)??\n",
    "\t\t\tCapture HK set for RTD's\n",
    "\t\t\tDo RTD calibration process\n",
    "\t\t\tCapture calibrated HK set for Thermal group\n",
    "\t\tHeater Functional test and calibration\n",
    "\t\t\tConnect three heater calibration resistors to HTR outputs\n",
    "\t\t\tCapture HK set for Heater group\n",
    "\t\t\tDo Heater calibration process\n",
    "\t\t\tCapture calibrated HK set for Heater group\n",
    "\t\t*Functional test and calibration complete*\n",
    "*FPE Test Procedure complete*\n",
    "</pre>"
   ]
  },
  {
   "cell_type": "markdown",
   "metadata": {},
   "source": [
    "# Test Check"
   ]
  },
  {
   "cell_type": "markdown",
   "metadata": {},
   "source": [
    "Below we validate that all of the tests and procedures above have been performed properly.\n",
    "\n",
    "If some step has not been carried out properly, an *Exception* will be thrown."
   ]
  },
  {
   "cell_type": "code",
   "execution_count": null,
   "metadata": {
    "collapsed": true
   },
   "outputs": [],
   "source": [
    "# TODO: Recursively search test_check to make sure that no value is `None`"
   ]
  },
  {
   "cell_type": "code",
   "execution_count": null,
   "metadata": {
    "collapsed": true
   },
   "outputs": [],
   "source": [
    "def url_exists(site, path):\n",
    "    # TODO: Fix me so that site is broken up from path\n",
    "    import httplib\n",
    "    conn = httplib.HTTPConnection(site)\n",
    "    conn.request('HEAD', path)\n",
    "    response = conn.getresponse()\n",
    "    conn.close()\n",
    "    return response.status == 200"
   ]
  },
  {
   "cell_type": "code",
   "execution_count": null,
   "metadata": {
    "collapsed": false
   },
   "outputs": [],
   "source": [
    "assert type(test_check[\"NAME\"]) is str, \"Name should be entered as a string\"\n",
    "assert type(test_check[\"EMAIL\"]) is str, \"Email should be entered as a string\"\n",
    "# TODO: check that email is a valid email with a regex\n",
    "# assert type(test_check[\"EMAIL\"]) is str, \"Email should be <blah>@<blah>.(com|edu|org|net|gov)\"\n",
    "\n",
    "assert type(test_check[\"Part Number\"]) is str\n",
    "assert type(test_check[\"Serial Number\"]) is str"
   ]
  },
  {
   "cell_type": "code",
   "execution_count": null,
   "metadata": {
    "collapsed": false
   },
   "outputs": [],
   "source": [
    "# TODO: check that \"DATE\" is valid time stamp of the form \"MM/DD/YY\"\n",
    "# TODO: check that \"ESD_SAFE\" is the string 'ESD Safe'.\n",
    "\n",
    "# assert type(test_check[\"EMAIL\"]) is str, \"Email should be <blah>@<blah>.(com|edu|org|net|gov)\"\n",
    "\n",
    "assert test_check[\"FRONT_ASSEMBLY_PHOTO\"] not in placeholder_photos, \"Front assembly photo should not be a stock photo\"\n",
    "#assert url_exists(test_check[\"FRONT_ASSEMBLY_PHOTO\"]), \"URL for front assembly photo should exist\"\n",
    "assert test_check[\"BACK_ASSEMBLY_PHOTO\"] not in placeholder_photos, \"Back assembly photo should not be a stock photo\"\n",
    "#assert url_exists(test_check[\"BACK_ASSEMBLY_PHOTO\"]), \"URL for back assembly photo should exist"
   ]
  },
  {
   "cell_type": "code",
   "execution_count": null,
   "metadata": {
    "collapsed": false
   },
   "outputs": [],
   "source": [
    "assert 'Multimeter' in test_check[\"Equipment\"], \"'Multimeter' should be in test_check['Equipment']\"\n",
    "assert 'Oscilloscope' in test_check[\"Equipment\"], \"'Oscilloscope' should be in test_check['Equipment']\"\n",
    "assert 'DHU Emulator' in test_check[\"Equipment\"], \"'DHU Emulator' should be in test_check['Equipment']\"\n",
    "assert len(test_check[\"Equipment\"]) == 3, \"test_check['Equipment'] should not contain superfluous information\"\n",
    "assert type(test_check[\"Equipment\"][\"Multimeter\"][\"Model Number\"]) is str, 'Multimeter model number should be a string'\n",
    "assert type(test_check[\"Equipment\"][\"Multimeter\"][\"Serial Number\"]) is str, 'Multimeter serial number should be a string'\n",
    "assert type(test_check[\"Equipment\"][\"Oscilloscope\"][\"Model Number\"]) is str, 'Oscilloscope model number should be a string'\n",
    "assert type(test_check[\"Equipment\"][\"Oscilloscope\"][\"Serial Number\"]) is str, 'Oscilloscope serial number should be a string'\n",
    "assert type(test_check[\"Equipment\"][\"DHU Emulator\"][\"Model Number\"]) is str, 'DHU Emulator model number should be a string'\n",
    "assert type(test_check[\"Equipment\"][\"DHU Emulator\"][\"Serial Number\"]) is str, 'DHU Emulator serial number should be a string'"
   ]
  },
  {
   "cell_type": "code",
   "execution_count": null,
   "metadata": {
    "collapsed": false
   },
   "outputs": [],
   "source": [
    "assert type(test_check[\"Assembly Weight\"]) is float\n",
    "assert type(test_check[\"Non-Flight Configurations\"]) is str"
   ]
  },
  {
   "cell_type": "code",
   "execution_count": null,
   "metadata": {
    "collapsed": false
   },
   "outputs": [],
   "source": [
    "type(1.0)"
   ]
  },
  {
   "cell_type": "code",
   "execution_count": null,
   "metadata": {
    "collapsed": false
   },
   "outputs": [],
   "source": [
    "type(False)"
   ]
  },
  {
   "cell_type": "markdown",
   "metadata": {},
   "source": [
    "# Summary"
   ]
  },
  {
   "cell_type": "markdown",
   "metadata": {},
   "source": [
    "Below is a summary of test results and notes:"
   ]
  },
  {
   "cell_type": "code",
   "execution_count": null,
   "metadata": {
    "collapsed": true
   },
   "outputs": [],
   "source": [
    "# TODO: pretty print summary of data, consider incorporating\n",
    "# - Visual inspection results\n",
    "# - Operator Notes"
   ]
  }
 ],
 "metadata": {
  "kernelspec": {
   "display_name": "Python 2",
   "language": "python",
   "name": "python2"
  },
  "language_info": {
   "codemirror_mode": {
    "name": "ipython",
    "version": 2
   },
   "file_extension": ".py",
   "mimetype": "text/x-python",
   "name": "python",
   "nbconvert_exporter": "python",
   "pygments_lexer": "ipython2",
   "version": "2.7.10"
  }
 },
 "nbformat": 4,
 "nbformat_minor": 0
}
