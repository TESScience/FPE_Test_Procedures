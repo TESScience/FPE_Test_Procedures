{
 "cells": [
  {
   "cell_type": "markdown",
   "metadata": {},
   "source": [
    "# HK Variance Test"
   ]
  },
  {
   "cell_type": "markdown",
   "metadata": {},
   "source": [
    "### This notebook provides a test for the noise and stability of the housekeeping data captured by the FPE.  It evaluates the performance of the housekeeping system by taking a large number of samples, collecting the results for each signal channel, and evaluating the variance of the data for each channel."
   ]
  },
  {
   "cell_type": "markdown",
   "metadata": {},
   "source": [
    "### Instructions:\n",
    "Enter Your Name and today's date:\n",
    "\n",
    "Enter the part numbers and serial numbers of the units under test:\n",
    "\n",
    "When the test is complete, save this notebook as a new file, indicating the date, as \"HK_Variance_Results_YYMMDD.ipynb\".  Alternatively, export the notebook as a PDF file, then clear all entries and outputs."
   ]
  },
  {
   "cell_type": "markdown",
   "metadata": {},
   "source": [
    "### Start the Observatory Simulator and Load the FPE FPGA"
   ]
  },
  {
   "cell_type": "markdown",
   "metadata": {},
   "source": [
    "Remember that whenever you power-cycle the Observatory Simulator, you should set `preload=True` below.\n",
    "\n",
    "When you are running this notebook and it has *not* been power cycled, you should set `preload=False`.\n",
    "\n",
    "Run the following cell to get the FPE loaded:"
   ]
  },
  {
   "cell_type": "code",
   "execution_count": null,
   "metadata": {
    "collapsed": false
   },
   "outputs": [],
   "source": [
    "from tessfpe.dhu.fpe import FPE\n",
    "from tessfpe.dhu.unit_tests import check_house_keeping_voltages\n",
    "fpe1 = FPE(1, debug=False, preload=True, FPE_Wrapper_version='6.1.1')\n",
    "print fpe1.version\n",
    "fpe1.cmd_start_frames()\n",
    "fpe1.cmd_stop_frames()\n",
    "if check_house_keeping_voltages(fpe1):\n",
    "    print \"Wrapper load complete. Interface voltages OK.\""
   ]
  },
  {
   "cell_type": "markdown",
   "metadata": {},
   "source": [
    "### Set all the operating parameters to the default values:"
   ]
  },
  {
   "cell_type": "code",
   "execution_count": null,
   "metadata": {
    "collapsed": false
   },
   "outputs": [],
   "source": [
    "def set_fpe_defaults(fpe):\n",
    "    \"Set the FPE to the default operating parameters and return a list of the default values\"\n",
    "    defaults = {}\n",
    "    for k in range(len(fpe.ops.address)):\n",
    "        if fpe.ops.address[k] is None:\n",
    "            continue\n",
    "        fpe.ops.address[k].value = fpe.ops.address[k].default\n",
    "        defaults[fpe.ops.address[k].name] = fpe.ops.address[k].default\n",
    "    return defaults\n",
    "# Un-comment the following to see the default values:\n",
    "# set_fpe_defaults(fpe1)"
   ]
  },
  {
   "cell_type": "markdown",
   "metadata": {},
   "source": [
    "### Run the variance test:"
   ]
  },
  {
   "cell_type": "code",
   "execution_count": null,
   "metadata": {
    "collapsed": false
   },
   "outputs": [],
   "source": [
    "from numpy import var\n",
    "samples=100\n",
    "from tessfpe.data.housekeeping_channels import housekeeping_channels\n",
    "# We make sample_data a dictionary and each value will be a set of HK \n",
    "# data, with key = sample_name.\n",
    "sample_data = {}\n",
    "\n",
    "# For later:\n",
    "signal_names = []\n",
    "signal_values = []\n",
    "signal_data = {}\n",
    "variance_values = {}\n",
    "    \n",
    "#my_dict[\"new key\"] = \"New value\"\n",
    "\n",
    "for i in range(samples):\n",
    "    # Get a new set of HK values\n",
    "    house_keeping_values = fpe1.house_keeping[\"analogue\"]\n",
    "    data_values = house_keeping_values.values()\n",
    "    # Add the new HK values to the sample_data dictionary:\n",
    "    sample_number = \"sample_\" + str(i)\n",
    "    sample_data[sample_number] = data_values\n",
    "\n",
    "# Get the signal names for use later\n",
    "signal_names = house_keeping_values.keys()\n",
    "\n",
    "\"\"\"Assign the set of all HK values of the same signal (e.g. substrate_1) \n",
    "to the dictionary 'signal_data'\"\"\"\n",
    "\n",
    "for k in range(len(signal_names)):\n",
    "    # Build the list 'signal_values' for this signal:\n",
    "    for i in range(samples):\n",
    "        sample_number = \"sample_\" + str(i)\n",
    "        signal_values.append(sample_data[sample_number][k])\n",
    "    # Add signal_values to the signal_data dictionary:\n",
    "    signal_data[signal_names[k]] = signal_values\n",
    "    signal_values = []\n",
    "\n",
    "\"\"\" Now get the variance of each of the 'signal_values' in the \n",
    "signal_data dictionary and put the result in the 'variance_values' \n",
    "dictionary.\"\"\"\n",
    "for name in signal_data:\n",
    "    variance_values[name] = var(signal_data[name])\n",
    "    # print name, str(variance_values[name])\n",
    "    print '{0}      {1:<5}'.format(name, variance_values[name])\n",
    "\n",
    "# Results will be displayed below, in engineering units.  \n",
    "# Watch ObsSim LEDs for activity."
   ]
  },
  {
   "cell_type": "markdown",
   "metadata": {},
   "source": [
    "## End HK Variance Test."
   ]
  }
 ],
 "metadata": {
  "kernelspec": {
   "display_name": "Python 2",
   "language": "python",
   "name": "python2"
  },
  "language_info": {
   "codemirror_mode": {
    "name": "ipython",
    "version": 2
   },
   "file_extension": ".py",
   "mimetype": "text/x-python",
   "name": "python",
   "nbconvert_exporter": "python",
   "pygments_lexer": "ipython2",
   "version": "2.7.10"
  }
 },
 "nbformat": 4,
 "nbformat_minor": 0
}
