{
 "cells": [
  {
   "cell_type": "markdown",
   "metadata": {},
   "source": [
    "# HK Variance Test"
   ]
  },
  {
   "cell_type": "markdown",
   "metadata": {},
   "source": [
    "### This notebook provides a test for the noise and stability of the housekeeping data captured by the FPE.  It evaluates the performance of the housekeeping system by taking a large number of samples, collecting the results for each signal channel, and evaluating the variance of the data for each channel."
   ]
  },
  {
   "cell_type": "markdown",
   "metadata": {},
   "source": [
    "### Instructions:\n",
    "Enter Your Name and today's date:\n",
    "\n",
    "Enter the part numbers and serial numbers of the units under test:\n",
    "\n",
    "When the test is complete, save this notebook as a new file, indicating the date, as \"HK_Variance_Results_YYMMDD.ipynb\".  Alternatively, export the notebook as a PDF file, then clear all entries and outputs."
   ]
  },
  {
   "cell_type": "markdown",
   "metadata": {},
   "source": [
    "### Start the Observatory Simulator and Load the FPE FPGA"
   ]
  },
  {
   "cell_type": "markdown",
   "metadata": {},
   "source": [
    "Remember that whenever you power-cycle the Observatory Simulator, you should set `preload=True` below.\n",
    "\n",
    "When you are running this notebook and it has *not* been power cycled, you should set `preload=False`.\n",
    "\n",
    "Run the following cell to get the FPE loaded:"
   ]
  },
  {
   "cell_type": "code",
   "execution_count": 1,
   "metadata": {
    "collapsed": false
   },
   "outputs": [
    {
     "name": "stdout",
     "output_type": "stream",
     "text": [
      "Observatory Simulator Version 1.6c - Oct  8 2015 11:55:03\n",
      "Wrapper load complete. Interface voltages OK.\n"
     ]
    }
   ],
   "source": [
    "from tessfpe.dhu.fpe import FPE\n",
    "from tessfpe.dhu.unit_tests import check_house_keeping_voltages\n",
    "fpe1 = FPE(1, debug=False, preload=True, FPE_Wrapper_version='6.1.1')\n",
    "print fpe1.version\n",
    "fpe1.cmd_start_frames()\n",
    "fpe1.cmd_stop_frames()\n",
    "if check_house_keeping_voltages(fpe1):\n",
    "    print \"Wrapper load complete. Interface voltages OK.\""
   ]
  },
  {
   "cell_type": "markdown",
   "metadata": {},
   "source": [
    "### Set all the operating parameters to the default values:"
   ]
  },
  {
   "cell_type": "code",
   "execution_count": 2,
   "metadata": {
    "collapsed": false
   },
   "outputs": [],
   "source": [
    "def set_fpe_defaults(fpe):\n",
    "    \"Set the FPE to the default operating parameters and return a list of the default values\"\n",
    "    defaults = {}\n",
    "    for k in range(len(fpe.ops.address)):\n",
    "        if fpe.ops.address[k] is None:\n",
    "            continue\n",
    "        fpe.ops.address[k].value = fpe.ops.address[k].default\n",
    "        defaults[fpe.ops.address[k].name] = fpe.ops.address[k].default\n",
    "    return defaults\n",
    "# Un-comment the following to see the default values:\n",
    "# set_fpe_defaults(fpe1)"
   ]
  },
  {
   "cell_type": "markdown",
   "metadata": {},
   "source": [
    "### Run the variance test:"
   ]
  },
  {
   "cell_type": "code",
   "execution_count": 4,
   "metadata": {
    "collapsed": false
   },
   "outputs": [
    {
     "name": "stdout",
     "output_type": "stream",
     "text": [
      "ccd4_substrate      2.66638766974e-05\n",
      "ccd2_output_drain_a      1.28402558248e-06\n",
      "ccd2_output_source_a      7.27075408212e-07\n",
      "ccd2_output_source_c      6.39895769767e-07\n",
      "ccd2_output_source_b      8.20363174192e-07\n",
      "ccd1_parallel_high      3.65014281124e-07\n",
      "heater_1_current      0.000105025088321\n",
      "ccd4_parallel_low      8.19887593389e-07\n",
      "ccd1_output_source_d      6.37119348161e-07\n",
      "ccd3_output_source_a      9.0865338128e-07\n",
      "ccd3_output_source_b      7.01046455651e-07\n",
      "ccd3_output_source_c      7.50397349707e-07\n",
      "ccd3_output_source_d      6.99311192147e-07\n",
      "ccd4_output_source_d      8.10368056409e-07\n",
      "ccd4_output_source_c      7.14303868822e-07\n",
      "ccd4_output_source_b      8.39867535978e-07\n",
      "ccd4_output_source_a      6.29900651983e-07\n",
      "ccd3_board_temperature      0.000312985628843\n",
      "ccd2_input_gate_2      6.23004022054e-07\n",
      "ccd4_serial_low      5.62354247086e-07\n",
      "ccd2_output_gate      5.36796147935e-07\n",
      "ccd4_input_diode_low      4.49776905589e-07\n",
      "ccd3_substrate      5.87464462966e-05\n",
      "ccd2_serial_low      5.94606134109e-07\n",
      "ccd4_output_drain_c      1.2557060821e-06\n",
      "ccd4_output_drain_b      8.62009498291e-07\n",
      "ccd4_output_drain_a      1.36176538747e-06\n",
      "ccd2_scupper      4.51932102442e-07\n",
      "ccd3_reset_high      1.83977745473e-07\n",
      "ccd2_parallel_high      2.73304316215e-07\n",
      "ccd2_backside      2.33268365264e-07\n",
      "+2.5f      1.8042800948e-07\n",
      "heater_3_current      5.76107483357e-05\n",
      "ccd3_serial_high      2.08192015998e-07\n",
      "ccd3_backside      3.07711400092e-07\n",
      "ccd3_serial_low      7.69684184343e-07\n",
      "ccd4_input_gate_2      5.27668255381e-07\n",
      "ccd4_input_gate_1      1.5029582195e-06\n",
      "ccd1_serial_high      2.2056538146e-07\n",
      "ccd2_output_drain_d      1.27791745495e-06\n",
      "ccd2_output_source_d      9.01226453483e-07\n",
      "ccd3_input_diode_low      5.05178142339e-07\n",
      "+1f      1.9107721746e-07\n",
      "ccd1_substrate      0.000183635638654\n",
      "ccd3_reset_drain      3.81748750806e-07\n",
      "hk_bias_1      1.08568955775e-06\n",
      "hk_bias_0      5.86962171598e-07\n",
      "hk_bias_3      8.81724531754e-07\n",
      "ccd4_reset_low      4.46531432681e-07\n",
      "hk_bias_5      9.74876640402e-07\n",
      "hk_bias_4      8.26664363444e-07\n",
      "ccd1_parallel_low      3.37833445519e-07\n",
      "ccd1_scupper      4.57003153861e-07\n",
      "+15      7.84263457172e-07\n",
      "ccd1_input_diode_high      6.31954427809e-07\n",
      "ccd1_reset_drain      4.49776905589e-07\n",
      "ccd1_reset_high      2.82432208769e-07\n",
      "-12      9.38780929428e-06\n",
      "+5      1.84053811245e-07\n",
      "ccd1_input_gate_1      1.06999184936e-06\n",
      "ccd1_input_diode_low      5.18540362827e-07\n",
      "ccd4_parallel_high      1.69778801501e-07\n",
      "ccd2_substrate      9.06455330551e-06\n",
      "ccd3_output_drain_b      1.27014347445e-06\n",
      "ccd1_reset_low      4.42297104746e-07\n",
      "ccd4_output_gate      4.20897267759e-07\n",
      "ccd2_input_diode_low      7.72701459937e-07\n",
      "ccd4_board_temperature      0.000262388437986\n",
      "+1.8f      1.6734469682e-07\n",
      "ccd2_serial_high      2.60119582526e-07\n",
      "ccd3_parallel_high      2.94120982289e-07\n",
      "ccd4_input_diode_high      5.02439774573e-07\n",
      "ccd4_reset_drain      4.40649013035e-07\n",
      "heater_2_current      7.2596483957e-05\n",
      "ccd3_reset_low      3.78706119955e-07\n",
      "ccd2_input_diode_high      7.2424756363e-07\n",
      "ccd3_input_gate_2      8.55892058462e-07\n",
      "ccd3_scupper      3.26981395483e-07\n",
      "ccd3_input_gate_1      6.04951079004e-07\n",
      "pt1000_sensor_2      9.06874774955e-05\n",
      "ccd4_reset_high      2.74242460728e-07\n",
      "ccd2_output_drain_b      1.31185920909e-06\n",
      "ccd2_reset_drain      3.65597452037e-07\n",
      "ccd1_serial_low      7.5112413615e-07\n",
      "ccd4_serial_high      1.67623604648e-07\n",
      "ccd1_output_drain_a      8.50348527544e-07\n",
      "ccd2_parallel_low      4.53833746724e-07\n",
      "ccd1_output_drain_d      1.15075734537e-06\n",
      "ccd1_board_temperature      0.000313564985991\n",
      "ccd1_input_gate_2      6.56675803475e-07\n",
      "ccd1_output_drain_c      1.47837509494e-06\n",
      "ccd1_output_gate      3.56266717426e-07\n",
      "ccd3_parallel_low      2.4490642827e-07\n",
      "ccd4_backside      2.8547483962e-07\n",
      "pt1000_sensor_3      7.04970234074e-05\n",
      "ccd2_output_drain_c      9.90835460834e-07\n",
      "pt1000_sensor_1      1.91124994308e-05\n",
      "pt1000_sensor_6      0.000110936976853\n",
      "pt1000_sensor_7      0.000113542538602\n",
      "ccd1_output_drain_b      1.03970048111e-06\n",
      "pt1000_sensor_5      9.01182205416e-05\n",
      "pt1000_sensor_8      0.0146813427424\n",
      "pt1000_sensor_9      0.0217757983692\n",
      "ccd2_input_gate_1      1.07090463862e-06\n",
      "ccd3_output_drain_c      1.42985712737e-06\n",
      "+3.3f      1.67750380933e-07\n",
      "ccd3_output_drain_a      1.02304195147e-06\n",
      "ccd3_output_drain_d      8.98450031877e-07\n",
      "ccd3_output_gate      3.77565133385e-07\n",
      "ccd2_board_temperature      0.000357982367277\n",
      "ccd2_reset_low      3.13796661794e-07\n",
      "hk_bias_2      9.28820021628e-07\n",
      "ccd1_output_source_c      1.01450445503e-06\n",
      "ccd1_backside      3.24141606688e-07\n",
      "ccd2_reset_high      2.49090045691e-07\n",
      "pt1000_sensor_4      8.0241006799e-05\n",
      "ccd3_input_diode_high      4.90345316939e-07\n",
      "ccd4_scupper      4.95847407728e-07\n",
      "ccd4_output_drain_d      1.47150345147e-06\n",
      "pt1000_sensor_10      0.0644154878589\n",
      "pt1000_sensor_11      5.27834426612e-05\n",
      "pt1000_sensor_12      0.000135257571819\n",
      "ccd1_output_source_b      6.73282239586e-07\n",
      "alcu_sensor_ccd4      0.0~~\n",
      "ccd1_output_source_a      7.79063902795e-07\n",
      "alcu_sensor_ccd1      0.0~~\n",
      "alcu_sensor_ccd3      0.0~~\n",
      "alcu_sensor_ccd2      0.0~~\n"
     ]
    }
   ],
   "source": [
    "from numpy import var\n",
    "samples=100\n",
    "from tessfpe.data.housekeeping_channels import housekeeping_channels\n",
    "# We make sample_data a dictionary and each value will be a set of HK \n",
    "# data, with key = sample_name.\n",
    "sample_data = {}\n",
    "\n",
    "# For later:\n",
    "signal_names = []\n",
    "signal_values = []\n",
    "signal_data = {}\n",
    "variance_values = {}\n",
    "    \n",
    "#my_dict[\"new key\"] = \"New value\"\n",
    "\n",
    "for i in range(samples):\n",
    "    # Get a new set of HK values\n",
    "    house_keeping_values = fpe1.house_keeping[\"analogue\"]\n",
    "    data_values = house_keeping_values.values()\n",
    "    # Add the new HK values to the sample_data dictionary:\n",
    "    sample_number = \"sample_\" + str(i)\n",
    "    sample_data[sample_number] = data_values\n",
    "\n",
    "# Get the signal names for use later\n",
    "signal_names = house_keeping_values.keys()\n",
    "\n",
    "\"\"\"Assign the set of all HK values of the same signal (e.g. substrate_1) \n",
    "to the dictionary 'signal_data'\"\"\"\n",
    "\n",
    "for k in range(len(signal_names)):\n",
    "    # Build the list 'signal_values' for this signal:\n",
    "    for i in range(samples):\n",
    "        sample_number = \"sample_\" + str(i)\n",
    "        signal_values.append(sample_data[sample_number][k])\n",
    "    # Add signal_values to the signal_data dictionary:\n",
    "    signal_data[signal_names[k]] = signal_values\n",
    "    signal_values = []\n",
    "\n",
    "\"\"\" Now get the variance of each of the 'signal_values' in the \n",
    "signal_data dictionary and put the result in the 'variance_values' \n",
    "dictionary.\"\"\"\n",
    "for name in signal_data:\n",
    "    variance_values[name] = var(signal_data[name])\n",
    "    # print name, str(variance_values[name])\n",
    "    print '{0}      {1:<5}'.format(name, variance_values[name])\n",
    "\n",
    "# Results will be displayed below, in engineering units.  \n",
    "# Watch ObsSim LEDs for activity."
   ]
  },
  {
   "cell_type": "markdown",
   "metadata": {},
   "source": [
    "## End HK Variance Test."
   ]
  }
 ],
 "metadata": {
  "kernelspec": {
   "display_name": "Python 2",
   "language": "python",
   "name": "python2"
  },
  "language_info": {
   "codemirror_mode": {
    "name": "ipython",
    "version": 2
   },
   "file_extension": ".py",
   "mimetype": "text/x-python",
   "name": "python",
   "nbconvert_exporter": "python",
   "pygments_lexer": "ipython2",
   "version": "2.7.10"
  }
 },
 "nbformat": 4,
 "nbformat_minor": 0
}
