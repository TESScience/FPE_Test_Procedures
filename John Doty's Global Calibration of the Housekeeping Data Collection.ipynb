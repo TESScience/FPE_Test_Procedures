{
 "cells": [
  {
   "cell_type": "markdown",
   "metadata": {},
   "source": [
    "# John Doty's Global FPE Calibration"
   ]
  },
  {
   "cell_type": "markdown",
   "metadata": {},
   "source": [
    "by Matthew Wampler-Doty and Ed Bokhour"
   ]
  },
  {
   "cell_type": "markdown",
   "metadata": {},
   "source": [
    "Remember that whenever you power-cycle the Observatory Simulator, you should set `preload=True` below.\n",
    "\n",
    "When you are running this notbook and it has *not* been power cycled, you should set `preload=False`."
   ]
  },
  {
   "cell_type": "code",
   "execution_count": 1,
   "metadata": {
    "collapsed": false
   },
   "outputs": [
    {
     "name": "stdout",
     "output_type": "stream",
     "text": [
      "Observatory Simulator Version 1.5c - Aug 31 2015 10:58:39\n",
      "Wrapper load complete. Interface voltages OK.\n"
     ]
    }
   ],
   "source": [
    "from tessfpe.dhu.fpe import FPE\n",
    "from tessfpe.dhu.unit_tests import check_house_keeping_voltages\n",
    "fpe1 = FPE(1, debug=False, preload=False, FPE_Wrapper_version='6.1.1')\n",
    "print fpe1.version\n",
    "if check_house_keeping_voltages(fpe1):\n",
    "    print \"Wrapper load complete. Interface voltages OK.\""
   ]
  },
  {
   "cell_type": "markdown",
   "metadata": {},
   "source": [
    "We assume that there is a slight global error in the housekeeping that may be corrected by a linear transformation:\n",
    "\n",
    "$$ f(x) := m \\cdot x + c $$\n",
    "\n",
    "To calculus $c$, we can average the biases in the housekeeping, but we must first convert them to ADUs from uA by using the `unscale_value` function.\n",
    "\n",
    "Note that because of statistical variation, we collect 50 samples:"
   ]
  },
  {
   "cell_type": "code",
   "execution_count": 2,
   "metadata": {
    "collapsed": false
   },
   "outputs": [],
   "source": [
    "def estimate_c_param(fpe,samples=50):\n",
    "    from tessfpe.dhu.house_keeping import unscale_value\n",
    "    from tessfpe.data.housekeeping_channels import housekeeping_channels\n",
    "    sample_data = []\n",
    "    for _ in range(samples):\n",
    "        analogue_house_keeping = fpe.house_keeping[\"analogue\"]\n",
    "        biases = [unscale_value(analogue_house_keeping[k],\n",
    "                                16,\n",
    "                                housekeeping_channels[k][\"low\"],\n",
    "                                housekeeping_channels[k][\"high\"])\n",
    "                  for k in fpe1.house_keeping[\"analogue\"]\n",
    "                  if 'bias' in k]\n",
    "        for b in biases:\n",
    "            sample_data.append(b)\n",
    "    \n",
    "    return sum(sample_data) / len(sample_data)"
   ]
  },
  {
   "cell_type": "markdown",
   "metadata": {},
   "source": [
    "Below run the above estimation; this should be approximately $-4.83$ based on previous calculations"
   ]
  },
  {
   "cell_type": "code",
   "execution_count": 3,
   "metadata": {
    "collapsed": false
   },
   "outputs": [
    {
     "data": {
      "text/plain": [
       "-5.003333333333515"
      ]
     },
     "execution_count": 3,
     "metadata": {},
     "output_type": "execute_result"
    }
   ],
   "source": [
    "estimate_c_param(fpe1)"
   ]
  },
  {
   "cell_type": "markdown",
   "metadata": {},
   "source": [
    "Next we can use the known voltages from the power supply to recover the slope $m$, which is done as follows.  Once again, 50 samples are collected because we are scientists at MIT:"
   ]
  },
  {
   "cell_type": "code",
   "execution_count": 4,
   "metadata": {
    "collapsed": false
   },
   "outputs": [],
   "source": [
    "def unscale_1_8_f(x):\n",
    "    from tessfpe.data.housekeeping_channels import housekeeping_channels\n",
    "    from tessfpe.dhu.house_keeping import unscale_value\n",
    "    low = housekeeping_channels['+1.8f']['low']\n",
    "    high = housekeeping_channels['+1.8f']['high']\n",
    "    return unscale_value(x, 16, low, high)\n",
    "\n",
    "def unscale_1_f(x):\n",
    "    from tessfpe.data.housekeeping_channels import housekeeping_channels\n",
    "    from tessfpe.dhu.house_keeping import unscale_value\n",
    "    low = housekeeping_channels['+1f']['low']\n",
    "    high = housekeeping_channels['+1f']['high']\n",
    "    return unscale_value(x, 16, low, high)\n",
    "\n",
    "def estimate_m_param(fpe,samples=50):\n",
    "    slope_samples = []\n",
    "    for _ in range(samples):\n",
    "        a_ = unscale_1_8_f(1.807)\n",
    "        b_ = unscale_1_f(0.998)\n",
    "        a = unscale_1_8_f(fpe1.house_keeping['analogue']['+1.8f'])\n",
    "        b = unscale_1_f(fpe1.house_keeping['analogue']['+1f'])\n",
    "        slope_samples.append((a_ - b_) / (a - b))\n",
    "    return sum(slope_samples) / len(slope_samples)"
   ]
  },
  {
   "cell_type": "markdown",
   "metadata": {},
   "source": [
    "Once again, we run the calculation; this should be $\\approx 1$"
   ]
  },
  {
   "cell_type": "code",
   "execution_count": 5,
   "metadata": {
    "collapsed": false
   },
   "outputs": [
    {
     "data": {
      "text/plain": [
       "1.000875830298136"
      ]
     },
     "execution_count": 5,
     "metadata": {},
     "output_type": "execute_result"
    }
   ],
   "source": [
    "estimate_m_param(fpe1)"
   ]
  }
 ],
 "metadata": {
  "kernelspec": {
   "display_name": "Python 2",
   "language": "python",
   "name": "python2"
  },
  "language_info": {
   "codemirror_mode": {
    "name": "ipython",
    "version": 2
   },
   "file_extension": ".py",
   "mimetype": "text/x-python",
   "name": "python",
   "nbconvert_exporter": "python",
   "pygments_lexer": "ipython2",
   "version": "2.7.10"
  }
 },
 "nbformat": 4,
 "nbformat_minor": 0
}
