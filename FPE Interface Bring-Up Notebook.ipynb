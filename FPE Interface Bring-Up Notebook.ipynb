{
 "cells": [
  {
   "cell_type": "markdown",
   "metadata": {},
   "source": [
    "# FPE Interface Board Bring-up Procedure"
   ]
  },
  {
   "cell_type": "markdown",
   "metadata": {},
   "source": [
    "Abstract: *This iPython Notebook contains instructions for the FPE Interface Board PCB Bring-up test flow.  This procedure can be used for the Interface Boards, versions 6.2 and 7.0.  Simliar iPython Notebooks will be created for the Driver and Video Boards.*"
   ]
  },
  {
   "cell_type": "markdown",
   "metadata": {},
   "source": [
    "# Preamble\n",
    "\n",
    "Below we create a small object for keeping track of which tests have passed.  At the end of this document we verify this object to make sure all of the tests and procedures have been validly performed.\n",
    "\n",
    "<span style=\"color:red\">***IF THIS OBJECT DOES NOT VALIDATE THEN THE TESTS HAVE FAILED AND WILL BE INDICATED AT THE END OF THE DOCUMENT***</span>\n",
    "\n",
    "\n",
    "Note that in general, if at some stage in this procedure a test fails, the operator is expected to resolve it through the appropriate NCR/ECO process before proceeding.\n",
    "\n",
    "Where a cell indicates \"None # FILL IN ...\" the test conductor should replace this text with the appropriate information."
   ]
  },
  {
   "cell_type": "code",
   "execution_count": 62,
   "metadata": {
    "collapsed": true
   },
   "outputs": [],
   "source": [
    "import random\n",
    "test_check = {}"
   ]
  },
  {
   "cell_type": "markdown",
   "metadata": {},
   "source": [
    "## Test Start Date"
   ]
  },
  {
   "cell_type": "code",
   "execution_count": 63,
   "metadata": {
    "collapsed": true
   },
   "outputs": [],
   "source": [
    "test_check[\"DATE\"] = None # TODO: Fill in today's date here as a string in the form \"MM/DD/YY\""
   ]
  },
  {
   "cell_type": "markdown",
   "metadata": {},
   "source": [
    "## Test Conductor Information"
   ]
  },
  {
   "cell_type": "markdown",
   "metadata": {},
   "source": [
    "Please write down your personal information for accountability purposes:"
   ]
  },
  {
   "cell_type": "code",
   "execution_count": 84,
   "metadata": {
    "collapsed": false
   },
   "outputs": [
    {
     "ename": "SyntaxError",
     "evalue": "invalid syntax (<ipython-input-84-c0c4dda209f9>, line 2)",
     "output_type": "error",
     "traceback": [
      "\u001b[0;36m  File \u001b[0;32m\"<ipython-input-84-c0c4dda209f9>\"\u001b[0;36m, line \u001b[0;32m2\u001b[0m\n\u001b[0;31m    test_check[\"EMAIL\"] = ebok@space.mit.edu\u001b[0m\n\u001b[0m                              ^\u001b[0m\n\u001b[0;31mSyntaxError\u001b[0m\u001b[0;31m:\u001b[0m invalid syntax\n"
     ]
    }
   ],
   "source": [
    "test_check[\"NAME\"] = Ed\n",
    "test_check[\"EMAIL\"] = ebok@space.mit.edu"
   ]
  },
  {
   "cell_type": "markdown",
   "metadata": {},
   "source": [
    "## Unit Under Test"
   ]
  },
  {
   "cell_type": "markdown",
   "metadata": {},
   "source": [
    "Please record the part number and serial number of the unit under test:"
   ]
  },
  {
   "cell_type": "code",
   "execution_count": 65,
   "metadata": {
    "collapsed": true
   },
   "outputs": [],
   "source": [
    "test_check[\"Part Number\"] = None # FILL IN THE PART NUMBER HERE AS A STRING\n",
    "test_check[\"Serial Number\"] = None # FILL IN THE SERIAL NUMBER HERE AS A STRING"
   ]
  },
  {
   "cell_type": "markdown",
   "metadata": {},
   "source": [
    "## Test Equipment"
   ]
  },
  {
   "cell_type": "markdown",
   "metadata": {},
   "source": [
    "Note test equipment model #'s and serial #'s"
   ]
  },
  {
   "cell_type": "code",
   "execution_count": 66,
   "metadata": {
    "collapsed": false
   },
   "outputs": [],
   "source": [
    "test_check[\"Equipment\"] = {\n",
    "    \"Multimeter\": { \"Model Number\": None, # TODO: Enter a string here for the model number\n",
    "                    \"Serial Number\": None # TODO: Enter a string here for the serial number\n",
    "                  },\n",
    "    \"Oscilloscope\": { \"Model Number\": None, # TODO: Enter a string here for the model number\n",
    "                      \"Serial Number\": None # TODO: Enter a string here for the serial number\n",
    "                    },\n",
    "    \"DHU Emulator\": { \"Model Number\": None, # TODO: Enter a string here for the model number\n",
    "                      \"Serial Number\": None # TODO: Enter a string here for the serial number\n",
    "                    }\n",
    "}"
   ]
  },
  {
   "cell_type": "markdown",
   "metadata": {},
   "source": [
    "## Prepare for Inspections"
   ]
  },
  {
   "cell_type": "markdown",
   "metadata": {},
   "source": [
    "1) Verify work area is ESD safe."
   ]
  },
  {
   "cell_type": "code",
   "execution_count": 67,
   "metadata": {
    "collapsed": true
   },
   "outputs": [],
   "source": [
    "test_check[\"ESD_SAFE\"] =  None # TODO: If the area is ESD safe enter 'ESD Safe'"
   ]
  },
  {
   "cell_type": "markdown",
   "metadata": {},
   "source": [
    "2) Photograph the front of the assembly.  Use a service like Flickr to upload your photo and paste the URL below, in place of the default image.\n",
    "\n",
    "You will need to double-click the active area to the left of the image to see the embedded link, then delete it and replace it with your new link.  For Flickr, use the link given at \"Share Photo\" then \"Embed\".  Hit control-enter to run the cell and see the image."
   ]
  },
  {
   "cell_type": "code",
   "execution_count": null,
   "metadata": {
    "collapsed": true
   },
   "outputs": [],
   "source": []
  },
  {
   "cell_type": "markdown",
   "metadata": {},
   "source": [
    "<!-- Delete the mock below and put in a real image -->\n",
    "\n",
    "<a data-flickr-embed=\"true\"  href=\"https://www.flickr.com/photos/135953480@N06/21780051598/in/datetaken/\" title=\"image\"><img src=\"https://farm6.staticflickr.com/5766/21780051598_a877733b37_h.jpg\" width=\"1600\" height=\"1200\" alt=\"image\"></a><script async src=\"//embedr.flickr.com/assets/client-code.js\" charset=\"utf-8\"></script>"
   ]
  },
  {
   "cell_type": "markdown",
   "metadata": {},
   "source": [
    "3) Photograph the back of the assembly and upload it also. Paste the URL below, in place of the default image."
   ]
  },
  {
   "cell_type": "markdown",
   "metadata": {},
   "source": [
    "<a data-flickr-embed=\"true\"  href=\"https://www.flickr.com/photos/135953480@N06/21707221098/in/datetaken/\" title=\"image\"><img src=\"https://farm1.staticflickr.com/608/21707221098_0ca0a80a13_h.jpg\" width=\"1600\" height=\"1200\" alt=\"image\"></a><script async src=\"//embedr.flickr.com/assets/client-code.js\" charset=\"utf-8\"></script>"
   ]
  },
  {
   "cell_type": "markdown",
   "metadata": {},
   "source": [
    "### Standard Inspections"
   ]
  },
  {
   "cell_type": "markdown",
   "metadata": {},
   "source": [
    "４. Weigh assembly, note any non-flight configurations"
   ]
  },
  {
   "cell_type": "code",
   "execution_count": 41,
   "metadata": {
    "collapsed": true
   },
   "outputs": [],
   "source": [
    "test_check[\"Assembly Weight\"] = None\n",
    "test_check[\"Non-Flight Configurations\"] = None"
   ]
  },
  {
   "cell_type": "markdown",
   "metadata": {},
   "source": [
    "#### Visual Inspection under Stereo Microscope"
   ]
  },
  {
   "cell_type": "code",
   "execution_count": 42,
   "metadata": {
    "collapsed": true
   },
   "outputs": [],
   "source": [
    "test_check[\"Visual Inspection\"] = {}"
   ]
  },
  {
   "cell_type": "markdown",
   "metadata": {},
   "source": [
    "５.*a* Workmanship and mechanical damage"
   ]
  },
  {
   "cell_type": "code",
   "execution_count": 43,
   "metadata": {
    "collapsed": false
   },
   "outputs": [],
   "source": [
    "test_check[\"Visual Inspection\"][\"Mechanical Damage\"] = None # TODO: If there is no damage write 'No Damage'"
   ]
  },
  {
   "cell_type": "markdown",
   "metadata": {},
   "source": [
    "５.*b* DNP parts not installed"
   ]
  },
  {
   "cell_type": "code",
   "execution_count": 44,
   "metadata": {
    "collapsed": true
   },
   "outputs": [],
   "source": [
    "test_check[\"Visual Inspection\"][\"DNP parts not installed\"] = None # TODO: If no parts are missing write 'None missing'"
   ]
  },
  {
   "cell_type": "markdown",
   "metadata": {},
   "source": [
    "５.*c* No missing components"
   ]
  },
  {
   "cell_type": "code",
   "execution_count": 45,
   "metadata": {
    "collapsed": false
   },
   "outputs": [],
   "source": [
    "test_check[\"Visual Inspection\"][\"No Missing Components\"] = None # TODO: Set to True if no components are missing"
   ]
  },
  {
   "cell_type": "markdown",
   "metadata": {},
   "source": [
    "５.*d* Verify required jumpers installed\n",
    "\n",
    "***TODO: Make a labeled picture of the jumpers***"
   ]
  },
  {
   "cell_type": "code",
   "execution_count": 46,
   "metadata": {
    "collapsed": true
   },
   "outputs": [],
   "source": [
    "test_check[\"Visual Inspection\"][\"Required jumpers installed\"] = None # TODO: Set to True if all required jumpers are installed"
   ]
  },
  {
   "cell_type": "markdown",
   "metadata": {},
   "source": [
    "５.*e* Component orientation (chips, polarized caps, diodes, etc)\n",
    "\n",
    "***TODO: Make a labeled picture of component orientation***"
   ]
  },
  {
   "cell_type": "code",
   "execution_count": 47,
   "metadata": {
    "collapsed": true
   },
   "outputs": [],
   "source": [
    "test_check[\"Visual Inspection\"][\"Components are oriented correctly\"] = None # TODO: Set to True if all components are oriented correctly"
   ]
  },
  {
   "cell_type": "markdown",
   "metadata": {},
   "source": [
    "５.*f* Verify chips are correct parts (& date codes if specified in design)\n",
    "\n",
    "***TODO: Make a labeled picture with part names***"
   ]
  },
  {
   "cell_type": "code",
   "execution_count": 48,
   "metadata": {
    "collapsed": true
   },
   "outputs": [],
   "source": [
    "test_check[\"Visual Inspection\"][\"Chips are correct parts\"] = None # TODO: Set to True if all chips are correct parts"
   ]
  },
  {
   "cell_type": "markdown",
   "metadata": {},
   "source": [
    "５.*g* Verify connector savers installed if required\n",
    "\n",
    "***TODO: Determine where connector savers will be required for flight hardware and make list of connector numbers***"
   ]
  },
  {
   "cell_type": "code",
   "execution_count": 49,
   "metadata": {
    "collapsed": true
   },
   "outputs": [],
   "source": [
    "test_check[\"Visual Inspection\"][\"Connector Savers Installed\"] = None # TODO: Set to True if all connector savers are installed"
   ]
  },
  {
   "cell_type": "markdown",
   "metadata": {},
   "source": [
    "### Power OFF Resistance Measurements"
   ]
  },
  {
   "cell_type": "markdown",
   "metadata": {},
   "source": [
    "6) With the power off and no external connections to the PCB, measure the resistance on all power lines.  All measurements should be referenced to circuit ground."
   ]
  },
  {
   "cell_type": "code",
   "execution_count": 71,
   "metadata": {
    "collapsed": true
   },
   "outputs": [],
   "source": [
    "test_check[\"Power Off Measurements\"] = {}"
   ]
  },
  {
   "cell_type": "code",
   "execution_count": 74,
   "metadata": {
    "collapsed": true
   },
   "outputs": [],
   "source": [
    "test_check[\"Power Off Measurements\"][\"GND\"] = None\n",
    "test_check[\"Power Off Measurements\"][\"+5V\"] = None\n",
    "test_check[\"Power Off Measurements\"][\"+15V\"] = None\n",
    "test_check[\"Power Off Measurements\"][\"-12V\"] = None\n",
    "test_check[\"Power Off Measurements\"][\"+24\"] = None\n",
    "test_check[\"Power Off Measurements\"][\"-50\"] = None\n",
    "test_check[\"Power Off Measurements\"][\"+1.8F\"] = None\n",
    "test_check[\"Power Off Measurements\"][\"+1F\"] = None\n",
    "test_check[\"Power Off Measurements\"][\"+2.5\"] = None\n",
    "test_check[\"Power Off Measurements\"][\"+3.3B\"] = None\n",
    "test_check[\"Power Off Measurements\"][\"+3.3Dac\"] = None\n",
    "test_check[\"Power Off Measurements\"][\"+3.3F\"] = None"
   ]
  },
  {
   "cell_type": "markdown",
   "metadata": {},
   "source": [
    "7) With power OFF, measure the resistance to ground of all pins on the JS stack connector."
   ]
  },
  {
   "cell_type": "code",
   "execution_count": 82,
   "metadata": {
    "collapsed": false
   },
   "outputs": [],
   "source": [
    "from collections import defaultdict\n",
    "test_check[\"JS stack connector resistances\"] = defaultdict(dict)"
   ]
  },
  {
   "cell_type": "code",
   "execution_count": 83,
   "metadata": {
    "collapsed": false
   },
   "outputs": [],
   "source": [
    "test_check[\"JS stack connector resistances\"][1][\"GND\"] = None\n",
    "test_check[\"JS stack connector resistances\"][2][\"SDO-A-1\"] = None\n",
    "test_check[\"JS stack connector resistances\"][3][\"GND\"] = None\n",
    "test_check[\"JS stack connector resistances\"][4][\"SDO-B-1\"] = None\n",
    "test_check[\"JS stack connector resistances\"][5][\"GND\"] = None\n",
    "test_check[\"JS stack connector resistances\"][6][\"SDO-C-1\"] = None\n",
    "test_check[\"JS stack connector resistances\"][7][\"GND\"] = None\n",
    "test_check[\"JS stack connector resistances\"][8][\"SDO-D-1\"] = None\n",
    "test_check[\"JS stack connector resistances\"][9][\"GND\"] = None\n",
    "test_check[\"JS stack connector resistances\"][10][\"SCK\"] = None\n",
    "test_check[\"JS stack connector resistances\"][11][\"GND\"] = None\n",
    "test_check[\"JS stack connector resistances\"][12][\"CNV\"] = None\n",
    "test_check[\"JS stack connector resistances\"][13][\"GND\"] = None\n",
    "test_check[\"JS stack connector resistances\"][14][\"INT\"] = None\n",
    "test_check[\"JS stack connector resistances\"][15][\"GND\"] = None\n",
    "test_check[\"JS stack connector resistances\"][16][\"DEINT\"] = None\n",
    "test_check[\"JS stack connector resistances\"][17][\"GND\"] = None\n",
    "test_check[\"JS stack connector resistances\"][18][\"CLAMP\"] = None\n",
    "test_check[\"JS stack connector resistances\"][19][\"GND\"] = None\n",
    "test_check[\"JS stack connector resistances\"][20][\"CWCLK\"] = None\n",
    "test_check[\"JS stack connector resistances\"][21][\"GND\"] = None\n",
    "test_check[\"JS stack connector resistances\"][22][\"DD\"] = None\n",
    "test_check[\"JS stack connector resistances\"][23][\"GND\"] = None\n",
    "test_check[\"JS stack connector resistances\"][24][\"DCK\"] = None\n",
    "test_check[\"JS stack connector resistances\"][25][\"GND\"] = None\n",
    "test_check[\"JS stack connector resistances\"][26][\"SP1OR\"] = None\n",
    "test_check[\"JS stack connector resistances\"][27][\"GND\"] = None\n",
    "test_check[\"JS stack connector resistances\"][28][\"SP2OR\"] = None\n",
    "test_check[\"JS stack connector resistances\"][29][\"GND\"] = None\n",
    "test_check[\"JS stack connector resistances\"][30][\"SP3OR\"] = None\n",
    "test_check[\"JS stack connector resistances\"][31][\"GND\"] = None\n",
    "test_check[\"JS stack connector resistances\"][32][\"SRG\"] = None\n",
    "test_check[\"JS stack connector resistances\"][33][\"GND\"] = None\n",
    "test_check[\"JS stack connector resistances\"][34][\"SID\"] = None\n",
    "test_check[\"JS stack connector resistances\"][35][\"GND\"] = None\n",
    "test_check[\"JS stack connector resistances\"][36][\"SP1U\"] = None\n",
    "test_check[\"JS stack connector resistances\"][37][\"GND\"] = None\n",
    "test_check[\"JS stack connector resistances\"][38][\"SP2U\"] = None\n",
    "test_check[\"JS stack connector resistances\"][39][\"GND\"] = None\n",
    "test_check[\"JS stack connector resistances\"][40][\"SP3U\"] = None\n",
    "test_check[\"JS stack connector resistances\"][41][\"GND\"] = None\n",
    "test_check[\"JS stack connector resistances\"][42][\"_DS96_\"] = None\n",
    "test_check[\"JS stack connector resistances\"][43][\"GND\"] = None\n",
    "test_check[\"JS stack connector resistances\"][44][\"SDO-A-2\"] = None\n",
    "test_check[\"JS stack connector resistances\"][45][\"GND\"] = None\n",
    "test_check[\"JS stack connector resistances\"][46][\"SDO-B-2\"] = None\n",
    "test_check[\"JS stack connector resistances\"][47][\"GND\"] = None\n",
    "test_check[\"JS stack connector resistances\"][48][\"SDO-C-2\"] = None\n",
    "test_check[\"JS stack connector resistances\"][49][\"GND\"] = None\n",
    "test_check[\"JS stack connector resistances\"][50][\"SDO-D-2\"] = None\n",
    "test_check[\"JS stack connector resistances\"][51][\"P1-FS-1\"] = None\n",
    "test_check[\"JS stack connector resistances\"][52][\"P2-FS-1\"] = None\n",
    "test_check[\"JS stack connector resistances\"][53][\"P3-FS-1\"] = None\n",
    "test_check[\"JS stack connector resistances\"][54][\"P3-OR-1\"] = None\n",
    "test_check[\"JS stack connector resistances\"][55][\"P2-OR-1\"] = None\n",
    "test_check[\"JS stack connector resistances\"][56][\"P1-OR-1\"] = None\n",
    "test_check[\"JS stack connector resistances\"][57][\"RG-1\"] = None\n",
    "test_check[\"JS stack connector resistances\"][58][\"P1-IA-1\"] = None\n",
    "test_check[\"JS stack connector resistances\"][59][\"P2-IA-1\"] = None\n",
    "test_check[\"JS stack connector resistances\"][60][\"P3-IA-1\"] = None\n",
    "test_check[\"JS stack connector resistances\"][61][\"P1-U-1\"] = None\n",
    "test_check[\"JS stack connector resistances\"][62][\"P2-U-1\"] = None\n",
    "test_check[\"JS stack connector resistances\"][63][\"P3-U-1\"] = None\n",
    "test_check[\"JS stack connector resistances\"][64][\"ID-1\"] = None\n",
    "test_check[\"JS stack connector resistances\"][65][\"SP1-IA-1\"] = None\n",
    "test_check[\"JS stack connector resistances\"][66][\"SP2-IA-1\"] = None\n",
    "test_check[\"JS stack connector resistances\"][67][\"SP3-IA-1\"] = None\n",
    "test_check[\"JS stack connector resistances\"][68][\"SP1-FS-1\"] = None\n",
    "test_check[\"JS stack connector resistances\"][69][\"SP2-FS-1\"] = None\n",
    "test_check[\"JS stack connector resistances\"][70][\"SP3-FS-1\"] = None\n",
    "test_check[\"JS stack connector resistances\"][71][\"HK0\"] = None\n",
    "test_check[\"JS stack connector resistances\"][72][\"HK8\"] = None\n",
    "test_check[\"JS stack connector resistances\"][73][\"HK16\"] = None\n",
    "test_check[\"JS stack connector resistances\"][74][\"HK24\"] = None\n",
    "test_check[\"JS stack connector resistances\"][75][\"HK32\"] = None\n",
    "test_check[\"JS stack connector resistances\"][76][\"HK40\"] = None\n",
    "test_check[\"JS stack connector resistances\"][77][\"HK48\"] = None\n",
    "test_check[\"JS stack connector resistances\"][78][\"HK56\"] = None\n",
    "test_check[\"JS stack connector resistances\"][79][\"HK64\"] = None\n",
    "test_check[\"JS stack connector resistances\"][80][\"HK72\"] = None\n",
    "test_check[\"JS stack connector resistances\"][81][\"SP1-IA-2\"] = None\n",
    "test_check[\"JS stack connector resistances\"][82][\"SP2-IA-2\"] = None\n",
    "test_check[\"JS stack connector resistances\"][83][\"SP3-IA-2\"] = None\n",
    "test_check[\"JS stack connector resistances\"][84][\"SP1-FS-2\"] = None\n",
    "test_check[\"JS stack connector resistances\"][85][\"SP2-FS-2\"] = None\n",
    "test_check[\"JS stack connector resistances\"][86][\"SP3-FS-2\"] = None\n",
    "test_check[\"JS stack connector resistances\"][87][\"P1-FS-2\"] = None\n",
    "test_check[\"JS stack connector resistances\"][88][\"P2-FS-2\"] = None\n",
    "test_check[\"JS stack connector resistances\"][89][\"P3-FS-2\"] = None\n",
    "test_check[\"JS stack connector resistances\"][90][\"P3-OR-2\"] = None\n",
    "test_check[\"JS stack connector resistances\"][91][\"P2-OR-2\"] = None\n",
    "test_check[\"JS stack connector resistances\"][92][\"P1-OR-2\"] = None\n",
    "test_check[\"JS stack connector resistances\"][93][\"RG-2\"] = None\n",
    "test_check[\"JS stack connector resistances\"][94][\"P1-IA-2\"] = None\n",
    "test_check[\"JS stack connector resistances\"][95][\"P2-IA-2\"] = None\n",
    "test_check[\"JS stack connector resistances\"][96][\"P3-IA-2\"] = None\n",
    "test_check[\"JS stack connector resistances\"][97][\"P1-U-2\"] = None\n",
    "test_check[\"JS stack connector resistances\"][98][\"P2-U-2\"] = None\n",
    "test_check[\"JS stack connector resistances\"][99][\"P3-U-2\"] = None\n",
    "test_check[\"JS stack connector resistances\"][100][\"ID-2\"] = None\n",
    "test_check[\"JS stack connector resistances\"][101][\"ID-4\"] = None\n",
    "test_check[\"JS stack connector resistances\"][102][\"P3-U-4\"] = None\n",
    "test_check[\"JS stack connector resistances\"][103][\"P2-U-4\"] = None\n",
    "test_check[\"JS stack connector resistances\"][104][\"P1-U-4\"] = None\n",
    "test_check[\"JS stack connector resistances\"][105][\"P3-IA-4\"] = None\n",
    "test_check[\"JS stack connector resistances\"][106][\"P2-IA-4\"] = None\n",
    "test_check[\"JS stack connector resistances\"][107][\"P1-IA-4\"] = None\n",
    "test_check[\"JS stack connector resistances\"][108][\"RG-4\"] = None\n",
    "test_check[\"JS stack connector resistances\"][109][\"P1-OR-4\"] = None\n",
    "test_check[\"JS stack connector resistances\"][110][\"P2-OR-4\"] = None\n",
    "test_check[\"JS stack connector resistances\"][111][\"P3-OR-4\"] = None\n",
    "test_check[\"JS stack connector resistances\"][112][\"P3-FS-4\"] = None\n",
    "test_check[\"JS stack connector resistances\"][113][\"P2-FS-4\"] = None\n",
    "test_check[\"JS stack connector resistances\"][114][\"P1-FS-4\"] = None\n",
    "test_check[\"JS stack connector resistances\"][115][\"SP3-FS-4\"] = None\n",
    "test_check[\"JS stack connector resistances\"][116][\"SP2-FS-4\"] = None\n",
    "test_check[\"JS stack connector resistances\"][117][\"SP1-FS-4\"] = None\n",
    "test_check[\"JS stack connector resistances\"][118][\"SP3-IA-4\"] = None\n",
    "test_check[\"JS stack connector resistances\"][119][\"SP2-IA-4\"] = None\n",
    "test_check[\"JS stack connector resistances\"][120][\"SP1-IA-4\"] = None\n",
    "test_check[\"JS stack connector resistances\"][121][\"HK80\"] = None\n",
    "test_check[\"JS stack connector resistances\"][122][\"HK88\"] = None\n",
    "test_check[\"JS stack connector resistances\"][123][\"HK96\"] = None\n",
    "test_check[\"JS stack connector resistances\"][124][\"HK104\"] = None\n",
    "test_check[\"JS stack connector resistances\"][125][\"HK112\"] = None\n",
    "test_check[\"JS stack connector resistances\"][126][\"HK120\"] = None\n",
    "test_check[\"JS stack connector resistances\"][127][\"HKA0\"] = None\n",
    "test_check[\"JS stack connector resistances\"][128][\"HKA1\"] = None\n",
    "test_check[\"JS stack connector resistances\"][129][\"HKA2\"] = None\n",
    "test_check[\"JS stack connector resistances\"][130][\"HKCOM\"] = None\n",
    "test_check[\"JS stack connector resistances\"][131][\"SP3-FS-3\"] = None\n",
    "test_check[\"JS stack connector resistances\"][132][\"SP2-FS-3\"] = None\n",
    "test_check[\"JS stack connector resistances\"][133][\"SP1-FS-3\"] = None\n",
    "test_check[\"JS stack connector resistances\"][134][\"SP3-IA-3\"] = None\n",
    "test_check[\"JS stack connector resistances\"][135][\"SP2-IA-3\"] = None\n",
    "test_check[\"JS stack connector resistances\"][136][\"SP1-IA-3\"] = None\n",
    "test_check[\"JS stack connector resistances\"][137][\"ID-3\"] = None\n",
    "test_check[\"JS stack connector resistances\"][138][\"P3-U-3\"] = None\n",
    "test_check[\"JS stack connector resistances\"][139][\"P2-U-3\"] = None\n",
    "test_check[\"JS stack connector resistances\"][140][\"P1-U-3\"] = None\n",
    "test_check[\"JS stack connector resistances\"][141][\"P3-IA-3\"] = None\n",
    "test_check[\"JS stack connector resistances\"][142][\"P2-IA-3\"] = None\n",
    "test_check[\"JS stack connector resistances\"][143][\"P1-IA-3\"] = None\n",
    "test_check[\"JS stack connector resistances\"][144][\"RG-3\"] = None\n",
    "test_check[\"JS stack connector resistances\"][145][\"P1-OR-3\"] = None\n",
    "test_check[\"JS stack connector resistances\"][146][\"P2-OR-3\"] = None\n",
    "test_check[\"JS stack connector resistances\"][147][\"P3-OR-3\"] = None\n",
    "test_check[\"JS stack connector resistances\"][148][\"P3-FS-3\"] = None\n",
    "test_check[\"JS stack connector resistances\"][149][\"P2-FS-3\"] = None\n",
    "test_check[\"JS stack connector resistances\"][150][\"P1-FS-3\"] = None\n",
    "test_check[\"JS stack connector resistances\"][151][\"GND\"] = None\n",
    "test_check[\"JS stack connector resistances\"][152][\"SDO-D-4\"] = None\n",
    "test_check[\"JS stack connector resistances\"][153][\"GND\"] = None\n",
    "test_check[\"JS stack connector resistances\"][154][\"SDO-C-4\"] = None\n",
    "test_check[\"JS stack connector resistances\"][155][\"GND\"] = None\n",
    "test_check[\"JS stack connector resistances\"][156][\"SDO-B-4\"] = None\n",
    "test_check[\"JS stack connector resistances\"][157][\"GND\"] = None\n",
    "test_check[\"JS stack connector resistances\"][158][\"SDO-A-4\"] = None\n",
    "test_check[\"JS stack connector resistances\"][159][\"GND\"] = None\n",
    "test_check[\"JS stack connector resistances\"][160][\"_DS0_\"] = None\n",
    "test_check[\"JS stack connector resistances\"][161][\"GND\"] = None\n",
    "test_check[\"JS stack connector resistances\"][162][\"_DS8_\"] = None\n",
    "test_check[\"JS stack connector resistances\"][163][\"GND\"] = None\n",
    "test_check[\"JS stack connector resistances\"][164][\"_DS16_\"] = None\n",
    "test_check[\"JS stack connector resistances\"][165][\"GND\"] = None\n",
    "test_check[\"JS stack connector resistances\"][166][\"_DS24_\"] = None\n",
    "test_check[\"JS stack connector resistances\"][167][\"GND\"] = None\n",
    "test_check[\"JS stack connector resistances\"][168][\"_DS32_\"] = None\n",
    "test_check[\"JS stack connector resistances\"][169][\"GND\"] = None\n",
    "test_check[\"JS stack connector resistances\"][170][\"_DS40_\"] = None\n",
    "test_check[\"JS stack connector resistances\"][171][\"GND\"] = None\n",
    "test_check[\"JS stack connector resistances\"][172][\"\"] = None\n",
    "test_check[\"JS stack connector resistances\"][173][\"GND\"] = None\n",
    "test_check[\"JS stack connector resistances\"][174][\"RTDCOM\"] = None\n",
    "test_check[\"JS stack connector resistances\"][175][\"GND\"] = None\n",
    "test_check[\"JS stack connector resistances\"][176][\"15\"] = None\n",
    "test_check[\"JS stack connector resistances\"][177][\"GND\"] = None\n",
    "test_check[\"JS stack connector resistances\"][178][\"-12\"] = None\n",
    "test_check[\"JS stack connector resistances\"][179][\"GND\"] = None\n",
    "test_check[\"JS stack connector resistances\"][180][\"5\"] = None\n",
    "test_check[\"JS stack connector resistances\"][181][\"GND\"] = None\n",
    "test_check[\"JS stack connector resistances\"][182][\"_DS48_\"] = None\n",
    "test_check[\"JS stack connector resistances\"][183][\"GND\"] = None\n",
    "test_check[\"JS stack connector resistances\"][184][\"_DS56_\"] = None\n",
    "test_check[\"JS stack connector resistances\"][185][\"GND\"] = None\n",
    "test_check[\"JS stack connector resistances\"][186][\"_DS64_\"] = None\n",
    "test_check[\"JS stack connector resistances\"][187][\"GND\"] = None\n",
    "test_check[\"JS stack connector resistances\"][188][\"_DS72_\"] = None\n",
    "test_check[\"JS stack connector resistances\"][189][\"GND\"] = None\n",
    "test_check[\"JS stack connector resistances\"][190][\"_DS80_\"] = None\n",
    "test_check[\"JS stack connector resistances\"][191][\"GND\"] = None\n",
    "test_check[\"JS stack connector resistances\"][192][\"_DS88_\"] = None\n",
    "test_check[\"JS stack connector resistances\"][193][\"GND\"] = None\n",
    "test_check[\"JS stack connector resistances\"][194][\"SDO-D-3\"] = None\n",
    "test_check[\"JS stack connector resistances\"][195][\"GND\"] = None\n",
    "test_check[\"JS stack connector resistances\"][196][\"SDO-C-3\"] = None\n",
    "test_check[\"JS stack connector resistances\"][197][\"GND\"] = None\n",
    "test_check[\"JS stack connector resistances\"][198][\"SDO-B-3\"] = None\n",
    "test_check[\"JS stack connector resistances\"][199][\"GND\"] = None\n",
    "test_check[\"JS stack connector resistances\"][200][\"SDO-A-3\"] = None"
   ]
  },
  {
   "cell_type": "code",
   "execution_count": 72,
   "metadata": {
    "collapsed": true
   },
   "outputs": [],
   "source": [
    "# TODO: Write check for the above with reference values"
   ]
  },
  {
   "cell_type": "markdown",
   "metadata": {},
   "source": [
    "## Power On Voltage Measurements"
   ]
  },
  {
   "cell_type": "markdown",
   "metadata": {},
   "source": [
    "1) Verify that voltages on power connector from DHU Emulator are correct before connecting to test assembly. #TODO insert pinout diagram."
   ]
  },
  {
   "cell_type": "code",
   "execution_count": null,
   "metadata": {
    "collapsed": true
   },
   "outputs": [],
   "source": []
  },
  {
   "cell_type": "code",
   "execution_count": 85,
   "metadata": {
    "collapsed": true
   },
   "outputs": [],
   "source": [
    "test_check[\"Power On Measurements\"]={}"
   ]
  },
  {
   "cell_type": "code",
   "execution_count": 86,
   "metadata": {
    "collapsed": true
   },
   "outputs": [],
   "source": [
    "test_check[\"Power On Measurements\"][\"+5V\"] = None\n",
    "test_check[\"Power On Measurements\"][\"+15V\"] = None\n",
    "test_check[\"Power On Measurements\"][\"-12V\"] = None"
   ]
  },
  {
   "cell_type": "code",
   "execution_count": 87,
   "metadata": {
    "collapsed": true
   },
   "outputs": [],
   "source": [
    "# TODO: Write check for the above with reference values"
   ]
  },
  {
   "cell_type": "markdown",
   "metadata": {},
   "source": [
    "2) Connect DHU power cable to test assembly J??. Measure voltages again, along with currents. Current measurements are made on the DHE Emulator front panel using a DMM.  The output voltages at the measurement ports have a scale value of 1V/A."
   ]
  },
  {
   "cell_type": "code",
   "execution_count": 88,
   "metadata": {
    "collapsed": true
   },
   "outputs": [],
   "source": [
    "test_check[\"Power On Measurements Connected\"]={}"
   ]
  },
  {
   "cell_type": "code",
   "execution_count": 89,
   "metadata": {
    "collapsed": true
   },
   "outputs": [],
   "source": [
    "test_check[\"Power On Measurements Connected\"][\"+5V\"] = None\n",
    "test_check[\"Power On Measurements Connected\"][\"+5V Current\"] = None\n",
    "test_check[\"Power On Measurements Connected\"][\"+15V\"] = None\n",
    "test_check[\"Power On Measurements Connected\"][\"+15V Current\"] = None\n",
    "test_check[\"Power On Measurements Connected\"][\"-12V\"] = None\n",
    "test_check[\"Power On Measurements Connected\"][\"12V Current\"] = None"
   ]
  },
  {
   "cell_type": "code",
   "execution_count": null,
   "metadata": {
    "collapsed": true
   },
   "outputs": [],
   "source": [
    "# TODO: Write check for the above with reference values"
   ]
  },
  {
   "cell_type": "markdown",
   "metadata": {},
   "source": [
    "3) Capture FLIR images; check for hot spots. Use a service like Flickr to upload your photo and paste the URL below, in place of the default image.\n",
    "\n",
    "You will need to double-click the active area to the left of the image to see the embedded link, then delete it and replace it with your new link.  For Flickr, use the link given at \"Share Photo\" then \"Embed\".  Hit control-enter to run the cell and see the image."
   ]
  },
  {
   "cell_type": "markdown",
   "metadata": {},
   "source": [
    "<!-- Delete the mock below and put in a real image -->\n",
    "\n",
    "<a data-flickr-embed=\"true\"  href=\"https://www.flickr.com/photos/135953480@N06/21780051598/in/datetaken/\" title=\"image\"><img src=\"https://farm6.staticflickr.com/5766/21780051598_a877733b37_h.jpg\" width=\"1600\" height=\"1200\" alt=\"image\"></a><script async src=\"//embedr.flickr.com/assets/client-code.js\" charset=\"utf-8\"></script>"
   ]
  },
  {
   "cell_type": "markdown",
   "metadata": {},
   "source": [
    "## Program FPGA"
   ]
  },
  {
   "cell_type": "markdown",
   "metadata": {},
   "source": [
    "#TODO Put fpe intaller instructions here."
   ]
  },
  {
   "cell_type": "code",
   "execution_count": null,
   "metadata": {
    "collapsed": true
   },
   "outputs": [],
   "source": []
  },
  {
   "cell_type": "markdown",
   "metadata": {},
   "source": [
    "Make sure that FPE has both power and data cables connected, and make sure that the FPE is connected to the \"FPE 1\" socket on the observatory simulator. Execute the cell below to program the FPGA."
   ]
  },
  {
   "cell_type": "code",
   "execution_count": 91,
   "metadata": {
    "collapsed": false
   },
   "outputs": [
    {
     "ename": "ImportError",
     "evalue": "No module named dhu.fpe",
     "output_type": "error",
     "traceback": [
      "\u001b[0;31m---------------------------------------------------------------------------\u001b[0m",
      "\u001b[0;31mImportError\u001b[0m                               Traceback (most recent call last)",
      "\u001b[0;32m<ipython-input-91-eba5d586e6ce>\u001b[0m in \u001b[0;36m<module>\u001b[0;34m()\u001b[0m\n\u001b[0;32m----> 1\u001b[0;31m \u001b[0;32mfrom\u001b[0m \u001b[0mtessfpe\u001b[0m\u001b[0;34m.\u001b[0m\u001b[0mdhu\u001b[0m\u001b[0;34m.\u001b[0m\u001b[0mfpe\u001b[0m \u001b[0;32mimport\u001b[0m \u001b[0mFPE\u001b[0m\u001b[0;34m\u001b[0m\u001b[0m\n\u001b[0m\u001b[1;32m      2\u001b[0m \u001b[0mfpe1\u001b[0m \u001b[0;34m=\u001b[0m \u001b[0mFPE\u001b[0m\u001b[0;34m(\u001b[0m\u001b[0;36m1\u001b[0m\u001b[0;34m,\u001b[0m \u001b[0mpreload\u001b[0m\u001b[0;34m=\u001b[0m\u001b[0mTrue\u001b[0m\u001b[0;34m,\u001b[0m \u001b[0mdebug\u001b[0m\u001b[0;34m=\u001b[0m\u001b[0mTrue\u001b[0m\u001b[0;34m)\u001b[0m\u001b[0;34m\u001b[0m\u001b[0m\n",
      "\u001b[0;31mImportError\u001b[0m: No module named dhu.fpe"
     ]
    }
   ],
   "source": [
    "from tessfpe.dhu.fpe import FPE\n",
    "fpe1 = FPE(1, preload=True, debug=True)"
   ]
  },
  {
   "cell_type": "code",
   "execution_count": 93,
   "metadata": {
    "collapsed": false
   },
   "outputs": [
    {
     "data": {
      "text/plain": [
       "{'+1.8f': {'address': 110, 'high': 16.5, 'low': -16.5, 'unit': 'V'},\n",
       " '+15': {'address': 105, 'high': 16.5, 'low': -16.5, 'unit': 'V'},\n",
       " '+1f': {'address': 111, 'high': 16.5, 'low': -16.5, 'unit': 'V'},\n",
       " '+2.5f': {'address': 109, 'high': 16.5, 'low': -16.5, 'unit': 'V'},\n",
       " '+3.3f': {'address': 108, 'high': 16.5, 'low': -16.5, 'unit': 'V'},\n",
       " '+5': {'address': 106, 'high': 16.5, 'low': -16.5, 'unit': 'V'},\n",
       " '-12': {'address': 107, 'high': 16.5, 'low': -16.5, 'unit': 'V'},\n",
       " 'alcu_sensor_ccd1': {'address': 124,\n",
       "  'high': 40.0,\n",
       "  'low': -150.0,\n",
       "  'unit': 'C'},\n",
       " 'alcu_sensor_ccd2': {'address': 125,\n",
       "  'high': 40.0,\n",
       "  'low': -150.0,\n",
       "  'unit': 'C'},\n",
       " 'alcu_sensor_ccd3': {'address': 126,\n",
       "  'high': 40.0,\n",
       "  'low': -150.0,\n",
       "  'unit': 'C'},\n",
       " 'alcu_sensor_ccd4': {'address': 127,\n",
       "  'high': 40.0,\n",
       "  'low': -150.0,\n",
       "  'unit': 'C'},\n",
       " 'ccd1_backside': {'address': 5, 'high': 16.5, 'low': -16.5, 'unit': 'V'},\n",
       " 'ccd1_board_temperature': {'address': 7,\n",
       "  'high': 360.0,\n",
       "  'low': -360.0,\n",
       "  'unit': 'K'},\n",
       " 'ccd1_input_diode_high': {'address': 70,\n",
       "  'high': 16.5,\n",
       "  'low': -16.5,\n",
       "  'unit': 'V'},\n",
       " 'ccd1_input_diode_low': {'address': 71,\n",
       "  'high': 16.5,\n",
       "  'low': -16.5,\n",
       "  'unit': 'V'},\n",
       " 'ccd1_input_gate_1': {'address': 1, 'high': 16.5, 'low': -16.5, 'unit': 'V'},\n",
       " 'ccd1_input_gate_2': {'address': 2, 'high': 16.5, 'low': -16.5, 'unit': 'V'},\n",
       " 'ccd1_output_drain_a': {'address': 8,\n",
       "  'high': 27.3,\n",
       "  'low': -27.3,\n",
       "  'unit': 'V'},\n",
       " 'ccd1_output_drain_b': {'address': 9,\n",
       "  'high': 27.3,\n",
       "  'low': -27.3,\n",
       "  'unit': 'V'},\n",
       " 'ccd1_output_drain_c': {'address': 10,\n",
       "  'high': 27.3,\n",
       "  'low': -27.3,\n",
       "  'unit': 'V'},\n",
       " 'ccd1_output_drain_d': {'address': 11,\n",
       "  'high': 27.3,\n",
       "  'low': -27.3,\n",
       "  'unit': 'V'},\n",
       " 'ccd1_output_gate': {'address': 0, 'high': 16.5, 'low': -16.5, 'unit': 'V'},\n",
       " 'ccd1_output_source_a': {'address': 12,\n",
       "  'high': 27.3,\n",
       "  'low': -27.3,\n",
       "  'unit': 'V'},\n",
       " 'ccd1_output_source_b': {'address': 13,\n",
       "  'high': 27.3,\n",
       "  'low': -27.3,\n",
       "  'unit': 'V'},\n",
       " 'ccd1_output_source_c': {'address': 14,\n",
       "  'high': 27.3,\n",
       "  'low': -27.3,\n",
       "  'unit': 'V'},\n",
       " 'ccd1_output_source_d': {'address': 15,\n",
       "  'high': 27.3,\n",
       "  'low': -27.3,\n",
       "  'unit': 'V'},\n",
       " 'ccd1_parallel_high': {'address': 64,\n",
       "  'high': 16.5,\n",
       "  'low': -16.5,\n",
       "  'unit': 'V'},\n",
       " 'ccd1_parallel_low': {'address': 65, 'high': 16.5, 'low': -16.5, 'unit': 'V'},\n",
       " 'ccd1_reset_drain': {'address': 4, 'high': 16.5, 'low': -16.5, 'unit': 'V'},\n",
       " 'ccd1_reset_high': {'address': 68, 'high': 16.5, 'low': -16.5, 'unit': 'V'},\n",
       " 'ccd1_reset_low': {'address': 69, 'high': 16.5, 'low': -16.5, 'unit': 'V'},\n",
       " 'ccd1_scupper': {'address': 3, 'high': 16.5, 'low': -16.5, 'unit': 'V'},\n",
       " 'ccd1_serial_high': {'address': 66, 'high': 16.5, 'low': -16.5, 'unit': 'V'},\n",
       " 'ccd1_serial_low': {'address': 67, 'high': 16.5, 'low': -16.5, 'unit': 'V'},\n",
       " 'ccd1_substrate': {'address': 6, 'high': 82.0, 'low': -82.0, 'unit': 'V'},\n",
       " 'ccd2_backside': {'address': 21, 'high': 16.5, 'low': -16.5, 'unit': 'V'},\n",
       " 'ccd2_board_temperature': {'address': 23,\n",
       "  'high': 360.0,\n",
       "  'low': -360.0,\n",
       "  'unit': 'K'},\n",
       " 'ccd2_input_diode_high': {'address': 78,\n",
       "  'high': 16.5,\n",
       "  'low': -16.5,\n",
       "  'unit': 'V'},\n",
       " 'ccd2_input_diode_low': {'address': 79,\n",
       "  'high': 16.5,\n",
       "  'low': -16.5,\n",
       "  'unit': 'V'},\n",
       " 'ccd2_input_gate_1': {'address': 17, 'high': 16.5, 'low': -16.5, 'unit': 'V'},\n",
       " 'ccd2_input_gate_2': {'address': 18, 'high': 16.5, 'low': -16.5, 'unit': 'V'},\n",
       " 'ccd2_output_drain_a': {'address': 24,\n",
       "  'high': 27.3,\n",
       "  'low': -27.3,\n",
       "  'unit': 'V'},\n",
       " 'ccd2_output_drain_b': {'address': 25,\n",
       "  'high': 27.3,\n",
       "  'low': -27.3,\n",
       "  'unit': 'V'},\n",
       " 'ccd2_output_drain_c': {'address': 26,\n",
       "  'high': 27.3,\n",
       "  'low': -27.3,\n",
       "  'unit': 'V'},\n",
       " 'ccd2_output_drain_d': {'address': 27,\n",
       "  'high': 27.3,\n",
       "  'low': -27.3,\n",
       "  'unit': 'V'},\n",
       " 'ccd2_output_gate': {'address': 16, 'high': 16.5, 'low': -16.5, 'unit': 'V'},\n",
       " 'ccd2_output_source_a': {'address': 28,\n",
       "  'high': 27.3,\n",
       "  'low': -27.3,\n",
       "  'unit': 'V'},\n",
       " 'ccd2_output_source_b': {'address': 29,\n",
       "  'high': 27.3,\n",
       "  'low': -27.3,\n",
       "  'unit': 'V'},\n",
       " 'ccd2_output_source_c': {'address': 30,\n",
       "  'high': 27.3,\n",
       "  'low': -27.3,\n",
       "  'unit': 'V'},\n",
       " 'ccd2_output_source_d': {'address': 31,\n",
       "  'high': 27.3,\n",
       "  'low': -27.3,\n",
       "  'unit': 'V'},\n",
       " 'ccd2_parallel_high': {'address': 72,\n",
       "  'high': 16.5,\n",
       "  'low': -16.5,\n",
       "  'unit': 'V'},\n",
       " 'ccd2_parallel_low': {'address': 73, 'high': 16.5, 'low': -16.5, 'unit': 'V'},\n",
       " 'ccd2_reset_drain': {'address': 20, 'high': 16.5, 'low': -16.5, 'unit': 'V'},\n",
       " 'ccd2_reset_high': {'address': 76, 'high': 16.5, 'low': -16.5, 'unit': 'V'},\n",
       " 'ccd2_reset_low': {'address': 77, 'high': 16.5, 'low': -16.5, 'unit': 'V'},\n",
       " 'ccd2_scupper': {'address': 19, 'high': 16.5, 'low': -16.5, 'unit': 'V'},\n",
       " 'ccd2_serial_high': {'address': 74, 'high': 16.5, 'low': -16.5, 'unit': 'V'},\n",
       " 'ccd2_serial_low': {'address': 75, 'high': 16.5, 'low': -16.5, 'unit': 'V'},\n",
       " 'ccd2_substrate': {'address': 22, 'high': 82.0, 'low': -82.0, 'unit': 'V'},\n",
       " 'ccd3_backside': {'address': 37, 'high': 16.5, 'low': -16.5, 'unit': 'V'},\n",
       " 'ccd3_board_temperature': {'address': 39,\n",
       "  'high': 360.0,\n",
       "  'low': -360.0,\n",
       "  'unit': 'K'},\n",
       " 'ccd3_input_diode_high': {'address': 86,\n",
       "  'high': 16.5,\n",
       "  'low': -16.5,\n",
       "  'unit': 'V'},\n",
       " 'ccd3_input_diode_low': {'address': 87,\n",
       "  'high': 16.5,\n",
       "  'low': -16.5,\n",
       "  'unit': 'V'},\n",
       " 'ccd3_input_gate_1': {'address': 33, 'high': 16.5, 'low': -16.5, 'unit': 'V'},\n",
       " 'ccd3_input_gate_2': {'address': 34, 'high': 16.5, 'low': -16.5, 'unit': 'V'},\n",
       " 'ccd3_output_drain_a': {'address': 40,\n",
       "  'high': 27.3,\n",
       "  'low': -27.3,\n",
       "  'unit': 'V'},\n",
       " 'ccd3_output_drain_b': {'address': 41,\n",
       "  'high': 27.3,\n",
       "  'low': -27.3,\n",
       "  'unit': 'V'},\n",
       " 'ccd3_output_drain_c': {'address': 42,\n",
       "  'high': 27.3,\n",
       "  'low': -27.3,\n",
       "  'unit': 'V'},\n",
       " 'ccd3_output_drain_d': {'address': 43,\n",
       "  'high': 27.3,\n",
       "  'low': -27.3,\n",
       "  'unit': 'V'},\n",
       " 'ccd3_output_gate': {'address': 32, 'high': 16.5, 'low': -16.5, 'unit': 'V'},\n",
       " 'ccd3_output_source_a': {'address': 44,\n",
       "  'high': 27.3,\n",
       "  'low': -27.3,\n",
       "  'unit': 'V'},\n",
       " 'ccd3_output_source_b': {'address': 45,\n",
       "  'high': 27.3,\n",
       "  'low': -27.3,\n",
       "  'unit': 'V'},\n",
       " 'ccd3_output_source_c': {'address': 46,\n",
       "  'high': 27.3,\n",
       "  'low': -27.3,\n",
       "  'unit': 'V'},\n",
       " 'ccd3_output_source_d': {'address': 47,\n",
       "  'high': 27.3,\n",
       "  'low': -27.3,\n",
       "  'unit': 'V'},\n",
       " 'ccd3_parallel_high': {'address': 80,\n",
       "  'high': 16.5,\n",
       "  'low': -16.5,\n",
       "  'unit': 'V'},\n",
       " 'ccd3_parallel_low': {'address': 81, 'high': 16.5, 'low': -16.5, 'unit': 'V'},\n",
       " 'ccd3_reset_drain': {'address': 36, 'high': 16.5, 'low': -16.5, 'unit': 'V'},\n",
       " 'ccd3_reset_high': {'address': 84, 'high': 16.5, 'low': -16.5, 'unit': 'V'},\n",
       " 'ccd3_reset_low': {'address': 85, 'high': 16.5, 'low': -16.5, 'unit': 'V'},\n",
       " 'ccd3_scupper': {'address': 35, 'high': 16.5, 'low': -16.5, 'unit': 'V'},\n",
       " 'ccd3_serial_high': {'address': 82, 'high': 16.5, 'low': -16.5, 'unit': 'V'},\n",
       " 'ccd3_serial_low': {'address': 83, 'high': 16.5, 'low': -16.5, 'unit': 'V'},\n",
       " 'ccd3_substrate': {'address': 38, 'high': 82.0, 'low': -82.0, 'unit': 'V'},\n",
       " 'ccd4_backside': {'address': 53, 'high': 16.5, 'low': -16.5, 'unit': 'V'},\n",
       " 'ccd4_board_temperature': {'address': 55,\n",
       "  'high': 360.0,\n",
       "  'low': -360.0,\n",
       "  'unit': 'K'},\n",
       " 'ccd4_input_diode_high': {'address': 94,\n",
       "  'high': 16.5,\n",
       "  'low': -16.5,\n",
       "  'unit': 'V'},\n",
       " 'ccd4_input_diode_low': {'address': 95,\n",
       "  'high': 16.5,\n",
       "  'low': -16.5,\n",
       "  'unit': 'V'},\n",
       " 'ccd4_input_gate_1': {'address': 49, 'high': 16.5, 'low': -16.5, 'unit': 'V'},\n",
       " 'ccd4_input_gate_2': {'address': 50, 'high': 16.5, 'low': -16.5, 'unit': 'V'},\n",
       " 'ccd4_output_drain_a': {'address': 56,\n",
       "  'high': 27.3,\n",
       "  'low': -27.3,\n",
       "  'unit': 'V'},\n",
       " 'ccd4_output_drain_b': {'address': 57,\n",
       "  'high': 27.3,\n",
       "  'low': -27.3,\n",
       "  'unit': 'V'},\n",
       " 'ccd4_output_drain_c': {'address': 58,\n",
       "  'high': 27.3,\n",
       "  'low': -27.3,\n",
       "  'unit': 'V'},\n",
       " 'ccd4_output_drain_d': {'address': 59,\n",
       "  'high': 27.3,\n",
       "  'low': -27.3,\n",
       "  'unit': 'V'},\n",
       " 'ccd4_output_gate': {'address': 48, 'high': 16.5, 'low': -16.5, 'unit': 'V'},\n",
       " 'ccd4_output_source_a': {'address': 60,\n",
       "  'high': 27.3,\n",
       "  'low': -27.3,\n",
       "  'unit': 'V'},\n",
       " 'ccd4_output_source_b': {'address': 61,\n",
       "  'high': 27.3,\n",
       "  'low': -27.3,\n",
       "  'unit': 'V'},\n",
       " 'ccd4_output_source_c': {'address': 62,\n",
       "  'high': 27.3,\n",
       "  'low': -27.3,\n",
       "  'unit': 'V'},\n",
       " 'ccd4_output_source_d': {'address': 63,\n",
       "  'high': 27.3,\n",
       "  'low': -27.3,\n",
       "  'unit': 'V'},\n",
       " 'ccd4_parallel_high': {'address': 88,\n",
       "  'high': 16.5,\n",
       "  'low': -16.5,\n",
       "  'unit': 'V'},\n",
       " 'ccd4_parallel_low': {'address': 89, 'high': 16.5, 'low': -16.5, 'unit': 'V'},\n",
       " 'ccd4_reset_drain': {'address': 52, 'high': 16.5, 'low': -16.5, 'unit': 'V'},\n",
       " 'ccd4_reset_high': {'address': 92, 'high': 16.5, 'low': -16.5, 'unit': 'V'},\n",
       " 'ccd4_reset_low': {'address': 93, 'high': 16.5, 'low': -16.5, 'unit': 'V'},\n",
       " 'ccd4_scupper': {'address': 51, 'high': 16.5, 'low': -16.5, 'unit': 'V'},\n",
       " 'ccd4_serial_high': {'address': 90, 'high': 16.5, 'low': -16.5, 'unit': 'V'},\n",
       " 'ccd4_serial_low': {'address': 91, 'high': 16.5, 'low': -16.5, 'unit': 'V'},\n",
       " 'ccd4_substrate': {'address': 54, 'high': 82.0, 'low': -82.0, 'unit': 'V'},\n",
       " 'heater_1_current': {'address': 96,\n",
       "  'high': 273.0,\n",
       "  'low': -273.0,\n",
       "  'unit': 'mA'},\n",
       " 'heater_2_current': {'address': 97,\n",
       "  'high': 273.0,\n",
       "  'low': -273.0,\n",
       "  'unit': 'mA'},\n",
       " 'heater_3_current': {'address': 98,\n",
       "  'high': 273.0,\n",
       "  'low': -273.0,\n",
       "  'unit': 'mA'},\n",
       " 'pt1000_sensor_1': {'address': 112,\n",
       "  'high': 130.0,\n",
       "  'low': -125.0,\n",
       "  'unit': 'C'},\n",
       " 'pt1000_sensor_10': {'address': 121,\n",
       "  'high': 130.0,\n",
       "  'low': -125.0,\n",
       "  'unit': 'C'},\n",
       " 'pt1000_sensor_11': {'address': 122,\n",
       "  'high': 130.0,\n",
       "  'low': -125.0,\n",
       "  'unit': 'C'},\n",
       " 'pt1000_sensor_12': {'address': 123,\n",
       "  'high': 130.0,\n",
       "  'low': -125.0,\n",
       "  'unit': 'C'},\n",
       " 'pt1000_sensor_2': {'address': 113,\n",
       "  'high': 130.0,\n",
       "  'low': -125.0,\n",
       "  'unit': 'C'},\n",
       " 'pt1000_sensor_3': {'address': 114,\n",
       "  'high': 130.0,\n",
       "  'low': -125.0,\n",
       "  'unit': 'C'},\n",
       " 'pt1000_sensor_4': {'address': 115,\n",
       "  'high': 130.0,\n",
       "  'low': -125.0,\n",
       "  'unit': 'C'},\n",
       " 'pt1000_sensor_5': {'address': 116,\n",
       "  'high': 130.0,\n",
       "  'low': -125.0,\n",
       "  'unit': 'C'},\n",
       " 'pt1000_sensor_6': {'address': 117,\n",
       "  'high': 130.0,\n",
       "  'low': -125.0,\n",
       "  'unit': 'C'},\n",
       " 'pt1000_sensor_7': {'address': 118,\n",
       "  'high': 130.0,\n",
       "  'low': -125.0,\n",
       "  'unit': 'C'},\n",
       " 'pt1000_sensor_8': {'address': 119,\n",
       "  'high': 130.0,\n",
       "  'low': -125.0,\n",
       "  'unit': 'C'},\n",
       " 'pt1000_sensor_9': {'address': 120,\n",
       "  'high': 130.0,\n",
       "  'low': -125.0,\n",
       "  'unit': 'C'}}"
      ]
     },
     "execution_count": 93,
     "metadata": {},
     "output_type": "execute_result"
    }
   ],
   "source": [
    "from tessfpe.data.housekeeping_channels import housekeeping_channels\n",
    "housekeeping_channels"
   ]
  },
  {
   "cell_type": "code",
   "execution_count": null,
   "metadata": {
    "collapsed": true
   },
   "outputs": [],
   "source": []
  },
  {
   "cell_type": "markdown",
   "metadata": {},
   "source": [
    "<pre>\n",
    "- FPE Test Procedures\n",
    "\t- FPE Bring-up Procedure (Check boxes for board type? Flight or not?)\n",
    "\t\t- Verify work area is ESD safe\n",
    "\t\t- Setup per diagram, take photos\n",
    "\t\t- Note test equipment model #'s and serial #'s\n",
    "\t\t- Standard inspections for all 3 PCB types; capture images\n",
    "\t\t\t- Weigh assembly, note non-flight configurations\n",
    "\t\t\t- Visual inspection under stereo microscope\n",
    "\t\t\t\t- Workmanship and mechanical damage\n",
    "\t\t\t\t- DNP parts not installed\n",
    "\t\t\t\t- No missing components\n",
    "\t\t\t\tVerify req'd jumpers installed\n",
    "\t\t\t\tComponent orientation (chips, polarized caps, diodes, etc)\n",
    "\t\t\t\tVerify chips are correct parts (& date codes if specified in design)\n",
    "\t\t\t\tVerify connector savers installed if req'd\n",
    "                \n",
    "\t\tPower OFF resistance measurements (compare to reference values)\n",
    "\t\t\tPower lines\n",
    "\t\t\tStack connector\n",
    "\t\t\tCCD connectors (video only) Maybe delete this? Discuss.\n",
    "\t\t\tTemp connector (video only)\n",
    "\t\tPower ON voltage measurements (compare to reference values/images)\n",
    "\t\t\tDHU supply voltages before connection to setup\n",
    "\t\t\tDHU supply voltages and currents with setup connected\n",
    "\t\t\tCapture FLIR images; check for hot spots\n",
    "\t\t\tMeasure voltages on all open connector pins (= PCB safe-to-mate)\n",
    "\t\t\t\tInterface: stack connector only\n",
    "\t\t\t\tDriver: stack connector only\n",
    "\t\t\t\tVideo: \n",
    "\t\t\t\t\tstack connector\n",
    "\t\t\t\t\tCCD connectors (discuss need for this)\n",
    "\t\t\t\t\tTemp connector\n",
    "\t\tProgram FPGA\n",
    "\t\t\tVerify communication \n",
    "\t\t\tLoad Wrapper and MemFiles (record version numbers)\n",
    "\t\t\tStart frames\n",
    "\t\t\t\tTake raw image as verification that FPGA was programmed OK\n",
    "\t\t\tStop frames\n",
    "\t\t\t\tTake HK data as further verification (ref values for 3 cases: Interface only, Interface + Driver, full stack)\n",
    "\t\t*Bring up complete*\n",
    "\tFPE Functional Test and calibration\n",
    "\t\t(Assume for now we test full stack, not separate boards)\n",
    "\t\tSetup per diagram, take photos\n",
    "\t\tNote test equipment model #'s and serial #'s\n",
    "\t\tPower ON voltage measurements (compare to reference values/images)\n",
    "\t\t\tDHU supply voltages before connection to setup\n",
    "\t\t\tDHU supply voltages and currents with setup connected\n",
    "\t\tProgram FPGA\n",
    "\t\t\tVerify communication \n",
    "\t\t\tLoad Wrapper and MemFiles (record version numbers)\n",
    "\t\tHousekeeping calibration\n",
    "\t\t\tStart frames, Stop frames (or otherwise set DACs to default values)\n",
    "\t\t\tDo HK calibration process\n",
    "\t\t\t\tGet HK bias value(s)\n",
    "\t\t\t\tEtc…\n",
    "\t\t\tVery with DMM measurements\n",
    "\t\t\t\tSupply voltages\n",
    "\t\t\t\tOthers? All 128? HK ADC bias?\n",
    "\t\t\tCapture calibrated HK set\n",
    "\t\t\t\tBias groups\n",
    "\t\t\t\tClock Driver groups\n",
    "\t\t\t\tInterface group\n",
    "\t\tDAC Calibration\n",
    "\t\t\tDo DAC calibration process\n",
    "\t\t\tCapture HK set over full range of DAC settings (frames stopped)\n",
    "\t\t\tStart frames\n",
    "\t\t\tCapture HK set (frames running)\n",
    "\t\tCCD signal verification and CCD safe-to-mate\n",
    "\t\t\tMeasure signals at CCD connectors\n",
    "\t\t\t\tVerify clock voltages, timing, wave shapes on scope for each CCD connector\n",
    "\t\tRTD Functional test and calibration\n",
    "\t\t\tConnect 12 x 1000 Ohm 0.1% resistors  to Temp connector\n",
    "\t\t\t(Connect calibration R's to AlCu sensor connections somewhere)??\n",
    "\t\t\tCapture HK set for RTD's\n",
    "\t\t\tDo RTD calibration process\n",
    "\t\t\tCapture calibrated HK set for Thermal group\n",
    "\t\tHeater Functional test and calibration\n",
    "\t\t\tConnect three heater calibration resistors to HTR outputs\n",
    "\t\t\tCapture HK set for Heater group\n",
    "\t\t\tDo Heater calibration process\n",
    "\t\t\tCapture calibrated HK set for Heater group\n",
    "\t\t*Functional test and calibration complete*\n",
    "*FPE Test Procedure complete*\n",
    "</pre>"
   ]
  },
  {
   "cell_type": "markdown",
   "metadata": {},
   "source": [
    "# Test Check"
   ]
  },
  {
   "cell_type": "markdown",
   "metadata": {},
   "source": [
    "Below we validate that all of the tests and procedures above have been performed properly.\n",
    "\n",
    "If some step has not been carried out properly, an *Exception* will be thrown."
   ]
  },
  {
   "cell_type": "code",
   "execution_count": 50,
   "metadata": {
    "collapsed": true
   },
   "outputs": [],
   "source": [
    "# TODO: Recursively search test_check to make sure that no value is `None`"
   ]
  },
  {
   "cell_type": "code",
   "execution_count": 51,
   "metadata": {
    "collapsed": true
   },
   "outputs": [],
   "source": [
    "def url_exists(site, path):\n",
    "    # TODO: Fix me so that site is broken up from path\n",
    "    import httplib\n",
    "    conn = httplib.HTTPConnection(site)\n",
    "    conn.request('HEAD', path)\n",
    "    response = conn.getresponse()\n",
    "    conn.close()\n",
    "    return response.status == 200"
   ]
  },
  {
   "cell_type": "code",
   "execution_count": 52,
   "metadata": {
    "collapsed": false
   },
   "outputs": [
    {
     "ename": "AssertionError",
     "evalue": "Name should be entered as a string",
     "output_type": "error",
     "traceback": [
      "\u001b[0;31m---------------------------------------------------------------------------\u001b[0m",
      "\u001b[0;31mAssertionError\u001b[0m                            Traceback (most recent call last)",
      "\u001b[0;32m<ipython-input-52-09609655e592>\u001b[0m in \u001b[0;36m<module>\u001b[0;34m()\u001b[0m\n\u001b[0;32m----> 1\u001b[0;31m \u001b[0;32massert\u001b[0m \u001b[0mtype\u001b[0m\u001b[0;34m(\u001b[0m\u001b[0mtest_check\u001b[0m\u001b[0;34m[\u001b[0m\u001b[0;34m\"NAME\"\u001b[0m\u001b[0;34m]\u001b[0m\u001b[0;34m)\u001b[0m \u001b[0;32mis\u001b[0m \u001b[0mstr\u001b[0m\u001b[0;34m,\u001b[0m \u001b[0;34m\"Name should be entered as a string\"\u001b[0m\u001b[0;34m\u001b[0m\u001b[0m\n\u001b[0m\u001b[1;32m      2\u001b[0m \u001b[0;32massert\u001b[0m \u001b[0mtype\u001b[0m\u001b[0;34m(\u001b[0m\u001b[0mtest_check\u001b[0m\u001b[0;34m[\u001b[0m\u001b[0;34m\"EMAIL\"\u001b[0m\u001b[0;34m]\u001b[0m\u001b[0;34m)\u001b[0m \u001b[0;32mis\u001b[0m \u001b[0mstr\u001b[0m\u001b[0;34m,\u001b[0m \u001b[0;34m\"Email should be entered as a string\"\u001b[0m\u001b[0;34m\u001b[0m\u001b[0m\n\u001b[1;32m      3\u001b[0m \u001b[0;31m# TODO: check that email is a valid email with a regex\u001b[0m\u001b[0;34m\u001b[0m\u001b[0;34m\u001b[0m\u001b[0m\n\u001b[1;32m      4\u001b[0m \u001b[0;31m# assert type(test_check[\"EMAIL\"]) is str, \"Email should be <blah>@<blah>.(com|edu|org|net|gov)\"\u001b[0m\u001b[0;34m\u001b[0m\u001b[0;34m\u001b[0m\u001b[0m\n\u001b[1;32m      5\u001b[0m \u001b[0;34m\u001b[0m\u001b[0m\n",
      "\u001b[0;31mAssertionError\u001b[0m: Name should be entered as a string"
     ]
    }
   ],
   "source": [
    "assert type(test_check[\"NAME\"]) is str, \"Name should be entered as a string\"\n",
    "assert type(test_check[\"EMAIL\"]) is str, \"Email should be entered as a string\"\n",
    "# TODO: check that email is a valid email with a regex\n",
    "# assert type(test_check[\"EMAIL\"]) is str, \"Email should be <blah>@<blah>.(com|edu|org|net|gov)\"\n",
    "\n",
    "assert type(test_check[\"Part Number\"]) is str\n",
    "assert type(test_check[\"Serial Number\"]) is str"
   ]
  },
  {
   "cell_type": "code",
   "execution_count": null,
   "metadata": {
    "collapsed": false
   },
   "outputs": [],
   "source": [
    "# TODO: check that \"DATE\" is valid time stamp of the form \"MM/DD/YY\"\n",
    "# TODO: check that \"ESD_SAFE\" is the string 'ESD Safe'.\n",
    "\n",
    "# assert type(test_check[\"EMAIL\"]) is str, \"Email should be <blah>@<blah>.(com|edu|org|net|gov)\"\n",
    "\n",
    "assert test_check[\"FRONT_ASSEMBLY_PHOTO\"] not in placeholder_photos, \"Front assembly photo should not be a stock photo\"\n",
    "#assert url_exists(test_check[\"FRONT_ASSEMBLY_PHOTO\"]), \"URL for front assembly photo should exist\"\n",
    "assert test_check[\"BACK_ASSEMBLY_PHOTO\"] not in placeholder_photos, \"Back assembly photo should not be a stock photo\"\n",
    "#assert url_exists(test_check[\"BACK_ASSEMBLY_PHOTO\"]), \"URL for back assembly photo should exist"
   ]
  },
  {
   "cell_type": "code",
   "execution_count": null,
   "metadata": {
    "collapsed": false
   },
   "outputs": [],
   "source": [
    "assert 'Multimeter' in test_check[\"Equipment\"], \"'Multimeter' should be in test_check['Equipment']\"\n",
    "assert 'Oscilloscope' in test_check[\"Equipment\"], \"'Oscilloscope' should be in test_check['Equipment']\"\n",
    "assert 'DHU Emulator' in test_check[\"Equipment\"], \"'DHU Emulator' should be in test_check['Equipment']\"\n",
    "assert len(test_check[\"Equipment\"]) == 3, \"test_check['Equipment'] should not contain superfluous information\"\n",
    "assert type(test_check[\"Equipment\"][\"Multimeter\"][\"Model Number\"]) is str, 'Multimeter model number should be a string'\n",
    "assert type(test_check[\"Equipment\"][\"Multimeter\"][\"Serial Number\"]) is str, 'Multimeter serial number should be a string'\n",
    "assert type(test_check[\"Equipment\"][\"Oscilloscope\"][\"Model Number\"]) is str, 'Oscilloscope model number should be a string'\n",
    "assert type(test_check[\"Equipment\"][\"Oscilloscope\"][\"Serial Number\"]) is str, 'Oscilloscope serial number should be a string'\n",
    "assert type(test_check[\"Equipment\"][\"DHU Emulator\"][\"Model Number\"]) is str, 'DHU Emulator model number should be a string'\n",
    "assert type(test_check[\"Equipment\"][\"DHU Emulator\"][\"Serial Number\"]) is str, 'DHU Emulator serial number should be a string'"
   ]
  },
  {
   "cell_type": "code",
   "execution_count": null,
   "metadata": {
    "collapsed": false
   },
   "outputs": [],
   "source": [
    "assert type(test_check[\"Assembly Weight\"]) is float\n",
    "assert type(test_check[\"Non-Flight Configurations\"]) is str"
   ]
  },
  {
   "cell_type": "code",
   "execution_count": null,
   "metadata": {
    "collapsed": false
   },
   "outputs": [],
   "source": [
    "type(1.0)"
   ]
  },
  {
   "cell_type": "code",
   "execution_count": null,
   "metadata": {
    "collapsed": false
   },
   "outputs": [],
   "source": [
    "type(False)"
   ]
  },
  {
   "cell_type": "markdown",
   "metadata": {},
   "source": [
    "# Summary"
   ]
  },
  {
   "cell_type": "markdown",
   "metadata": {},
   "source": [
    "Below is a summary of test results and notes:"
   ]
  },
  {
   "cell_type": "code",
   "execution_count": null,
   "metadata": {
    "collapsed": true
   },
   "outputs": [],
   "source": [
    "# TODO: pretty print summary of data, consider incorporating\n",
    "# - Visual inspection results\n",
    "# - Operator Notes"
   ]
  }
 ],
 "metadata": {
  "kernelspec": {
   "display_name": "Python 2",
   "language": "python",
   "name": "python2"
  },
  "language_info": {
   "codemirror_mode": {
    "name": "ipython",
    "version": 2
   },
   "file_extension": ".py",
   "mimetype": "text/x-python",
   "name": "python",
   "nbconvert_exporter": "python",
   "pygments_lexer": "ipython2",
   "version": "2.7.10"
  }
 },
 "nbformat": 4,
 "nbformat_minor": 0
}
