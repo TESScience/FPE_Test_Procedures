{
 "cells": [
  {
   "cell_type": "markdown",
   "metadata": {},
   "source": [
    "# FPE Interface Board Bring-up Procedure"
   ]
  },
  {
   "cell_type": "markdown",
   "metadata": {},
   "source": [
    "Abstract: *This iPython Notebook contains instructions for the FPE Interface Board PCB Bring-up test flow.  This procedure can be used for the Interface Boards, versions 6.2 and 7.0.  Simliar iPython Notebooks will be created for the Driver and Video Boards.*"
   ]
  },
  {
   "cell_type": "markdown",
   "metadata": {},
   "source": [
    "# Preamble\n",
    "\n",
    "Below we create a small object for keeping track of which tests have passed.  At the end of this document we verify this object to make sure all of the tests and procedures have been validly performed.\n",
    "\n",
    "<span style=\"color:red\">***IF THIS OBJECT DOES NOT VALIDATE THEN THE TESTS HAVE FAILED AND WILL BE INDICATED AT THE END OF THE DOCUMENT***</span>\n",
    "\n",
    "\n",
    "Note that in general, if at some stage in this procedure a test fails, the operator is expected to resolve it through the appropriate NCR/ECO process before proceeding.\n",
    "\n",
    "Where a cell indicates \"None # FILL IN ...\" the test conductor should replace this text with the appropriate information."
   ]
  },
  {
   "cell_type": "code",
   "execution_count": 98,
   "metadata": {
    "collapsed": true
   },
   "outputs": [],
   "source": [
    "import random\n",
    "test_check = {}"
   ]
  },
  {
   "cell_type": "markdown",
   "metadata": {},
   "source": [
    "## Test Start Date"
   ]
  },
  {
   "cell_type": "code",
   "execution_count": 99,
   "metadata": {
    "collapsed": true
   },
   "outputs": [],
   "source": [
    "test_check[\"DATE\"] = None # TODO: Fill in today's date here as a string in the form \"MM/DD/YY\""
   ]
  },
  {
   "cell_type": "markdown",
   "metadata": {},
   "source": [
    "## Test Conductor Information"
   ]
  },
  {
   "cell_type": "markdown",
   "metadata": {},
   "source": [
    "Please write down your personal information for accountability purposes:"
   ]
  },
  {
   "cell_type": "code",
   "execution_count": 126,
   "metadata": {
    "collapsed": false
   },
   "outputs": [
    {
     "ename": "SyntaxError",
     "evalue": "invalid syntax (<ipython-input-126-6fe9b698a06f>, line 2)",
     "output_type": "error",
     "traceback": [
      "\u001b[0;36m  File \u001b[0;32m\"<ipython-input-126-6fe9b698a06f>\"\u001b[0;36m, line \u001b[0;32m2\u001b[0m\n\u001b[0;31m    test_check[\"EMAIL\"] = ebok@space.mit.edu\u001b[0m\n\u001b[0m                              ^\u001b[0m\n\u001b[0;31mSyntaxError\u001b[0m\u001b[0;31m:\u001b[0m invalid syntax\n"
     ]
    }
   ],
   "source": [
    "test_check[\"NAME\"] = None # FILL IN YOUR NAME HERE AS A STRING\n",
    "test_check[\"EMAIL\"] = ebok@space.mit.edu"
   ]
  },
  {
   "cell_type": "markdown",
   "metadata": {},
   "source": [
    "## Unit Under Test"
   ]
  },
  {
   "cell_type": "markdown",
   "metadata": {},
   "source": [
    "Please record the part number and serial number of the unit under test:"
   ]
  },
  {
   "cell_type": "code",
   "execution_count": 101,
   "metadata": {
    "collapsed": true
   },
   "outputs": [],
   "source": [
    "test_check[\"Part Number\"] = None # FILL IN THE PART NUMBER HERE AS A STRING\n",
    "test_check[\"Serial Number\"] = None # FILL IN THE SERIAL NUMBER HERE AS A STRING"
   ]
  },
  {
   "cell_type": "markdown",
   "metadata": {},
   "source": [
    "## Test Equipment"
   ]
  },
  {
   "cell_type": "markdown",
   "metadata": {},
   "source": [
    "Note test equipment model #'s and serial #'s"
   ]
  },
  {
   "cell_type": "code",
   "execution_count": 102,
   "metadata": {
    "collapsed": false
   },
   "outputs": [],
   "source": [
    "test_check[\"Equipment\"] = {\n",
    "    \"Multimeter\": { \"Model Number\": None, # TODO: Enter a string here for the model number\n",
    "                    \"Serial Number\": None # TODO: Enter a string here for the serial number\n",
    "                  },\n",
    "    \"Oscilloscope\": { \"Model Number\": None, # TODO: Enter a string here for the model number\n",
    "                      \"Serial Number\": None # TODO: Enter a string here for the serial number\n",
    "                    },\n",
    "    \"DHU Emulator\": { \"Model Number\": None, # TODO: Enter a string here for the model number\n",
    "                      \"Serial Number\": None # TODO: Enter a string here for the serial number\n",
    "                    }\n",
    "}"
   ]
  },
  {
   "cell_type": "markdown",
   "metadata": {},
   "source": [
    "## Prepare for Inspections"
   ]
  },
  {
   "cell_type": "markdown",
   "metadata": {},
   "source": [
    "1) Verify work area is ESD safe."
   ]
  },
  {
   "cell_type": "code",
   "execution_count": 103,
   "metadata": {
    "collapsed": true
   },
   "outputs": [],
   "source": [
    "test_check[\"ESD_SAFE\"] =  None # TODO: If the area is ESD safe enter 'ESD Safe'"
   ]
  },
  {
   "cell_type": "markdown",
   "metadata": {},
   "source": [
    "2) Photograph the front of the assembly.  Use a service like Flickr to upload your photo and paste the URL below, in place of the default image.\n",
    "\n",
    "You will need to double-click the active area to the left of the image to see the embedded link, then delete it and replace it with your new link.  For Flickr, use the link given at \"Share Photo\" then \"Embed\".  Hit control-enter to run the cell and see the image."
   ]
  },
  {
   "cell_type": "code",
   "execution_count": null,
   "metadata": {
    "collapsed": true
   },
   "outputs": [],
   "source": []
  },
  {
   "cell_type": "markdown",
   "metadata": {},
   "source": [
    "<!-- Delete the mock below and put in a real image -->\n",
    "\n",
    "<a data-flickr-embed=\"true\"  href=\"https://www.flickr.com/photos/135953480@N06/21780051598/in/datetaken/\" title=\"image\"><img src=\"https://farm6.staticflickr.com/5766/21780051598_a877733b37_h.jpg\" width=\"1600\" height=\"1200\" alt=\"image\"></a><script async src=\"//embedr.flickr.com/assets/client-code.js\" charset=\"utf-8\"></script>"
   ]
  },
  {
   "cell_type": "markdown",
   "metadata": {},
   "source": [
    "3) Photograph the back of the assembly and upload it also. Paste the URL below, in place of the default image."
   ]
  },
  {
   "cell_type": "markdown",
   "metadata": {},
   "source": [
    "<a data-flickr-embed=\"true\"  href=\"https://www.flickr.com/photos/135953480@N06/21707221098/in/datetaken/\" title=\"image\"><img src=\"https://farm1.staticflickr.com/608/21707221098_0ca0a80a13_h.jpg\" width=\"1600\" height=\"1200\" alt=\"image\"></a><script async src=\"//embedr.flickr.com/assets/client-code.js\" charset=\"utf-8\"></script>"
   ]
  },
  {
   "cell_type": "markdown",
   "metadata": {},
   "source": [
    "### Standard Inspections"
   ]
  },
  {
   "cell_type": "markdown",
   "metadata": {},
   "source": [
    "４. Weigh assembly, note any non-flight configurations"
   ]
  },
  {
   "cell_type": "code",
   "execution_count": 104,
   "metadata": {
    "collapsed": true
   },
   "outputs": [],
   "source": [
    "test_check[\"Assembly Weight\"] = None\n",
    "test_check[\"Non-Flight Configurations\"] = None"
   ]
  },
  {
   "cell_type": "markdown",
   "metadata": {},
   "source": [
    "#### Visual Inspection under Stereo Microscope"
   ]
  },
  {
   "cell_type": "code",
   "execution_count": 105,
   "metadata": {
    "collapsed": true
   },
   "outputs": [],
   "source": [
    "test_check[\"Visual Inspection\"] = {}"
   ]
  },
  {
   "cell_type": "markdown",
   "metadata": {},
   "source": [
    "５.*a* Workmanship and mechanical damage"
   ]
  },
  {
   "cell_type": "code",
   "execution_count": 106,
   "metadata": {
    "collapsed": false
   },
   "outputs": [],
   "source": [
    "test_check[\"Visual Inspection\"][\"Mechanical Damage\"] = None # TODO: If there is no damage write 'No Damage'"
   ]
  },
  {
   "cell_type": "markdown",
   "metadata": {},
   "source": [
    "５.*b* DNP parts not installed"
   ]
  },
  {
   "cell_type": "code",
   "execution_count": 107,
   "metadata": {
    "collapsed": true
   },
   "outputs": [],
   "source": [
    "test_check[\"Visual Inspection\"][\"DNP parts not installed\"] = None # TODO: If no parts are missing write 'None missing'"
   ]
  },
  {
   "cell_type": "markdown",
   "metadata": {},
   "source": [
    "５.*c* No missing components"
   ]
  },
  {
   "cell_type": "code",
   "execution_count": 108,
   "metadata": {
    "collapsed": false
   },
   "outputs": [],
   "source": [
    "test_check[\"Visual Inspection\"][\"No Missing Components\"] = None # TODO: Set to True if no components are missing"
   ]
  },
  {
   "cell_type": "markdown",
   "metadata": {},
   "source": [
    "５.*d* Verify required jumpers installed\n",
    "\n",
    "***TODO: Make a labeled picture of the jumpers***"
   ]
  },
  {
   "cell_type": "code",
   "execution_count": 109,
   "metadata": {
    "collapsed": true
   },
   "outputs": [],
   "source": [
    "test_check[\"Visual Inspection\"][\"Required jumpers installed\"] = None # TODO: Set to True if all required jumpers are installed"
   ]
  },
  {
   "cell_type": "markdown",
   "metadata": {},
   "source": [
    "５.*e* Component orientation (chips, polarized caps, diodes, etc)\n",
    "\n",
    "***TODO: Make a labeled picture of component orientation***"
   ]
  },
  {
   "cell_type": "code",
   "execution_count": 110,
   "metadata": {
    "collapsed": true
   },
   "outputs": [],
   "source": [
    "test_check[\"Visual Inspection\"][\"Components are oriented correctly\"] = None # TODO: Set to True if all components are oriented correctly"
   ]
  },
  {
   "cell_type": "markdown",
   "metadata": {},
   "source": [
    "５.*f* Verify chips are correct parts (& date codes if specified in design)\n",
    "\n",
    "***TODO: Make a labeled picture with part names***"
   ]
  },
  {
   "cell_type": "code",
   "execution_count": 111,
   "metadata": {
    "collapsed": true
   },
   "outputs": [],
   "source": [
    "test_check[\"Visual Inspection\"][\"Chips are correct parts\"] = None # TODO: Set to True if all chips are correct parts"
   ]
  },
  {
   "cell_type": "markdown",
   "metadata": {},
   "source": [
    "５.*g* Verify connector savers installed if required\n",
    "\n",
    "***TODO: Determine where connector savers will be required for flight hardware and make list of connector numbers***"
   ]
  },
  {
   "cell_type": "code",
   "execution_count": 112,
   "metadata": {
    "collapsed": true
   },
   "outputs": [],
   "source": [
    "test_check[\"Visual Inspection\"][\"Connector Savers Installed\"] = None # TODO: Set to True if all connector savers are installed"
   ]
  },
  {
   "cell_type": "markdown",
   "metadata": {},
   "source": [
    "### Power OFF Resistance Measurements"
   ]
  },
  {
   "cell_type": "markdown",
   "metadata": {},
   "source": [
    "6) With the power off and no external connections to the PCB, measure the resistance on all power lines.  All measurements should be referenced to circuit ground."
   ]
  },
  {
   "cell_type": "code",
   "execution_count": 113,
   "metadata": {
    "collapsed": true
   },
   "outputs": [],
   "source": [
    "test_check[\"Power Off Measurements\"] = {}"
   ]
  },
  {
   "cell_type": "code",
   "execution_count": 114,
   "metadata": {
    "collapsed": true
   },
   "outputs": [],
   "source": [
    "test_check[\"Power Off Measurements\"][\"GND\"] = None\n",
    "test_check[\"Power Off Measurements\"][\"+5V\"] = None\n",
    "test_check[\"Power Off Measurements\"][\"+15V\"] = None\n",
    "test_check[\"Power Off Measurements\"][\"-12V\"] = None\n",
    "test_check[\"Power Off Measurements\"][\"+24\"] = None\n",
    "test_check[\"Power Off Measurements\"][\"-50\"] = None\n",
    "test_check[\"Power Off Measurements\"][\"+1.8F\"] = None\n",
    "test_check[\"Power Off Measurements\"][\"+1F\"] = None\n",
    "test_check[\"Power Off Measurements\"][\"+2.5\"] = None\n",
    "test_check[\"Power Off Measurements\"][\"+3.3B\"] = None\n",
    "test_check[\"Power Off Measurements\"][\"+3.3Dac\"] = None\n",
    "test_check[\"Power Off Measurements\"][\"+3.3F\"] = None"
   ]
  },
  {
   "cell_type": "markdown",
   "metadata": {},
   "source": [
    "7) With power OFF, measure the resistance to ground of all pins on the JS stack connector."
   ]
  },
  {
   "cell_type": "code",
   "execution_count": 115,
   "metadata": {
    "collapsed": false
   },
   "outputs": [],
   "source": [
    "from collections import defaultdict\n",
    "test_check[\"JS stack connector resistances\"] = defaultdict(dict)"
   ]
  },
  {
   "cell_type": "code",
   "execution_count": 116,
   "metadata": {
    "collapsed": false
   },
   "outputs": [],
   "source": [
    "test_check[\"JS stack connector resistances\"][1][\"GND\"] = None\n",
    "test_check[\"JS stack connector resistances\"][2][\"SDO-A-1\"] = None\n",
    "test_check[\"JS stack connector resistances\"][3][\"GND\"] = None\n",
    "test_check[\"JS stack connector resistances\"][4][\"SDO-B-1\"] = None\n",
    "test_check[\"JS stack connector resistances\"][5][\"GND\"] = None\n",
    "test_check[\"JS stack connector resistances\"][6][\"SDO-C-1\"] = None\n",
    "test_check[\"JS stack connector resistances\"][7][\"GND\"] = None\n",
    "test_check[\"JS stack connector resistances\"][8][\"SDO-D-1\"] = None\n",
    "test_check[\"JS stack connector resistances\"][9][\"GND\"] = None\n",
    "test_check[\"JS stack connector resistances\"][10][\"SCK\"] = None\n",
    "test_check[\"JS stack connector resistances\"][11][\"GND\"] = None\n",
    "test_check[\"JS stack connector resistances\"][12][\"CNV\"] = None\n",
    "test_check[\"JS stack connector resistances\"][13][\"GND\"] = None\n",
    "test_check[\"JS stack connector resistances\"][14][\"INT\"] = None\n",
    "test_check[\"JS stack connector resistances\"][15][\"GND\"] = None\n",
    "test_check[\"JS stack connector resistances\"][16][\"DEINT\"] = None\n",
    "test_check[\"JS stack connector resistances\"][17][\"GND\"] = None\n",
    "test_check[\"JS stack connector resistances\"][18][\"CLAMP\"] = None\n",
    "test_check[\"JS stack connector resistances\"][19][\"GND\"] = None\n",
    "test_check[\"JS stack connector resistances\"][20][\"CWCLK\"] = None\n",
    "test_check[\"JS stack connector resistances\"][21][\"GND\"] = None\n",
    "test_check[\"JS stack connector resistances\"][22][\"DD\"] = None\n",
    "test_check[\"JS stack connector resistances\"][23][\"GND\"] = None\n",
    "test_check[\"JS stack connector resistances\"][24][\"DCK\"] = None\n",
    "test_check[\"JS stack connector resistances\"][25][\"GND\"] = None\n",
    "test_check[\"JS stack connector resistances\"][26][\"SP1OR\"] = None\n",
    "test_check[\"JS stack connector resistances\"][27][\"GND\"] = None\n",
    "test_check[\"JS stack connector resistances\"][28][\"SP2OR\"] = None\n",
    "test_check[\"JS stack connector resistances\"][29][\"GND\"] = None\n",
    "test_check[\"JS stack connector resistances\"][30][\"SP3OR\"] = None\n",
    "test_check[\"JS stack connector resistances\"][31][\"GND\"] = None\n",
    "test_check[\"JS stack connector resistances\"][32][\"SRG\"] = None\n",
    "test_check[\"JS stack connector resistances\"][33][\"GND\"] = None\n",
    "test_check[\"JS stack connector resistances\"][34][\"SID\"] = None\n",
    "test_check[\"JS stack connector resistances\"][35][\"GND\"] = None\n",
    "test_check[\"JS stack connector resistances\"][36][\"SP1U\"] = None\n",
    "test_check[\"JS stack connector resistances\"][37][\"GND\"] = None\n",
    "test_check[\"JS stack connector resistances\"][38][\"SP2U\"] = None\n",
    "test_check[\"JS stack connector resistances\"][39][\"GND\"] = None\n",
    "test_check[\"JS stack connector resistances\"][40][\"SP3U\"] = None\n",
    "test_check[\"JS stack connector resistances\"][41][\"GND\"] = None\n",
    "test_check[\"JS stack connector resistances\"][42][\"_DS96_\"] = None\n",
    "test_check[\"JS stack connector resistances\"][43][\"GND\"] = None\n",
    "test_check[\"JS stack connector resistances\"][44][\"SDO-A-2\"] = None\n",
    "test_check[\"JS stack connector resistances\"][45][\"GND\"] = None\n",
    "test_check[\"JS stack connector resistances\"][46][\"SDO-B-2\"] = None\n",
    "test_check[\"JS stack connector resistances\"][47][\"GND\"] = None\n",
    "test_check[\"JS stack connector resistances\"][48][\"SDO-C-2\"] = None\n",
    "test_check[\"JS stack connector resistances\"][49][\"GND\"] = None\n",
    "test_check[\"JS stack connector resistances\"][50][\"SDO-D-2\"] = None\n",
    "test_check[\"JS stack connector resistances\"][51][\"P1-FS-1\"] = None\n",
    "test_check[\"JS stack connector resistances\"][52][\"P2-FS-1\"] = None\n",
    "test_check[\"JS stack connector resistances\"][53][\"P3-FS-1\"] = None\n",
    "test_check[\"JS stack connector resistances\"][54][\"P3-OR-1\"] = None\n",
    "test_check[\"JS stack connector resistances\"][55][\"P2-OR-1\"] = None\n",
    "test_check[\"JS stack connector resistances\"][56][\"P1-OR-1\"] = None\n",
    "test_check[\"JS stack connector resistances\"][57][\"RG-1\"] = None\n",
    "test_check[\"JS stack connector resistances\"][58][\"P1-IA-1\"] = None\n",
    "test_check[\"JS stack connector resistances\"][59][\"P2-IA-1\"] = None\n",
    "test_check[\"JS stack connector resistances\"][60][\"P3-IA-1\"] = None\n",
    "test_check[\"JS stack connector resistances\"][61][\"P1-U-1\"] = None\n",
    "test_check[\"JS stack connector resistances\"][62][\"P2-U-1\"] = None\n",
    "test_check[\"JS stack connector resistances\"][63][\"P3-U-1\"] = None\n",
    "test_check[\"JS stack connector resistances\"][64][\"ID-1\"] = None\n",
    "test_check[\"JS stack connector resistances\"][65][\"SP1-IA-1\"] = None\n",
    "test_check[\"JS stack connector resistances\"][66][\"SP2-IA-1\"] = None\n",
    "test_check[\"JS stack connector resistances\"][67][\"SP3-IA-1\"] = None\n",
    "test_check[\"JS stack connector resistances\"][68][\"SP1-FS-1\"] = None\n",
    "test_check[\"JS stack connector resistances\"][69][\"SP2-FS-1\"] = None\n",
    "test_check[\"JS stack connector resistances\"][70][\"SP3-FS-1\"] = None\n",
    "test_check[\"JS stack connector resistances\"][71][\"HK0\"] = None\n",
    "test_check[\"JS stack connector resistances\"][72][\"HK8\"] = None\n",
    "test_check[\"JS stack connector resistances\"][73][\"HK16\"] = None\n",
    "test_check[\"JS stack connector resistances\"][74][\"HK24\"] = None\n",
    "test_check[\"JS stack connector resistances\"][75][\"HK32\"] = None\n",
    "test_check[\"JS stack connector resistances\"][76][\"HK40\"] = None\n",
    "test_check[\"JS stack connector resistances\"][77][\"HK48\"] = None\n",
    "test_check[\"JS stack connector resistances\"][78][\"HK56\"] = None\n",
    "test_check[\"JS stack connector resistances\"][79][\"HK64\"] = None\n",
    "test_check[\"JS stack connector resistances\"][80][\"HK72\"] = None\n",
    "test_check[\"JS stack connector resistances\"][81][\"SP1-IA-2\"] = None\n",
    "test_check[\"JS stack connector resistances\"][82][\"SP2-IA-2\"] = None\n",
    "test_check[\"JS stack connector resistances\"][83][\"SP3-IA-2\"] = None\n",
    "test_check[\"JS stack connector resistances\"][84][\"SP1-FS-2\"] = None\n",
    "test_check[\"JS stack connector resistances\"][85][\"SP2-FS-2\"] = None\n",
    "test_check[\"JS stack connector resistances\"][86][\"SP3-FS-2\"] = None\n",
    "test_check[\"JS stack connector resistances\"][87][\"P1-FS-2\"] = None\n",
    "test_check[\"JS stack connector resistances\"][88][\"P2-FS-2\"] = None\n",
    "test_check[\"JS stack connector resistances\"][89][\"P3-FS-2\"] = None\n",
    "test_check[\"JS stack connector resistances\"][90][\"P3-OR-2\"] = None\n",
    "test_check[\"JS stack connector resistances\"][91][\"P2-OR-2\"] = None\n",
    "test_check[\"JS stack connector resistances\"][92][\"P1-OR-2\"] = None\n",
    "test_check[\"JS stack connector resistances\"][93][\"RG-2\"] = None\n",
    "test_check[\"JS stack connector resistances\"][94][\"P1-IA-2\"] = None\n",
    "test_check[\"JS stack connector resistances\"][95][\"P2-IA-2\"] = None\n",
    "test_check[\"JS stack connector resistances\"][96][\"P3-IA-2\"] = None\n",
    "test_check[\"JS stack connector resistances\"][97][\"P1-U-2\"] = None\n",
    "test_check[\"JS stack connector resistances\"][98][\"P2-U-2\"] = None\n",
    "test_check[\"JS stack connector resistances\"][99][\"P3-U-2\"] = None\n",
    "test_check[\"JS stack connector resistances\"][100][\"ID-2\"] = None\n",
    "test_check[\"JS stack connector resistances\"][101][\"ID-4\"] = None\n",
    "test_check[\"JS stack connector resistances\"][102][\"P3-U-4\"] = None\n",
    "test_check[\"JS stack connector resistances\"][103][\"P2-U-4\"] = None\n",
    "test_check[\"JS stack connector resistances\"][104][\"P1-U-4\"] = None\n",
    "test_check[\"JS stack connector resistances\"][105][\"P3-IA-4\"] = None\n",
    "test_check[\"JS stack connector resistances\"][106][\"P2-IA-4\"] = None\n",
    "test_check[\"JS stack connector resistances\"][107][\"P1-IA-4\"] = None\n",
    "test_check[\"JS stack connector resistances\"][108][\"RG-4\"] = None\n",
    "test_check[\"JS stack connector resistances\"][109][\"P1-OR-4\"] = None\n",
    "test_check[\"JS stack connector resistances\"][110][\"P2-OR-4\"] = None\n",
    "test_check[\"JS stack connector resistances\"][111][\"P3-OR-4\"] = None\n",
    "test_check[\"JS stack connector resistances\"][112][\"P3-FS-4\"] = None\n",
    "test_check[\"JS stack connector resistances\"][113][\"P2-FS-4\"] = None\n",
    "test_check[\"JS stack connector resistances\"][114][\"P1-FS-4\"] = None\n",
    "test_check[\"JS stack connector resistances\"][115][\"SP3-FS-4\"] = None\n",
    "test_check[\"JS stack connector resistances\"][116][\"SP2-FS-4\"] = None\n",
    "test_check[\"JS stack connector resistances\"][117][\"SP1-FS-4\"] = None\n",
    "test_check[\"JS stack connector resistances\"][118][\"SP3-IA-4\"] = None\n",
    "test_check[\"JS stack connector resistances\"][119][\"SP2-IA-4\"] = None\n",
    "test_check[\"JS stack connector resistances\"][120][\"SP1-IA-4\"] = None\n",
    "test_check[\"JS stack connector resistances\"][121][\"HK80\"] = None\n",
    "test_check[\"JS stack connector resistances\"][122][\"HK88\"] = None\n",
    "test_check[\"JS stack connector resistances\"][123][\"HK96\"] = None\n",
    "test_check[\"JS stack connector resistances\"][124][\"HK104\"] = None\n",
    "test_check[\"JS stack connector resistances\"][125][\"HK112\"] = None\n",
    "test_check[\"JS stack connector resistances\"][126][\"HK120\"] = None\n",
    "test_check[\"JS stack connector resistances\"][127][\"HKA0\"] = None\n",
    "test_check[\"JS stack connector resistances\"][128][\"HKA1\"] = None\n",
    "test_check[\"JS stack connector resistances\"][129][\"HKA2\"] = None\n",
    "test_check[\"JS stack connector resistances\"][130][\"HKCOM\"] = None\n",
    "test_check[\"JS stack connector resistances\"][131][\"SP3-FS-3\"] = None\n",
    "test_check[\"JS stack connector resistances\"][132][\"SP2-FS-3\"] = None\n",
    "test_check[\"JS stack connector resistances\"][133][\"SP1-FS-3\"] = None\n",
    "test_check[\"JS stack connector resistances\"][134][\"SP3-IA-3\"] = None\n",
    "test_check[\"JS stack connector resistances\"][135][\"SP2-IA-3\"] = None\n",
    "test_check[\"JS stack connector resistances\"][136][\"SP1-IA-3\"] = None\n",
    "test_check[\"JS stack connector resistances\"][137][\"ID-3\"] = None\n",
    "test_check[\"JS stack connector resistances\"][138][\"P3-U-3\"] = None\n",
    "test_check[\"JS stack connector resistances\"][139][\"P2-U-3\"] = None\n",
    "test_check[\"JS stack connector resistances\"][140][\"P1-U-3\"] = None\n",
    "test_check[\"JS stack connector resistances\"][141][\"P3-IA-3\"] = None\n",
    "test_check[\"JS stack connector resistances\"][142][\"P2-IA-3\"] = None\n",
    "test_check[\"JS stack connector resistances\"][143][\"P1-IA-3\"] = None\n",
    "test_check[\"JS stack connector resistances\"][144][\"RG-3\"] = None\n",
    "test_check[\"JS stack connector resistances\"][145][\"P1-OR-3\"] = None\n",
    "test_check[\"JS stack connector resistances\"][146][\"P2-OR-3\"] = None\n",
    "test_check[\"JS stack connector resistances\"][147][\"P3-OR-3\"] = None\n",
    "test_check[\"JS stack connector resistances\"][148][\"P3-FS-3\"] = None\n",
    "test_check[\"JS stack connector resistances\"][149][\"P2-FS-3\"] = None\n",
    "test_check[\"JS stack connector resistances\"][150][\"P1-FS-3\"] = None\n",
    "test_check[\"JS stack connector resistances\"][151][\"GND\"] = None\n",
    "test_check[\"JS stack connector resistances\"][152][\"SDO-D-4\"] = None\n",
    "test_check[\"JS stack connector resistances\"][153][\"GND\"] = None\n",
    "test_check[\"JS stack connector resistances\"][154][\"SDO-C-4\"] = None\n",
    "test_check[\"JS stack connector resistances\"][155][\"GND\"] = None\n",
    "test_check[\"JS stack connector resistances\"][156][\"SDO-B-4\"] = None\n",
    "test_check[\"JS stack connector resistances\"][157][\"GND\"] = None\n",
    "test_check[\"JS stack connector resistances\"][158][\"SDO-A-4\"] = None\n",
    "test_check[\"JS stack connector resistances\"][159][\"GND\"] = None\n",
    "test_check[\"JS stack connector resistances\"][160][\"_DS0_\"] = None\n",
    "test_check[\"JS stack connector resistances\"][161][\"GND\"] = None\n",
    "test_check[\"JS stack connector resistances\"][162][\"_DS8_\"] = None\n",
    "test_check[\"JS stack connector resistances\"][163][\"GND\"] = None\n",
    "test_check[\"JS stack connector resistances\"][164][\"_DS16_\"] = None\n",
    "test_check[\"JS stack connector resistances\"][165][\"GND\"] = None\n",
    "test_check[\"JS stack connector resistances\"][166][\"_DS24_\"] = None\n",
    "test_check[\"JS stack connector resistances\"][167][\"GND\"] = None\n",
    "test_check[\"JS stack connector resistances\"][168][\"_DS32_\"] = None\n",
    "test_check[\"JS stack connector resistances\"][169][\"GND\"] = None\n",
    "test_check[\"JS stack connector resistances\"][170][\"_DS40_\"] = None\n",
    "test_check[\"JS stack connector resistances\"][171][\"GND\"] = None\n",
    "test_check[\"JS stack connector resistances\"][172][\"\"] = None\n",
    "test_check[\"JS stack connector resistances\"][173][\"GND\"] = None\n",
    "test_check[\"JS stack connector resistances\"][174][\"RTDCOM\"] = None\n",
    "test_check[\"JS stack connector resistances\"][175][\"GND\"] = None\n",
    "test_check[\"JS stack connector resistances\"][176][\"15\"] = None\n",
    "test_check[\"JS stack connector resistances\"][177][\"GND\"] = None\n",
    "test_check[\"JS stack connector resistances\"][178][\"-12\"] = None\n",
    "test_check[\"JS stack connector resistances\"][179][\"GND\"] = None\n",
    "test_check[\"JS stack connector resistances\"][180][\"5\"] = None\n",
    "test_check[\"JS stack connector resistances\"][181][\"GND\"] = None\n",
    "test_check[\"JS stack connector resistances\"][182][\"_DS48_\"] = None\n",
    "test_check[\"JS stack connector resistances\"][183][\"GND\"] = None\n",
    "test_check[\"JS stack connector resistances\"][184][\"_DS56_\"] = None\n",
    "test_check[\"JS stack connector resistances\"][185][\"GND\"] = None\n",
    "test_check[\"JS stack connector resistances\"][186][\"_DS64_\"] = None\n",
    "test_check[\"JS stack connector resistances\"][187][\"GND\"] = None\n",
    "test_check[\"JS stack connector resistances\"][188][\"_DS72_\"] = None\n",
    "test_check[\"JS stack connector resistances\"][189][\"GND\"] = None\n",
    "test_check[\"JS stack connector resistances\"][190][\"_DS80_\"] = None\n",
    "test_check[\"JS stack connector resistances\"][191][\"GND\"] = None\n",
    "test_check[\"JS stack connector resistances\"][192][\"_DS88_\"] = None\n",
    "test_check[\"JS stack connector resistances\"][193][\"GND\"] = None\n",
    "test_check[\"JS stack connector resistances\"][194][\"SDO-D-3\"] = None\n",
    "test_check[\"JS stack connector resistances\"][195][\"GND\"] = None\n",
    "test_check[\"JS stack connector resistances\"][196][\"SDO-C-3\"] = None\n",
    "test_check[\"JS stack connector resistances\"][197][\"GND\"] = None\n",
    "test_check[\"JS stack connector resistances\"][198][\"SDO-B-3\"] = None\n",
    "test_check[\"JS stack connector resistances\"][199][\"GND\"] = None\n",
    "test_check[\"JS stack connector resistances\"][200][\"SDO-A-3\"] = None"
   ]
  },
  {
   "cell_type": "code",
   "execution_count": 117,
   "metadata": {
    "collapsed": true
   },
   "outputs": [],
   "source": [
    "# TODO: Write check for the above with reference values"
   ]
  },
  {
   "cell_type": "markdown",
   "metadata": {},
   "source": [
    "## Power On Voltage Measurements"
   ]
  },
  {
   "cell_type": "markdown",
   "metadata": {},
   "source": [
    "1) Verify that voltages on power connector from DHU Emulator are correct before connecting to test assembly. #TODO insert pinout diagram."
   ]
  },
  {
   "cell_type": "code",
   "execution_count": 118,
   "metadata": {
    "collapsed": true
   },
   "outputs": [],
   "source": [
    "test_check[\"Power On Measurements\"]={}"
   ]
  },
  {
   "cell_type": "code",
   "execution_count": 119,
   "metadata": {
    "collapsed": true
   },
   "outputs": [],
   "source": [
    "test_check[\"Power On Measurements\"][\"+5V\"] = None\n",
    "test_check[\"Power On Measurements\"][\"+15V\"] = None\n",
    "test_check[\"Power On Measurements\"][\"-12V\"] = None"
   ]
  },
  {
   "cell_type": "code",
   "execution_count": 120,
   "metadata": {
    "collapsed": true
   },
   "outputs": [],
   "source": [
    "# TODO: Write check for the above with reference values"
   ]
  },
  {
   "cell_type": "markdown",
   "metadata": {},
   "source": [
    "2) Connect DHU power cable to test assembly J??. Measure voltages again, along with currents. Current measurements are made on the DHE Emulator front panel using a DMM.  The output voltages at the measurement ports have a scale value of 1V/A."
   ]
  },
  {
   "cell_type": "code",
   "execution_count": 121,
   "metadata": {
    "collapsed": true
   },
   "outputs": [],
   "source": [
    "test_check[\"Power On Measurements Connected\"]={}"
   ]
  },
  {
   "cell_type": "code",
   "execution_count": 122,
   "metadata": {
    "collapsed": true
   },
   "outputs": [],
   "source": [
    "test_check[\"Power On Measurements Connected\"][\"+5V\"] = None\n",
    "test_check[\"Power On Measurements Connected\"][\"+5V Current\"] = None\n",
    "test_check[\"Power On Measurements Connected\"][\"+15V\"] = None\n",
    "test_check[\"Power On Measurements Connected\"][\"+15V Current\"] = None\n",
    "test_check[\"Power On Measurements Connected\"][\"-12V\"] = None\n",
    "test_check[\"Power On Measurements Connected\"][\"12V Current\"] = None"
   ]
  },
  {
   "cell_type": "code",
   "execution_count": 123,
   "metadata": {
    "collapsed": true
   },
   "outputs": [],
   "source": [
    "# TODO: Write check for the above with reference values"
   ]
  },
  {
   "cell_type": "markdown",
   "metadata": {},
   "source": [
    "3) Capture FLIR images; check for hot spots. Use a service like Flickr to upload your photo and paste the URL below, in place of the default image.\n",
    "\n",
    "You will need to double-click the active area to the left of the image to see the embedded link, then delete it and replace it with your new link.  For Flickr, use the link given at \"Share Photo\" then \"Embed\".  Hit control-enter to run the cell and see the image."
   ]
  },
  {
   "cell_type": "markdown",
   "metadata": {},
   "source": [
    "<!-- Delete the mock below and put in a real image -->\n",
    "\n",
    "<a data-flickr-embed=\"true\"  href=\"https://www.flickr.com/photos/135953480@N06/21780051598/in/datetaken/\" title=\"image\"><img src=\"https://farm6.staticflickr.com/5766/21780051598_a877733b37_h.jpg\" width=\"1600\" height=\"1200\" alt=\"image\"></a><script async src=\"//embedr.flickr.com/assets/client-code.js\" charset=\"utf-8\"></script>"
   ]
  },
  {
   "cell_type": "markdown",
   "metadata": {},
   "source": [
    "## Program FPGA"
   ]
  },
  {
   "cell_type": "code",
   "execution_count": 124,
   "metadata": {
    "collapsed": true
   },
   "outputs": [],
   "source": [
    "# TODO Put fpe installer instructions here."
   ]
  },
  {
   "cell_type": "markdown",
   "metadata": {},
   "source": [
    "4) Make sure that FPE has both power and data cables connected, and make sure that the FPE is connected to the \"FPE 1\" socket on the observatory simulator. Execute the cell below to program the FPGA."
   ]
  },
  {
   "cell_type": "code",
   "execution_count": 130,
   "metadata": {
    "collapsed": false
   },
   "outputs": [
    {
     "ename": "ImportError",
     "evalue": "No module named dhu.fpe",
     "output_type": "error",
     "traceback": [
      "\u001b[0;31m---------------------------------------------------------------------------\u001b[0m",
      "\u001b[0;31mImportError\u001b[0m                               Traceback (most recent call last)",
      "\u001b[0;32m<ipython-input-130-eba5d586e6ce>\u001b[0m in \u001b[0;36m<module>\u001b[0;34m()\u001b[0m\n\u001b[0;32m----> 1\u001b[0;31m \u001b[0;32mfrom\u001b[0m \u001b[0mtessfpe\u001b[0m\u001b[0;34m.\u001b[0m\u001b[0mdhu\u001b[0m\u001b[0;34m.\u001b[0m\u001b[0mfpe\u001b[0m \u001b[0;32mimport\u001b[0m \u001b[0mFPE\u001b[0m\u001b[0;34m\u001b[0m\u001b[0m\n\u001b[0m\u001b[1;32m      2\u001b[0m \u001b[0mfpe1\u001b[0m \u001b[0;34m=\u001b[0m \u001b[0mFPE\u001b[0m\u001b[0;34m(\u001b[0m\u001b[0;36m1\u001b[0m\u001b[0;34m,\u001b[0m \u001b[0mpreload\u001b[0m\u001b[0;34m=\u001b[0m\u001b[0mTrue\u001b[0m\u001b[0;34m,\u001b[0m \u001b[0mdebug\u001b[0m\u001b[0;34m=\u001b[0m\u001b[0mTrue\u001b[0m\u001b[0;34m)\u001b[0m\u001b[0;34m\u001b[0m\u001b[0m\n",
      "\u001b[0;31mImportError\u001b[0m: No module named dhu.fpe"
     ]
    }
   ],
   "source": [
    "from tessfpe.dhu.fpe import FPE\n",
    "fpe1 = FPE(1, preload=True, debug=True)"
   ]
  },
  {
   "cell_type": "markdown",
   "metadata": {},
   "source": [
    "5) Issue the start frames command."
   ]
  },
  {
   "cell_type": "code",
   "execution_count": 127,
   "metadata": {
    "collapsed": true
   },
   "outputs": [],
   "source": [
    "# TODO Insert start_frames command"
   ]
  },
  {
   "cell_type": "markdown",
   "metadata": {},
   "source": [
    "6) Capture an image and display it. Note that with only the Interface Board, the image captured should be comprised entirely of pixels with a value of -1."
   ]
  },
  {
   "cell_type": "code",
   "execution_count": 131,
   "metadata": {
    "collapsed": true
   },
   "outputs": [],
   "source": [
    "# TODO Insert capture image commands"
   ]
  },
  {
   "cell_type": "markdown",
   "metadata": {},
   "source": [
    "7) Issue the stop frames command."
   ]
  },
  {
   "cell_type": "code",
   "execution_count": 129,
   "metadata": {
    "collapsed": true
   },
   "outputs": [],
   "source": [
    "# TODO Insert stop_frames command"
   ]
  },
  {
   "cell_type": "markdown",
   "metadata": {},
   "source": [
    "## Power ON Measurements, continued"
   ]
  },
  {
   "cell_type": "markdown",
   "metadata": {},
   "source": [
    "1) Measure voltages on all JS stack connector pins (= Driver safe-to-mate)"
   ]
  },
  {
   "cell_type": "code",
   "execution_count": null,
   "metadata": {
    "collapsed": true
   },
   "outputs": [],
   "source": [
    "from collections import defaultdict\n",
    "test_check[\"JS stack connector voltages\"] = defaultdict(dict)"
   ]
  },
  {
   "cell_type": "code",
   "execution_count": null,
   "metadata": {
    "collapsed": true
   },
   "outputs": [],
   "source": [
    "test_check[\"JS stack connector voltages\"][1][\"GND\"] = None\n",
    "test_check[\"JS stack connector voltages\"][2][\"SDO-A-1\"] = None\n",
    "test_check[\"JS stack connector voltages\"][3][\"GND\"] = None\n",
    "test_check[\"JS stack connector voltages\"][4][\"SDO-B-1\"] = None\n",
    "test_check[\"JS stack connector voltages\"][5][\"GND\"] = None\n",
    "test_check[\"JS stack connector voltages\"][6][\"SDO-C-1\"] = None\n",
    "test_check[\"JS stack connector voltages\"][7][\"GND\"] = None\n",
    "test_check[\"JS stack connector voltages\"][8][\"SDO-D-1\"] = None\n",
    "test_check[\"JS stack connector voltages\"][9][\"GND\"] = None\n",
    "test_check[\"JS stack connector voltages\"][10][\"SCK\"] = None\n",
    "test_check[\"JS stack connector voltages\"][11][\"GND\"] = None\n",
    "test_check[\"JS stack connector voltages\"][12][\"CNV\"] = None\n",
    "test_check[\"JS stack connector voltages\"][13][\"GND\"] = None\n",
    "test_check[\"JS stack connector voltages\"][14][\"INT\"] = None\n",
    "test_check[\"JS stack connector voltages\"][15][\"GND\"] = None\n",
    "test_check[\"JS stack connector voltages\"][16][\"DEINT\"] = None\n",
    "test_check[\"JS stack connector voltages\"][17][\"GND\"] = None\n",
    "test_check[\"JS stack connector voltages\"][18][\"CLAMP\"] = None\n",
    "test_check[\"JS stack connector voltages\"][19][\"GND\"] = None\n",
    "test_check[\"JS stack connector voltages\"][20][\"CWCLK\"] = None\n",
    "test_check[\"JS stack connector voltages\"][21][\"GND\"] = None\n",
    "test_check[\"JS stack connector voltages\"][22][\"DD\"] = None\n",
    "test_check[\"JS stack connector voltages\"][23][\"GND\"] = None\n",
    "test_check[\"JS stack connector voltages\"][24][\"DCK\"] = None\n",
    "test_check[\"JS stack connector voltages\"][25][\"GND\"] = None\n",
    "test_check[\"JS stack connector voltages\"][26][\"SP1OR\"] = None\n",
    "test_check[\"JS stack connector voltages\"][27][\"GND\"] = None\n",
    "test_check[\"JS stack connector voltages\"][28][\"SP2OR\"] = None\n",
    "test_check[\"JS stack connector voltages\"][29][\"GND\"] = None\n",
    "test_check[\"JS stack connector voltages\"][30][\"SP3OR\"] = None\n",
    "test_check[\"JS stack connector voltages\"][31][\"GND\"] = None\n",
    "test_check[\"JS stack connector voltages\"][32][\"SRG\"] = None\n",
    "test_check[\"JS stack connector voltages\"][33][\"GND\"] = None\n",
    "test_check[\"JS stack connector voltages\"][34][\"SID\"] = None\n",
    "test_check[\"JS stack connector voltages\"][35][\"GND\"] = None\n",
    "test_check[\"JS stack connector voltages\"][36][\"SP1U\"] = None\n",
    "test_check[\"JS stack connector voltages\"][37][\"GND\"] = None\n",
    "test_check[\"JS stack connector voltages\"][38][\"SP2U\"] = None\n",
    "test_check[\"JS stack connector voltages\"][39][\"GND\"] = None\n",
    "test_check[\"JS stack connector voltages\"][40][\"SP3U\"] = None\n",
    "test_check[\"JS stack connector voltages\"][41][\"GND\"] = None\n",
    "test_check[\"JS stack connector voltages\"][42][\"_DS96_\"] = None\n",
    "test_check[\"JS stack connector voltages\"][43][\"GND\"] = None\n",
    "test_check[\"JS stack connector voltages\"][44][\"SDO-A-2\"] = None\n",
    "test_check[\"JS stack connector voltages\"][45][\"GND\"] = None\n",
    "test_check[\"JS stack connector voltages\"][46][\"SDO-B-2\"] = None\n",
    "test_check[\"JS stack connector voltages\"][47][\"GND\"] = None\n",
    "test_check[\"JS stack connector voltages\"][48][\"SDO-C-2\"] = None\n",
    "test_check[\"JS stack connector voltages\"][49][\"GND\"] = None\n",
    "test_check[\"JS stack connector voltages\"][50][\"SDO-D-2\"] = None\n",
    "test_check[\"JS stack connector voltages\"][51][\"P1-FS-1\"] = None\n",
    "test_check[\"JS stack connector voltages\"][52][\"P2-FS-1\"] = None\n",
    "test_check[\"JS stack connector voltages\"][53][\"P3-FS-1\"] = None\n",
    "test_check[\"JS stack connector voltages\"][54][\"P3-OR-1\"] = None\n",
    "test_check[\"JS stack connector voltages\"][55][\"P2-OR-1\"] = None\n",
    "test_check[\"JS stack connector voltages\"][56][\"P1-OR-1\"] = None\n",
    "test_check[\"JS stack connector voltages\"][57][\"RG-1\"] = None\n",
    "test_check[\"JS stack connector voltages\"][58][\"P1-IA-1\"] = None\n",
    "test_check[\"JS stack connector voltages\"][59][\"P2-IA-1\"] = None\n",
    "test_check[\"JS stack connector voltages\"][60][\"P3-IA-1\"] = None\n",
    "test_check[\"JS stack connector voltages\"][61][\"P1-U-1\"] = None\n",
    "test_check[\"JS stack connector voltages\"][62][\"P2-U-1\"] = None\n",
    "test_check[\"JS stack connector voltages\"][63][\"P3-U-1\"] = None\n",
    "test_check[\"JS stack connector voltages\"][64][\"ID-1\"] = None\n",
    "test_check[\"JS stack connector voltages\"][65][\"SP1-IA-1\"] = None\n",
    "test_check[\"JS stack connector voltages\"][66][\"SP2-IA-1\"] = None\n",
    "test_check[\"JS stack connector voltages\"][67][\"SP3-IA-1\"] = None\n",
    "test_check[\"JS stack connector voltages\"][68][\"SP1-FS-1\"] = None\n",
    "test_check[\"JS stack connector voltages\"][69][\"SP2-FS-1\"] = None\n",
    "test_check[\"JS stack connector voltages\"][70][\"SP3-FS-1\"] = None\n",
    "test_check[\"JS stack connector voltages\"][71][\"HK0\"] = None\n",
    "test_check[\"JS stack connector voltages\"][72][\"HK8\"] = None\n",
    "test_check[\"JS stack connector voltages\"][73][\"HK16\"] = None\n",
    "test_check[\"JS stack connector voltages\"][74][\"HK24\"] = None\n",
    "test_check[\"JS stack connector voltages\"][75][\"HK32\"] = None\n",
    "test_check[\"JS stack connector voltages\"][76][\"HK40\"] = None\n",
    "test_check[\"JS stack connector voltages\"][77][\"HK48\"] = None\n",
    "test_check[\"JS stack connector voltages\"][78][\"HK56\"] = None\n",
    "test_check[\"JS stack connector voltages\"][79][\"HK64\"] = None\n",
    "test_check[\"JS stack connector voltages\"][80][\"HK72\"] = None\n",
    "test_check[\"JS stack connector voltages\"][81][\"SP1-IA-2\"] = None\n",
    "test_check[\"JS stack connector voltages\"][82][\"SP2-IA-2\"] = None\n",
    "test_check[\"JS stack connector voltages\"][83][\"SP3-IA-2\"] = None\n",
    "test_check[\"JS stack connector voltages\"][84][\"SP1-FS-2\"] = None\n",
    "test_check[\"JS stack connector voltages\"][85][\"SP2-FS-2\"] = None\n",
    "test_check[\"JS stack connector voltages\"][86][\"SP3-FS-2\"] = None\n",
    "test_check[\"JS stack connector voltages\"][87][\"P1-FS-2\"] = None\n",
    "test_check[\"JS stack connector voltages\"][88][\"P2-FS-2\"] = None\n",
    "test_check[\"JS stack connector voltages\"][89][\"P3-FS-2\"] = None\n",
    "test_check[\"JS stack connector voltages\"][90][\"P3-OR-2\"] = None\n",
    "test_check[\"JS stack connector voltages\"][91][\"P2-OR-2\"] = None\n",
    "test_check[\"JS stack connector voltages\"][92][\"P1-OR-2\"] = None\n",
    "test_check[\"JS stack connector voltages\"][93][\"RG-2\"] = None\n",
    "test_check[\"JS stack connector voltages\"][94][\"P1-IA-2\"] = None\n",
    "test_check[\"JS stack connector voltages\"][95][\"P2-IA-2\"] = None\n",
    "test_check[\"JS stack connector voltages\"][96][\"P3-IA-2\"] = None\n",
    "test_check[\"JS stack connector voltages\"][97][\"P1-U-2\"] = None\n",
    "test_check[\"JS stack connector voltages\"][98][\"P2-U-2\"] = None\n",
    "test_check[\"JS stack connector voltages\"][99][\"P3-U-2\"] = None\n",
    "test_check[\"JS stack connector voltages\"][100][\"ID-2\"] = None\n",
    "test_check[\"JS stack connector voltages\"][101][\"ID-4\"] = None\n",
    "test_check[\"JS stack connector voltages\"][102][\"P3-U-4\"] = None\n",
    "test_check[\"JS stack connector voltages\"][103][\"P2-U-4\"] = None\n",
    "test_check[\"JS stack connector voltages\"][104][\"P1-U-4\"] = None\n",
    "test_check[\"JS stack connector voltages\"][105][\"P3-IA-4\"] = None\n",
    "test_check[\"JS stack connector voltages\"][106][\"P2-IA-4\"] = None\n",
    "test_check[\"JS stack connector voltages\"][107][\"P1-IA-4\"] = None\n",
    "test_check[\"JS stack connector voltages\"][108][\"RG-4\"] = None\n",
    "test_check[\"JS stack connector voltages\"][109][\"P1-OR-4\"] = None\n",
    "test_check[\"JS stack connector voltages\"][110][\"P2-OR-4\"] = None\n",
    "test_check[\"JS stack connector voltages\"][111][\"P3-OR-4\"] = None\n",
    "test_check[\"JS stack connector voltages\"][112][\"P3-FS-4\"] = None\n",
    "test_check[\"JS stack connector voltages\"][113][\"P2-FS-4\"] = None\n",
    "test_check[\"JS stack connector voltages\"][114][\"P1-FS-4\"] = None\n",
    "test_check[\"JS stack connector voltages\"][115][\"SP3-FS-4\"] = None\n",
    "test_check[\"JS stack connector voltages\"][116][\"SP2-FS-4\"] = None\n",
    "test_check[\"JS stack connector voltages\"][117][\"SP1-FS-4\"] = None\n",
    "test_check[\"JS stack connector voltages\"][118][\"SP3-IA-4\"] = None\n",
    "test_check[\"JS stack connector voltages\"][119][\"SP2-IA-4\"] = None\n",
    "test_check[\"JS stack connector voltages\"][120][\"SP1-IA-4\"] = None\n",
    "test_check[\"JS stack connector voltages\"][121][\"HK80\"] = None\n",
    "test_check[\"JS stack connector voltages\"][122][\"HK88\"] = None\n",
    "test_check[\"JS stack connector voltages\"][123][\"HK96\"] = None\n",
    "test_check[\"JS stack connector voltages\"][124][\"HK104\"] = None\n",
    "test_check[\"JS stack connector voltages\"][125][\"HK112\"] = None\n",
    "test_check[\"JS stack connector voltages\"][126][\"HK120\"] = None\n",
    "test_check[\"JS stack connector voltages\"][127][\"HKA0\"] = None\n",
    "test_check[\"JS stack connector voltages\"][128][\"HKA1\"] = None\n",
    "test_check[\"JS stack connector voltages\"][129][\"HKA2\"] = None\n",
    "test_check[\"JS stack connector voltages\"][130][\"HKCOM\"] = None\n",
    "test_check[\"JS stack connector voltages\"][131][\"SP3-FS-3\"] = None\n",
    "test_check[\"JS stack connector voltages\"][132][\"SP2-FS-3\"] = None\n",
    "test_check[\"JS stack connector voltages\"][133][\"SP1-FS-3\"] = None\n",
    "test_check[\"JS stack connector voltages\"][134][\"SP3-IA-3\"] = None\n",
    "test_check[\"JS stack connector voltages\"][135][\"SP2-IA-3\"] = None\n",
    "test_check[\"JS stack connector voltages\"][136][\"SP1-IA-3\"] = None\n",
    "test_check[\"JS stack connector voltages\"][137][\"ID-3\"] = None\n",
    "test_check[\"JS stack connector voltages\"][138][\"P3-U-3\"] = None\n",
    "test_check[\"JS stack connector voltages\"][139][\"P2-U-3\"] = None\n",
    "test_check[\"JS stack connector voltages\"][140][\"P1-U-3\"] = None\n",
    "test_check[\"JS stack connector voltages\"][141][\"P3-IA-3\"] = None\n",
    "test_check[\"JS stack connector voltages\"][142][\"P2-IA-3\"] = None\n",
    "test_check[\"JS stack connector voltages\"][143][\"P1-IA-3\"] = None\n",
    "test_check[\"JS stack connector voltages\"][144][\"RG-3\"] = None\n",
    "test_check[\"JS stack connector voltages\"][145][\"P1-OR-3\"] = None\n",
    "test_check[\"JS stack connector voltages\"][146][\"P2-OR-3\"] = None\n",
    "test_check[\"JS stack connector voltages\"][147][\"P3-OR-3\"] = None\n",
    "test_check[\"JS stack connector voltages\"][148][\"P3-FS-3\"] = None\n",
    "test_check[\"JS stack connector voltages\"][149][\"P2-FS-3\"] = None\n",
    "test_check[\"JS stack connector voltages\"][150][\"P1-FS-3\"] = None\n",
    "test_check[\"JS stack connector voltages\"][151][\"GND\"] = None\n",
    "test_check[\"JS stack connector voltages\"][152][\"SDO-D-4\"] = None\n",
    "test_check[\"JS stack connector voltages\"][153][\"GND\"] = None\n",
    "test_check[\"JS stack connector voltages\"][154][\"SDO-C-4\"] = None\n",
    "test_check[\"JS stack connector voltages\"][155][\"GND\"] = None\n",
    "test_check[\"JS stack connector voltages\"][156][\"SDO-B-4\"] = None\n",
    "test_check[\"JS stack connector voltages\"][157][\"GND\"] = None\n",
    "test_check[\"JS stack connector voltages\"][158][\"SDO-A-4\"] = None\n",
    "test_check[\"JS stack connector voltages\"][159][\"GND\"] = None\n",
    "test_check[\"JS stack connector voltages\"][160][\"_DS0_\"] = None\n",
    "test_check[\"JS stack connector voltages\"][161][\"GND\"] = None\n",
    "test_check[\"JS stack connector voltages\"][162][\"_DS8_\"] = None\n",
    "test_check[\"JS stack connector voltages\"][163][\"GND\"] = None\n",
    "test_check[\"JS stack connector voltages\"][164][\"_DS16_\"] = None\n",
    "test_check[\"JS stack connector voltages\"][165][\"GND\"] = None\n",
    "test_check[\"JS stack connector voltages\"][166][\"_DS24_\"] = None\n",
    "test_check[\"JS stack connector voltages\"][167][\"GND\"] = None\n",
    "test_check[\"JS stack connector voltages\"][168][\"_DS32_\"] = None\n",
    "test_check[\"JS stack connector voltages\"][169][\"GND\"] = None\n",
    "test_check[\"JS stack connector voltages\"][170][\"_DS40_\"] = None\n",
    "test_check[\"JS stack connector voltages\"][171][\"GND\"] = None\n",
    "test_check[\"JS stack connector voltages\"][172][\"\"] = None\n",
    "test_check[\"JS stack connector voltages\"][173][\"GND\"] = None\n",
    "test_check[\"JS stack connector voltages\"][174][\"RTDCOM\"] = None\n",
    "test_check[\"JS stack connector voltages\"][175][\"GND\"] = None\n",
    "test_check[\"JS stack connector voltages\"][176][\"15\"] = None\n",
    "test_check[\"JS stack connector voltages\"][177][\"GND\"] = None\n",
    "test_check[\"JS stack connector voltages\"][178][\"-12\"] = None\n",
    "test_check[\"JS stack connector voltages\"][179][\"GND\"] = None\n",
    "test_check[\"JS stack connector voltages\"][180][\"5\"] = None\n",
    "test_check[\"JS stack connector voltages\"][181][\"GND\"] = None\n",
    "test_check[\"JS stack connector voltages\"][182][\"_DS48_\"] = None\n",
    "test_check[\"JS stack connector voltages\"][183][\"GND\"] = None\n",
    "test_check[\"JS stack connector voltages\"][184][\"_DS56_\"] = None\n",
    "test_check[\"JS stack connector voltages\"][185][\"GND\"] = None\n",
    "test_check[\"JS stack connector voltages\"][186][\"_DS64_\"] = None\n",
    "test_check[\"JS stack connector voltages\"][187][\"GND\"] = None\n",
    "test_check[\"JS stack connector voltages\"][188][\"_DS72_\"] = None\n",
    "test_check[\"JS stack connector voltages\"][189][\"GND\"] = None\n",
    "test_check[\"JS stack connector voltages\"][190][\"_DS80_\"] = None\n",
    "test_check[\"JS stack connector voltages\"][191][\"GND\"] = None\n",
    "test_check[\"JS stack connector voltages\"][192][\"_DS88_\"] = None\n",
    "test_check[\"JS stack connector voltages\"][193][\"GND\"] = None\n",
    "test_check[\"JS stack connector voltages\"][194][\"SDO-D-3\"] = None\n",
    "test_check[\"JS stack connector voltages\"][195][\"GND\"] = None\n",
    "test_check[\"JS stack connector voltages\"][196][\"SDO-C-3\"] = None\n",
    "test_check[\"JS stack connector voltages\"][197][\"GND\"] = None\n",
    "test_check[\"JS stack connector voltages\"][198][\"SDO-B-3\"] = None\n",
    "test_check[\"JS stack connector voltages\"][199][\"GND\"] = None\n",
    "test_check[\"JS stack connector voltages\"][200][\"SDO-A-3\"] = None"
   ]
  },
  {
   "cell_type": "code",
   "execution_count": null,
   "metadata": {
    "collapsed": true,
    "scrolled": false
   },
   "outputs": [],
   "source": [
    "#TODO check values against reference values"
   ]
  },
  {
   "cell_type": "markdown",
   "metadata": {},
   "source": [
    "2) Take a set of housekeeping data."
   ]
  },
  {
   "cell_type": "code",
   "execution_count": null,
   "metadata": {
    "collapsed": false
   },
   "outputs": [],
   "source": [
    "from tessfpe.data.housekeeping_channels import housekeeping_channels\n",
    "housekeeping_channels"
   ]
  },
  {
   "cell_type": "code",
   "execution_count": null,
   "metadata": {
    "collapsed": true
   },
   "outputs": [],
   "source": [
    "# TODO compare measured to reference values"
   ]
  },
  {
   "cell_type": "code",
   "execution_count": null,
   "metadata": {
    "collapsed": true
   },
   "outputs": [],
   "source": []
  },
  {
   "cell_type": "markdown",
   "metadata": {},
   "source": [
    "<pre>\n",
    "- FPE Test Procedures\n",
    "\t- FPE Bring-up Procedure (Check boxes for board type? Flight or not?)\n",
    "\t\t- Verify work area is ESD safe\n",
    "\t\t- Setup per diagram, take photos\n",
    "\t\t- Note test equipment model #'s and serial #'s\n",
    "\t\t- Standard inspections for all 3 PCB types; capture images\n",
    "\t\t\t- Weigh assembly, note non-flight configurations\n",
    "\t\t\t- Visual inspection under stereo microscope\n",
    "\t\t\t\t- Workmanship and mechanical damage\n",
    "\t\t\t\t- DNP parts not installed\n",
    "\t\t\t\t- No missing components\n",
    "\t\t\t\tVerify req'd jumpers installed\n",
    "\t\t\t\tComponent orientation (chips, polarized caps, diodes, etc)\n",
    "\t\t\t\tVerify chips are correct parts (& date codes if specified in design)\n",
    "\t\t\t\tVerify connector savers installed if req'd\n",
    "                \n",
    "\t\tPower OFF resistance measurements (compare to reference values)\n",
    "\t\t\tPower lines\n",
    "\t\t\tStack connector\n",
    "\t\t\tCCD connectors (video only) Maybe delete this? Discuss.\n",
    "\t\t\tTemp connector (video only)\n",
    "\t\tPower ON voltage measurements (compare to reference values/images)\n",
    "\t\t\tDHU supply voltages before connection to setup\n",
    "\t\t\tDHU supply voltages and currents with setup connected\n",
    "\t\t\tCapture FLIR images; check for hot spots\n",
    "            Program FPGA\n",
    "\t\t\tStart frames\n",
    "\t\t\t\tTake raw image as verification that FPGA was programmed OK\n",
    "\t\t\tStop frames\n",
    "\t\t\t\tTake HK data as further verification \n",
    "                    ref values for 3 cases: Interface only, Interface + Driver, full stack)\n",
    "            Measure voltages on all open connector pins (= PCB safe-to-mate)\n",
    "                Interface: stack connector only\n",
    "                Driver: stack connector only\n",
    "                Video: \n",
    "                    Stack connector\n",
    "                    CCD connectors (discuss need for this)\n",
    "                    Temp connector\n",
    "\t\t*Bring up complete*\n",
    "\tFPE Functional Test and calibration\n",
    "\t\t(Assume for now we test full stack, not separate boards)\n",
    "\t\tSetup per diagram, take photos\n",
    "\t\tNote test equipment model #'s and serial #'s\n",
    "\t\tPower ON voltage measurements (compare to reference values/images)\n",
    "\t\t\tDHU supply voltages before connection to setup\n",
    "\t\t\tDHU supply voltages and currents with setup connected\n",
    "\t\tProgram FPGA\n",
    "\t\t\tVerify communication \n",
    "\t\t\tLoad Wrapper and MemFiles (record version numbers)\n",
    "\t\tHousekeeping calibration\n",
    "\t\t\tStart frames, Stop frames (or otherwise set DACs to default values)\n",
    "\t\t\tDo HK calibration process\n",
    "\t\t\t\tGet HK bias value(s)\n",
    "\t\t\t\tEtc…\n",
    "\t\t\tVery with DMM measurements\n",
    "\t\t\t\tSupply voltages\n",
    "\t\t\t\tOthers? All 128? HK ADC bias?\n",
    "\t\t\tCapture calibrated HK set\n",
    "\t\t\t\tBias groups\n",
    "\t\t\t\tClock Driver groups\n",
    "\t\t\t\tInterface group\n",
    "\t\tDAC Calibration\n",
    "\t\t\tDo DAC calibration process\n",
    "\t\t\tCapture HK set over full range of DAC settings (frames stopped)\n",
    "\t\t\tStart frames\n",
    "\t\t\tCapture HK set (frames running)\n",
    "\t\tCCD signal verification and CCD safe-to-mate\n",
    "\t\t\tMeasure signals at CCD connectors\n",
    "\t\t\t\tVerify clock voltages, timing, wave shapes on scope for each CCD connector\n",
    "\t\tRTD Functional test and calibration\n",
    "\t\t\tConnect 12 x 1000 Ohm 0.1% resistors  to Temp connector\n",
    "\t\t\t(Connect calibration R's to AlCu sensor connections somewhere)??\n",
    "\t\t\tCapture HK set for RTD's\n",
    "\t\t\tDo RTD calibration process\n",
    "\t\t\tCapture calibrated HK set for Thermal group\n",
    "\t\tHeater Functional test and calibration\n",
    "\t\t\tConnect three heater calibration resistors to HTR outputs\n",
    "\t\t\tCapture HK set for Heater group\n",
    "\t\t\tDo Heater calibration process\n",
    "\t\t\tCapture calibrated HK set for Heater group\n",
    "\t\t*Functional test and calibration complete*\n",
    "*FPE Test Procedure complete*\n",
    "</pre>"
   ]
  },
  {
   "cell_type": "markdown",
   "metadata": {},
   "source": [
    "# Test Check"
   ]
  },
  {
   "cell_type": "markdown",
   "metadata": {},
   "source": [
    "Below we validate that all of the tests and procedures above have been performed properly.\n",
    "\n",
    "If some step has not been carried out properly, an *Exception* will be thrown."
   ]
  },
  {
   "cell_type": "code",
   "execution_count": null,
   "metadata": {
    "collapsed": true
   },
   "outputs": [],
   "source": [
    "# TODO: Recursively search test_check to make sure that no value is `None`"
   ]
  },
  {
   "cell_type": "code",
   "execution_count": null,
   "metadata": {
    "collapsed": true
   },
   "outputs": [],
   "source": [
    "def url_exists(site, path):\n",
    "    # TODO: Fix me so that site is broken up from path\n",
    "    import httplib\n",
    "    conn = httplib.HTTPConnection(site)\n",
    "    conn.request('HEAD', path)\n",
    "    response = conn.getresponse()\n",
    "    conn.close()\n",
    "    return response.status == 200"
   ]
  },
  {
   "cell_type": "code",
   "execution_count": null,
   "metadata": {
    "collapsed": false
   },
   "outputs": [],
   "source": [
    "assert type(test_check[\"NAME\"]) is str, \"Name should be entered as a string\"\n",
    "assert type(test_check[\"EMAIL\"]) is str, \"Email should be entered as a string\"\n",
    "# TODO: check that email is a valid email with a regex\n",
    "# assert type(test_check[\"EMAIL\"]) is str, \"Email should be <blah>@<blah>.(com|edu|org|net|gov)\"\n",
    "\n",
    "assert type(test_check[\"Part Number\"]) is str\n",
    "assert type(test_check[\"Serial Number\"]) is str"
   ]
  },
  {
   "cell_type": "code",
   "execution_count": null,
   "metadata": {
    "collapsed": false
   },
   "outputs": [],
   "source": [
    "# TODO: check that \"DATE\" is valid time stamp of the form \"MM/DD/YY\"\n",
    "# TODO: check that \"ESD_SAFE\" is the string 'ESD Safe'.\n",
    "\n",
    "# assert type(test_check[\"EMAIL\"]) is str, \"Email should be <blah>@<blah>.(com|edu|org|net|gov)\"\n",
    "\n",
    "assert test_check[\"FRONT_ASSEMBLY_PHOTO\"] not in placeholder_photos, \"Front assembly photo should not be a stock photo\"\n",
    "#assert url_exists(test_check[\"FRONT_ASSEMBLY_PHOTO\"]), \"URL for front assembly photo should exist\"\n",
    "assert test_check[\"BACK_ASSEMBLY_PHOTO\"] not in placeholder_photos, \"Back assembly photo should not be a stock photo\"\n",
    "#assert url_exists(test_check[\"BACK_ASSEMBLY_PHOTO\"]), \"URL for back assembly photo should exist"
   ]
  },
  {
   "cell_type": "code",
   "execution_count": null,
   "metadata": {
    "collapsed": false
   },
   "outputs": [],
   "source": [
    "assert 'Multimeter' in test_check[\"Equipment\"], \"'Multimeter' should be in test_check['Equipment']\"\n",
    "assert 'Oscilloscope' in test_check[\"Equipment\"], \"'Oscilloscope' should be in test_check['Equipment']\"\n",
    "assert 'DHU Emulator' in test_check[\"Equipment\"], \"'DHU Emulator' should be in test_check['Equipment']\"\n",
    "assert len(test_check[\"Equipment\"]) == 3, \"test_check['Equipment'] should not contain superfluous information\"\n",
    "assert type(test_check[\"Equipment\"][\"Multimeter\"][\"Model Number\"]) is str, 'Multimeter model number should be a string'\n",
    "assert type(test_check[\"Equipment\"][\"Multimeter\"][\"Serial Number\"]) is str, 'Multimeter serial number should be a string'\n",
    "assert type(test_check[\"Equipment\"][\"Oscilloscope\"][\"Model Number\"]) is str, 'Oscilloscope model number should be a string'\n",
    "assert type(test_check[\"Equipment\"][\"Oscilloscope\"][\"Serial Number\"]) is str, 'Oscilloscope serial number should be a string'\n",
    "assert type(test_check[\"Equipment\"][\"DHU Emulator\"][\"Model Number\"]) is str, 'DHU Emulator model number should be a string'\n",
    "assert type(test_check[\"Equipment\"][\"DHU Emulator\"][\"Serial Number\"]) is str, 'DHU Emulator serial number should be a string'"
   ]
  },
  {
   "cell_type": "code",
   "execution_count": null,
   "metadata": {
    "collapsed": false
   },
   "outputs": [],
   "source": [
    "assert type(test_check[\"Assembly Weight\"]) is float\n",
    "assert type(test_check[\"Non-Flight Configurations\"]) is str"
   ]
  },
  {
   "cell_type": "code",
   "execution_count": null,
   "metadata": {
    "collapsed": false
   },
   "outputs": [],
   "source": [
    "type(1.0)"
   ]
  },
  {
   "cell_type": "code",
   "execution_count": null,
   "metadata": {
    "collapsed": false
   },
   "outputs": [],
   "source": [
    "type(False)"
   ]
  },
  {
   "cell_type": "markdown",
   "metadata": {},
   "source": [
    "# Summary"
   ]
  },
  {
   "cell_type": "markdown",
   "metadata": {},
   "source": [
    "Below is a summary of test results and notes:"
   ]
  },
  {
   "cell_type": "code",
   "execution_count": null,
   "metadata": {
    "collapsed": true
   },
   "outputs": [],
   "source": [
    "# TODO: pretty print summary of data, consider incorporating\n",
    "# - Visual inspection results\n",
    "# - Operator Notes"
   ]
  }
 ],
 "metadata": {
  "kernelspec": {
   "display_name": "Python 2",
   "language": "python",
   "name": "python2"
  },
  "language_info": {
   "codemirror_mode": {
    "name": "ipython",
    "version": 2
   },
   "file_extension": ".py",
   "mimetype": "text/x-python",
   "name": "python",
   "nbconvert_exporter": "python",
   "pygments_lexer": "ipython2",
   "version": "2.7.10"
  }
 },
 "nbformat": 4,
 "nbformat_minor": 0
}
