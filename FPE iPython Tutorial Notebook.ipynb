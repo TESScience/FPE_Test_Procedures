{
 "cells": [
  {
   "cell_type": "markdown",
   "metadata": {},
   "source": [
    "# FPE Observatory Simulator iPython Tutorial"
   ]
  },
  {
   "cell_type": "markdown",
   "metadata": {},
   "source": [
    "To start, we upgrade to the latest version of the `tessfpe` python module:"
   ]
  },
  {
   "cell_type": "code",
   "execution_count": 1,
   "metadata": {
    "collapsed": false
   },
   "outputs": [
    {
     "name": "stdout",
     "output_type": "stream",
     "text": [
      "Requirement already up-to-date: tessfpe in /usr/local/lib/python2.7/site-packages\n",
      "Requirement already up-to-date: grako>=3.6.3 in /usr/local/lib/python2.7/site-packages (from tessfpe)\n",
      "Requirement already up-to-date: sh>=1.11 in /usr/local/lib/python2.7/site-packages (from tessfpe)\n"
     ]
    }
   ],
   "source": [
    "!pip install tessfpe --upgrade"
   ]
  },
  {
   "cell_type": "markdown",
   "metadata": {},
   "source": [
    "Next we import the `FPE` object for communicating with the Observatory Simulator using the following command:"
   ]
  },
  {
   "cell_type": "code",
   "execution_count": 2,
   "metadata": {
    "collapsed": true
   },
   "outputs": [],
   "source": [
    "from tessfpe.dhu.fpe import FPE"
   ]
  },
  {
   "cell_type": "markdown",
   "metadata": {},
   "source": [
    "The following command initializes the FPE object and the Observatory Simulator.\n",
    "\n",
    "We have turned on some options.  Here's a brief description:\n",
    " - `debug`: This prints lots of stuff to `stdout`; it's convenient if things aren't working\n",
    " - `preload`: This loads the `FPE_Wrapper.bin`; if the wrapper is already loaded then this should be set to `False`.  In future versions, this flag will go away, since the code will simply auto-detect when it is necessary to load the wrapper."
   ]
  },
  {
   "cell_type": "code",
   "execution_count": 3,
   "metadata": {
    "collapsed": false
   },
   "outputs": [
    {
     "name": "stdout",
     "output_type": "stream",
     "text": [
      "FPE1>  Running:\n",
      "tftp -e 192.168.100.1 69 <<EOF\n",
      "put /usr/local/lib/python2.7/site-packages/tessfpe/dhu/MemFiles/FPE_Wrapper.bin bitmem1 \n",
      "EOF\n",
      "\n",
      "\n",
      "  RAN: '/usr/bin/tftp -e 192.168.100.1 69'\n",
      "\n",
      "  STDOUT:\n",
      "Sent 2298000 bytes in 0.5 seconds\n",
      "\n",
      "\n",
      "  STDERR:\n",
      "\n",
      "Sending 574500 words to FPE Bit memory from bitmem1\n",
      ". . . . . . . . . . . . . . . . . . . . . . . . . . . . . . . . . . . . . . . . . . . . . . . . . . . . . . . . . . . . . . . . . . . . . . . . . . . . . . . . . . . . . . . . . . . . . . . . . . . . . . . . . . . . . . . . . . . . . . . . . . . . . . . . . . . . . . . . . . . . . . . . . . . . . . . . . . . . . . . . . . . . . . . . . . . . . . . . . . . . . . . . . . . . . . . . . . . . . . . . . . . . . . . . . . . . . . . . . . . . . . . . . . . . . . . . . . . . . . . . . . . . . . . . . . . . . . . . . . . . . . . . . . . . . . . . . . . . . . . . . FPGA Load complete\n",
      "Running:\n",
      "tftp -e 192.168.100.1 69 <<EOF\n",
      "put /usr/local/lib/python2.7/site-packages/tessfpe/dhu/MemFiles/Seq.bin seqmem1 \n",
      "EOF\n",
      "\n",
      "\n",
      "  RAN: '/usr/bin/tftp -e 192.168.100.1 69'\n",
      "\n",
      "  STDOUT:\n",
      "Sent 8192 bytes in 0.0 seconds\n",
      "\n",
      "\n",
      "  STDERR:\n",
      "\n",
      "FPE1>  Sending 2048 words to FPE Sequencer memory from seqmem1\n",
      "Sequence Memory Load complete\n",
      "Running:\n",
      "tftp -e 192.168.100.1 69 <<EOF\n",
      "put /usr/local/lib/python2.7/site-packages/tessfpe/dhu/MemFiles/Reg.bin regmem1 \n",
      "EOF\n",
      "\n",
      "\n",
      "  RAN: '/usr/bin/tftp -e 192.168.100.1 69'\n",
      "\n",
      "  STDOUT:\n",
      "Sent 32 bytes in 0.0 seconds\n",
      "\n",
      "\n",
      "  STDERR:\n",
      "\n",
      "FPE1>  Sending 32 bytes to FPE Registers\n",
      "FPE Register Load complete\n",
      "Running:\n",
      "tftp -e 192.168.100.1 69 <<EOF\n",
      "put /usr/local/lib/python2.7/site-packages/tessfpe/dhu/MemFiles/Prg.bin prgmem1 \n",
      "EOF\n",
      "\n",
      "\n",
      "  RAN: '/usr/bin/tftp -e 192.168.100.1 69'\n",
      "\n",
      "  STDOUT:\n",
      "Sent 4096 bytes in 0.0 seconds\n",
      "\n",
      "\n",
      "  STDERR:\n",
      "\n",
      "FPE1>  Sending 1024 words to FPE Program memory from prgmem1\n",
      "Program Memory Load complete\n",
      "Running:\n",
      "tftp -e 192.168.100.1 69 <<EOF\n",
      "put /usr/local/lib/python2.7/site-packages/tessfpe/dhu/MemFiles/Prg.bin clvmem1 \n",
      "EOF\n",
      "\n",
      "\n",
      "  RAN: '/usr/bin/tftp -e 192.168.100.1 69'\n",
      "\n",
      "  STDOUT:\n",
      "Sent 4096 bytes in 0.0 seconds\n",
      "\n",
      "\n",
      "  STDERR:\n",
      "\n",
      "FPE1>  Sending 1024 words to FPE Voltage memory from clvmem1\n",
      "Voltage Memory Load complete\n",
      "Running:\n",
      "tftp -e 192.168.100.1 69 <<EOF\n",
      "put /usr/local/lib/python2.7/site-packages/tessfpe/dhu/MemFiles/Hsk.bin hskmem1 \n",
      "EOF\n",
      "\n",
      "\n",
      "  RAN: '/usr/bin/tftp -e 192.168.100.1 69'\n",
      "\n",
      "  STDOUT:\n",
      "Sent 512 bytes in 0.1 seconds\n",
      "\n",
      "\n",
      "  STDERR:\n",
      "\n",
      "FPE1>  Sending 128 words to HSK Voltage memory from hskmem1\n",
      "Housekeeping Memory Load complete\n"
     ]
    }
   ],
   "source": [
    "fpe1 = FPE(1, debug=True, preload=True)"
   ]
  },
  {
   "cell_type": "markdown",
   "metadata": {},
   "source": [
    "We can observe the camera housekeeping data below.  First we turn off `debug` so that the output is saner."
   ]
  },
  {
   "cell_type": "code",
   "execution_count": 7,
   "metadata": {
    "collapsed": false
   },
   "outputs": [
    {
     "data": {
      "text/plain": [
       "{None: 0,\n",
       " '+1.8f': 4290641853,\n",
       " '+15': 0,\n",
       " '+1f': 4289597028,\n",
       " '+2.5f': 2372637110,\n",
       " '+3.3f': 3674790842,\n",
       " '+5': 1507392,\n",
       " '-12': 4293004967,\n",
       " 'ccd1_backside': 0,\n",
       " 'ccd1_board_temperature': 0,\n",
       " 'ccd1_input_diode_high': 0,\n",
       " 'ccd1_input_diode_low': 0,\n",
       " 'ccd1_input_gate_1': 0,\n",
       " 'ccd1_input_gate_2': 0,\n",
       " 'ccd1_output_drain_a': 0,\n",
       " 'ccd1_output_drain_b': 0,\n",
       " 'ccd1_output_drain_c': 1507424,\n",
       " 'ccd1_output_drain_d': 4291166150,\n",
       " 'ccd1_output_gate': 0,\n",
       " 'ccd1_output_source_a': 2333727070,\n",
       " 'ccd1_output_source_b': 1563092459,\n",
       " 'ccd1_output_source_c': 3963548098,\n",
       " 'ccd1_output_source_d': 4161437695,\n",
       " 'ccd1_parallel_high': 0,\n",
       " 'ccd1_parallel_low': 0,\n",
       " 'ccd1_reset_drain': 0,\n",
       " 'ccd1_reset_high': 0,\n",
       " 'ccd1_reset_low': 0,\n",
       " 'ccd1_scupper': 0,\n",
       " 'ccd1_serial_high': 0,\n",
       " 'ccd1_serial_low': 0,\n",
       " 'ccd1_substrate': 0,\n",
       " 'ccd2_backside': 2147450879,\n",
       " 'ccd2_board_temperature': 2147483594,\n",
       " 'ccd2_input_diode_high': 4291166150,\n",
       " 'ccd2_input_diode_low': 4291166150,\n",
       " 'ccd2_input_gate_1': 2147450879,\n",
       " 'ccd2_input_gate_2': 2147450879,\n",
       " 'ccd2_output_drain_a': 4291297222,\n",
       " 'ccd2_output_drain_b': 4291362759,\n",
       " 'ccd2_output_drain_c': 4291297222,\n",
       " 'ccd2_output_drain_d': 1053576,\n",
       " 'ccd2_output_gate': 2147450879,\n",
       " 'ccd2_output_source_a': 8388640,\n",
       " 'ccd2_output_source_b': 65536,\n",
       " 'ccd2_output_source_c': 0,\n",
       " 'ccd2_output_source_d': 0,\n",
       " 'ccd2_parallel_high': 0,\n",
       " 'ccd2_parallel_low': 0,\n",
       " 'ccd2_reset_drain': 2147450879,\n",
       " 'ccd2_reset_high': 4291231686,\n",
       " 'ccd2_reset_low': 4291166151,\n",
       " 'ccd2_scupper': 2147450879,\n",
       " 'ccd2_serial_high': 1507360,\n",
       " 'ccd2_serial_low': 4291231686,\n",
       " 'ccd2_substrate': 2147450879,\n",
       " 'ccd3_backside': 0,\n",
       " 'ccd3_board_temperature': 0,\n",
       " 'ccd3_input_diode_high': 4291231686,\n",
       " 'ccd3_input_diode_low': 4291166151,\n",
       " 'ccd3_input_gate_1': 0,\n",
       " 'ccd3_input_gate_2': 0,\n",
       " 'ccd3_output_drain_a': 0,\n",
       " 'ccd3_output_drain_b': 0,\n",
       " 'ccd3_output_drain_c': 1507328,\n",
       " 'ccd3_output_drain_d': 4291231685,\n",
       " 'ccd3_output_gate': 0,\n",
       " 'ccd3_output_source_a': 4291231686,\n",
       " 'ccd3_output_source_b': 4291297223,\n",
       " 'ccd3_output_source_c': 4291166151,\n",
       " 'ccd3_output_source_d': 4291297223,\n",
       " 'ccd3_parallel_high': 4291297221,\n",
       " 'ccd3_parallel_low': 4291231685,\n",
       " 'ccd3_reset_drain': 0,\n",
       " 'ccd3_reset_high': 4291231687,\n",
       " 'ccd3_reset_low': 4291100614,\n",
       " 'ccd3_scupper': 0,\n",
       " 'ccd3_serial_high': 4291297222,\n",
       " 'ccd3_serial_low': 4291231685,\n",
       " 'ccd3_substrate': 0,\n",
       " 'ccd4_backside': 4291297222,\n",
       " 'ccd4_board_temperature': 4291166150,\n",
       " 'ccd4_input_diode_high': 0,\n",
       " 'ccd4_input_diode_low': 0,\n",
       " 'ccd4_input_gate_1': 4291231686,\n",
       " 'ccd4_input_gate_2': 4291231687,\n",
       " 'ccd4_output_drain_a': 4291166150,\n",
       " 'ccd4_output_drain_b': 4291166149,\n",
       " 'ccd4_output_drain_c': 4291297222,\n",
       " 'ccd4_output_drain_d': 1053576,\n",
       " 'ccd4_output_gate': 4291231685,\n",
       " 'ccd4_output_source_a': 8388640,\n",
       " 'ccd4_output_source_b': 65536,\n",
       " 'ccd4_output_source_c': 0,\n",
       " 'ccd4_output_source_d': 0,\n",
       " 'ccd4_parallel_high': 4291166150,\n",
       " 'ccd4_parallel_low': 4291297223,\n",
       " 'ccd4_reset_drain': 4291231687,\n",
       " 'ccd4_reset_high': 8388640,\n",
       " 'ccd4_reset_low': 65536,\n",
       " 'ccd4_scupper': 4291231686,\n",
       " 'ccd4_serial_high': 4291231686,\n",
       " 'ccd4_serial_low': 1053576,\n",
       " 'ccd4_substrate': 4291231685,\n",
       " 'heater_1_current': 0,\n",
       " 'heater_2_current': 0,\n",
       " 'heater_3_current': 0,\n",
       " 'pt1000_sensor_1': 3673807786,\n",
       " 'pt1000_sensor_2': 2372571549}"
      ]
     },
     "execution_count": 7,
     "metadata": {},
     "output_type": "execute_result"
    }
   ],
   "source": [
    "fpe1.connection._debug = False\n",
    "fpe1.get_cam_hsk()"
   ]
  },
  {
   "cell_type": "code",
   "execution_count": null,
   "metadata": {
    "collapsed": true
   },
   "outputs": [],
   "source": []
  }
 ],
 "metadata": {
  "kernelspec": {
   "display_name": "Python 2",
   "language": "python",
   "name": "python2"
  },
  "language_info": {
   "codemirror_mode": {
    "name": "ipython",
    "version": 2
   },
   "file_extension": ".py",
   "mimetype": "text/x-python",
   "name": "python",
   "nbconvert_exporter": "python",
   "pygments_lexer": "ipython2",
   "version": "2.7.10"
  }
 },
 "nbformat": 4,
 "nbformat_minor": 0
}
