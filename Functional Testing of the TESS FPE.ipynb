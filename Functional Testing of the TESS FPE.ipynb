{
 "cells": [
  {
   "cell_type": "markdown",
   "metadata": {},
   "source": [
    "# Functional Testing of The TESS Focal Plane Electronics"
   ]
  },
  {
   "cell_type": "markdown",
   "metadata": {},
   "source": [
    "1) Do John Doty's global calibration, computing correction factors $m$ and $c$ in the equation:\n",
    "\n",
    "$$ correct\\_value = m \\cdot set\\_value + c$$\n",
    "\n",
    "Make sure that $m$ is $\\approx 1$ to 3 decimal places, and that $c$ is in $[-10,10]$\n",
    "\n",
    "**Print the value**"
   ]
  },
  {
   "cell_type": "markdown",
   "metadata": {},
   "source": [
    "2) Run heater calibration tests using the heater calibration test rig. Make sure that set heater current and measured heater current from housekeeping are within $[-4,4]$ mA.  Also **plot** errors for visual inspection."
   ]
  },
  {
   "cell_type": "markdown",
   "metadata": {},
   "source": [
    "3) Run Ed's RTD check using the RTD check test rig.  This makes sure that the measured RTD values are within 5% of theoretical values derived by Ed.  Also **plot** the errors for visual inspection.  ***These are for the platinum RTDs only, other tests will have to be contrived when we hook the CCDs up***.  "
   ]
  },
  {
   "cell_type": "code",
   "execution_count": null,
   "metadata": {
    "collapsed": true
   },
   "outputs": [],
   "source": []
  }
 ],
 "metadata": {
  "kernelspec": {
   "display_name": "Python 2",
   "language": "python",
   "name": "python2"
  },
  "language_info": {
   "codemirror_mode": {
    "name": "ipython",
    "version": 2
   },
   "file_extension": ".py",
   "mimetype": "text/x-python",
   "name": "python",
   "nbconvert_exporter": "python",
   "pygments_lexer": "ipython2",
   "version": "2.7.10"
  }
 },
 "nbformat": 4,
 "nbformat_minor": 0
}
