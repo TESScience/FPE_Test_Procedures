{
 "cells": [
  {
   "cell_type": "markdown",
   "metadata": {},
   "source": [
    "# HK Variance Test (Frames Running)"
   ]
  },
  {
   "cell_type": "markdown",
   "metadata": {},
   "source": [
    "### This notebook provides a test for the noise and stability of the housekeeping data captured by the FPE.  It evaluates the performance of the housekeeping system by taking a large number of samples, collecting the results for each signal channel, and evaluating the variance of the data for each channel.\n",
    "\n",
    "In this version, we start frames running and repeat the taking of variance data on the housekeeping system."
   ]
  },
  {
   "cell_type": "markdown",
   "metadata": {},
   "source": [
    "### Instructions:\n",
    "Enter Your Name and today's date:\n",
    "\n",
    "Ed Bokhour, 11/4/15\n",
    "\n",
    "Enter the part numbers and serial numbers of the units under test:\n",
    "\n",
    "SDPCB Interface 6.1, s/n 02. SDPCB 6.1 Driver s/n RPI15310002, SDPCB Video 6.1 s/n RPI15310001. Using wrapper 6.1.2 (San Diego).\n",
    "\n",
    "When the test is complete, save this notebook as a new file, indicating the date, as \"HK_Variance_Results_YYMMDD.ipynb\".  Alternatively, export the notebook as a PDF file, then clear all entries and outputs."
   ]
  },
  {
   "cell_type": "markdown",
   "metadata": {},
   "source": [
    "### Start the Observatory Simulator and Load the FPE FPGA"
   ]
  },
  {
   "cell_type": "markdown",
   "metadata": {},
   "source": [
    "Remember that whenever you power-cycle the Observatory Simulator, you should set `preload=True` below.\n",
    "\n",
    "When you are running this notebook and it has *not* been power cycled, you should set `preload=False`.\n",
    "\n",
    "Run the following cell to get the FPE loaded:"
   ]
  },
  {
   "cell_type": "code",
   "execution_count": 1,
   "metadata": {
    "collapsed": false
   },
   "outputs": [
    {
     "name": "stdout",
     "output_type": "stream",
     "text": [
      "Observatory Simulator Version 1.6c - Oct  8 2015 11:55:03\n",
      "Wrapper load complete. Interface voltages OK.\n"
     ]
    }
   ],
   "source": [
    "from tessfpe.dhu.fpe import FPE\n",
    "from tessfpe.dhu.unit_tests import check_house_keeping_voltages\n",
    "fpe1 = FPE(1, debug=False, preload=True, FPE_Wrapper_version='6.1.1')\n",
    "print fpe1.version\n",
    "fpe1.cmd_start_frames()\n",
    "fpe1.cmd_stop_frames()\n",
    "if check_house_keeping_voltages(fpe1):\n",
    "    print \"Wrapper load complete. Interface voltages OK.\""
   ]
  },
  {
   "cell_type": "markdown",
   "metadata": {},
   "source": [
    "### Set all the operating parameters to the default values:"
   ]
  },
  {
   "cell_type": "code",
   "execution_count": 2,
   "metadata": {
    "collapsed": false
   },
   "outputs": [
    {
     "data": {
      "text/plain": [
       "{'ccd1_backside': 0.0,\n",
       " 'ccd1_input_diode_high': 12.0,\n",
       " 'ccd1_input_diode_low': 12.0,\n",
       " 'ccd1_input_gate_1': -3.0,\n",
       " 'ccd1_input_gate_2': -3.0,\n",
       " 'ccd1_output_drain_a_offset': 8.0,\n",
       " 'ccd1_output_drain_b_offset': 8.0,\n",
       " 'ccd1_output_drain_c_offset': 8.0,\n",
       " 'ccd1_output_drain_d_offset': 8.0,\n",
       " 'ccd1_output_gate': -1.0,\n",
       " 'ccd1_parallel_high_offset': 0.0,\n",
       " 'ccd1_parallel_low': -8.0,\n",
       " 'ccd1_reset_drain': 12.0,\n",
       " 'ccd1_reset_high': 3.0,\n",
       " 'ccd1_reset_low_offset': -3.0,\n",
       " 'ccd1_scupper': 12.0,\n",
       " 'ccd1_serial_high': 4.0,\n",
       " 'ccd1_serial_low_offset': -6.0,\n",
       " 'ccd1_substrate': -40.0,\n",
       " 'ccd2_backside': 0.0,\n",
       " 'ccd2_input_diode_high': 12.0,\n",
       " 'ccd2_input_diode_low': 12.0,\n",
       " 'ccd2_input_gate_1': -3.0,\n",
       " 'ccd2_input_gate_2': -3.0,\n",
       " 'ccd2_output_drain_a_offset': 8.0,\n",
       " 'ccd2_output_drain_b_offset': 8.0,\n",
       " 'ccd2_output_drain_c_offset': 8.0,\n",
       " 'ccd2_output_drain_d_offset': 8.0,\n",
       " 'ccd2_output_gate': -1.0,\n",
       " 'ccd2_parallel_high_offset': 0.0,\n",
       " 'ccd2_parallel_low': -8.0,\n",
       " 'ccd2_reset_drain': 12.0,\n",
       " 'ccd2_reset_high': 3.0,\n",
       " 'ccd2_reset_low_offset': -3.0,\n",
       " 'ccd2_scupper': 12.0,\n",
       " 'ccd2_serial_high': 4.0,\n",
       " 'ccd2_serial_low_offset': -6.0,\n",
       " 'ccd2_substrate': -40.0,\n",
       " 'ccd3_backside': 0.0,\n",
       " 'ccd3_input_diode_high': 12.0,\n",
       " 'ccd3_input_diode_low': 12.0,\n",
       " 'ccd3_input_gate_1': -3.0,\n",
       " 'ccd3_input_gate_2': -3.0,\n",
       " 'ccd3_output_drain_a_offset': 8.0,\n",
       " 'ccd3_output_drain_b_offset': 8.0,\n",
       " 'ccd3_output_drain_c_offset': 8.0,\n",
       " 'ccd3_output_drain_d_offset': 8.0,\n",
       " 'ccd3_output_gate': -1.0,\n",
       " 'ccd3_parallel_high_offset': 0.0,\n",
       " 'ccd3_parallel_low': -8.0,\n",
       " 'ccd3_reset_drain': 12.0,\n",
       " 'ccd3_reset_high': 3.0,\n",
       " 'ccd3_reset_low_offset': -3.0,\n",
       " 'ccd3_scupper': 12.0,\n",
       " 'ccd3_serial_high': 4.0,\n",
       " 'ccd3_serial_low_offset': -6.0,\n",
       " 'ccd3_substrate': -40.0,\n",
       " 'ccd4_backside': 0.0,\n",
       " 'ccd4_input_diode_high': 12.0,\n",
       " 'ccd4_input_diode_low': 12.0,\n",
       " 'ccd4_input_gate_1': -3.0,\n",
       " 'ccd4_input_gate_2': -3.0,\n",
       " 'ccd4_output_drain_a_offset': 8.0,\n",
       " 'ccd4_output_drain_b_offset': 8.0,\n",
       " 'ccd4_output_drain_c_offset': 8.0,\n",
       " 'ccd4_output_drain_d_offset': 8.0,\n",
       " 'ccd4_output_gate': -1.0,\n",
       " 'ccd4_parallel_high_offset': 0.0,\n",
       " 'ccd4_parallel_low': -8.0,\n",
       " 'ccd4_reset_drain': 12.0,\n",
       " 'ccd4_reset_high': 3.0,\n",
       " 'ccd4_reset_low_offset': -3.0,\n",
       " 'ccd4_scupper': 12.0,\n",
       " 'ccd4_serial_high': 4.0,\n",
       " 'ccd4_serial_low_offset': -6.0,\n",
       " 'ccd4_substrate': -40.0,\n",
       " 'heater_1_current': 0.0,\n",
       " 'heater_2_current': 0.0,\n",
       " 'heater_3_current': 0.0}"
      ]
     },
     "execution_count": 2,
     "metadata": {},
     "output_type": "execute_result"
    }
   ],
   "source": [
    "def set_fpe_defaults(fpe):\n",
    "    \"Set the FPE to the default operating parameters and return a list of the default values\"\n",
    "    defaults = {}\n",
    "    for k in range(len(fpe.ops.address)):\n",
    "        if fpe.ops.address[k] is None:\n",
    "            continue\n",
    "        fpe.ops.address[k].value = fpe.ops.address[k].default\n",
    "        defaults[fpe.ops.address[k].name] = fpe.ops.address[k].default\n",
    "    return defaults\n",
    "set_fpe_defaults(fpe1)"
   ]
  },
  {
   "cell_type": "markdown",
   "metadata": {},
   "source": [
    "### Start the frames"
   ]
  },
  {
   "cell_type": "code",
   "execution_count": 3,
   "metadata": {
    "collapsed": false
   },
   "outputs": [
    {
     "data": {
      "text/plain": [
       "'Starting frames...'"
      ]
     },
     "execution_count": 3,
     "metadata": {},
     "output_type": "execute_result"
    }
   ],
   "source": [
    "fpe1.cmd_start_frames()"
   ]
  },
  {
   "cell_type": "code",
   "execution_count": 70,
   "metadata": {
    "collapsed": false
   },
   "outputs": [
    {
     "data": {
      "text/plain": [
       "'/Users/Ed/Documents/TESS_git/FPE_Test_Procedures\\n'"
      ]
     },
     "execution_count": 70,
     "metadata": {},
     "output_type": "execute_result"
    }
   ],
   "source": [
    "subprocess.check_output([\"pwd\"])"
   ]
  },
  {
   "cell_type": "code",
   "execution_count": null,
   "metadata": {
    "collapsed": true
   },
   "outputs": [],
   "source": [
    "    def capture_frames(self, n):\n",
    "        \"\"\"Capture frames\"\"\"\n",
    "        import subprocess\n",
    "        import os.path\n",
    "        self.cmd_start_frames()\n",
    "        proc = subprocess.Popen(\n",
    "            [os.path.join(self._dir, \"..\", \"fits_capture\", \"tess_obssim\", \"tess_obssim\"), '-n', str(n)],\n",
    "            shell=False)\n",
    "        proc.communicate()\n",
    "        self.cmd_stop_frames()"
   ]
  },
  {
   "cell_type": "code",
   "execution_count": null,
   "metadata": {
    "collapsed": true
   },
   "outputs": [],
   "source": []
  },
  {
   "cell_type": "markdown",
   "metadata": {},
   "source": [
    "### Run the variance test:"
   ]
  },
  {
   "cell_type": "code",
   "execution_count": 27,
   "metadata": {
    "collapsed": false,
    "scrolled": false
   },
   "outputs": [
    {
     "ename": "TimeOutError",
     "evalue": "Timeout on trial 10",
     "output_type": "error",
     "traceback": [
      "\u001b[0;31m---------------------------------------------------------------------------\u001b[0m",
      "\u001b[0;31mTimeOutError\u001b[0m                              Traceback (most recent call last)",
      "\u001b[0;32m<ipython-input-27-ba6825fd43e6>\u001b[0m in \u001b[0;36m<module>\u001b[0;34m()\u001b[0m\n\u001b[1;32m     17\u001b[0m \u001b[0;32mfor\u001b[0m \u001b[0mi\u001b[0m \u001b[0;32min\u001b[0m \u001b[0mrange\u001b[0m\u001b[0;34m(\u001b[0m\u001b[0msamples\u001b[0m\u001b[0;34m)\u001b[0m\u001b[0;34m:\u001b[0m\u001b[0;34m\u001b[0m\u001b[0m\n\u001b[1;32m     18\u001b[0m     \u001b[0;31m# Get a new set of HK values\u001b[0m\u001b[0;34m\u001b[0m\u001b[0;34m\u001b[0m\u001b[0m\n\u001b[0;32m---> 19\u001b[0;31m     \u001b[0mhouse_keeping_values\u001b[0m \u001b[0;34m=\u001b[0m \u001b[0mfpe1\u001b[0m\u001b[0;34m.\u001b[0m\u001b[0mhouse_keeping\u001b[0m\u001b[0;34m[\u001b[0m\u001b[0;34m\"analogue\"\u001b[0m\u001b[0;34m]\u001b[0m\u001b[0;34m\u001b[0m\u001b[0m\n\u001b[0m\u001b[1;32m     20\u001b[0m     \u001b[0mdata_values\u001b[0m \u001b[0;34m=\u001b[0m \u001b[0mhouse_keeping_values\u001b[0m\u001b[0;34m.\u001b[0m\u001b[0mvalues\u001b[0m\u001b[0;34m(\u001b[0m\u001b[0;34m)\u001b[0m\u001b[0;34m\u001b[0m\u001b[0m\n\u001b[1;32m     21\u001b[0m     \u001b[0;31m# Add the new HK values to the sample_data dictionary:\u001b[0m\u001b[0;34m\u001b[0m\u001b[0;34m\u001b[0m\u001b[0m\n",
      "\u001b[0;32m/Users/Ed/Documents/TESS_git/FPE_Test_Procedures/tessfpe/dhu/fpe.pyc\u001b[0m in \u001b[0;36mhouse_keeping\u001b[0;34m(self)\u001b[0m\n\u001b[1;32m    173\u001b[0m     \u001b[0;34m@\u001b[0m\u001b[0mproperty\u001b[0m\u001b[0;34m\u001b[0m\u001b[0m\n\u001b[1;32m    174\u001b[0m     \u001b[0;32mdef\u001b[0m \u001b[0mhouse_keeping\u001b[0m\u001b[0;34m(\u001b[0m\u001b[0mself\u001b[0m\u001b[0;34m)\u001b[0m\u001b[0;34m:\u001b[0m\u001b[0;34m\u001b[0m\u001b[0m\n\u001b[0;32m--> 175\u001b[0;31m         \u001b[0mhsk\u001b[0m \u001b[0;34m=\u001b[0m \u001b[0mself\u001b[0m\u001b[0;34m.\u001b[0m\u001b[0mcmd_cam_hsk\u001b[0m\u001b[0;34m(\u001b[0m\u001b[0;34m)\u001b[0m\u001b[0;34m\u001b[0m\u001b[0m\n\u001b[0m\u001b[1;32m    176\u001b[0m         \u001b[0;31m# Create a dictionary of the analogue outputs\u001b[0m\u001b[0;34m\u001b[0m\u001b[0;34m\u001b[0m\u001b[0m\n\u001b[1;32m    177\u001b[0m         \u001b[0manalogue\u001b[0m \u001b[0;34m=\u001b[0m \u001b[0mhouse_keeping\u001b[0m\u001b[0;34m.\u001b[0m\u001b[0mhsk_to_analogue_dictionary\u001b[0m\u001b[0;34m(\u001b[0m\u001b[0mhsk\u001b[0m\u001b[0;34m)\u001b[0m\u001b[0;34m\u001b[0m\u001b[0m\n",
      "\u001b[0;32m/Users/Ed/Documents/TESS_git/FPE_Test_Procedures/tessfpe/dhu/fpe.pyc\u001b[0m in \u001b[0;36mcmd_cam_hsk\u001b[0;34m(self)\u001b[0m\n\u001b[1;32m    124\u001b[0m             \u001b[0;34m\"cam_hsk\"\u001b[0m\u001b[0;34m,\u001b[0m\u001b[0;34m\u001b[0m\u001b[0m\n\u001b[1;32m    125\u001b[0m             \u001b[0mreply_pattern\u001b[0m\u001b[0;34m=\u001b[0m\u001b[0;34m\"Hsk\\[[0-9]+\\] = 0x[0-9a-f]+\"\u001b[0m\u001b[0;34m,\u001b[0m\u001b[0;34m\u001b[0m\u001b[0m\n\u001b[0;32m--> 126\u001b[0;31m             \u001b[0mmatches\u001b[0m\u001b[0;34m=\u001b[0m\u001b[0mchannels\u001b[0m\u001b[0;34m\u001b[0m\u001b[0m\n\u001b[0m\u001b[1;32m    127\u001b[0m         )\n\u001b[1;32m    128\u001b[0m         \u001b[0;32mreturn\u001b[0m \u001b[0;34m[\u001b[0m\u001b[0mint\u001b[0m\u001b[0;34m(\u001b[0m\u001b[0mn\u001b[0m\u001b[0;34m,\u001b[0m \u001b[0;36m16\u001b[0m\u001b[0;34m)\u001b[0m \u001b[0;32mfor\u001b[0m \u001b[0mn\u001b[0m \u001b[0;32min\u001b[0m \u001b[0mre\u001b[0m\u001b[0;34m.\u001b[0m\u001b[0mfindall\u001b[0m\u001b[0;34m(\u001b[0m\u001b[0;34m'0x[0-9a-f]+'\u001b[0m\u001b[0;34m,\u001b[0m \u001b[0mout\u001b[0m\u001b[0;34m)\u001b[0m\u001b[0;34m]\u001b[0m\u001b[0;34m\u001b[0m\u001b[0m\n",
      "\u001b[0;32m/Users/Ed/Documents/TESS_git/FPE_Test_Procedures/tessfpe/dhu/fpesocketconnection.pyc\u001b[0m in \u001b[0;36msend_command\u001b[0;34m(self, command, reply_pattern, chars, matches, timeout, retries)\u001b[0m\n\u001b[1;32m     66\u001b[0m             \u001b[0;32mexcept\u001b[0m \u001b[0mTimeOutError\u001b[0m \u001b[0;32mas\u001b[0m \u001b[0me\u001b[0m\u001b[0;34m:\u001b[0m\u001b[0;34m\u001b[0m\u001b[0m\n\u001b[1;32m     67\u001b[0m                 \u001b[0mt\u001b[0m \u001b[0;34m=\u001b[0m \u001b[0me\u001b[0m\u001b[0;34m\u001b[0m\u001b[0m\n\u001b[0;32m---> 68\u001b[0;31m         \u001b[0;32mraise\u001b[0m \u001b[0mt\u001b[0m\u001b[0;34m\u001b[0m\u001b[0m\n\u001b[0m\u001b[1;32m     69\u001b[0m \u001b[0;34m\u001b[0m\u001b[0m\n\u001b[1;32m     70\u001b[0m     \u001b[0;32mdef\u001b[0m \u001b[0mwait_for_pattern\u001b[0m\u001b[0;34m(\u001b[0m\u001b[0mself\u001b[0m\u001b[0;34m,\u001b[0m \u001b[0mpattern\u001b[0m\u001b[0;34m,\u001b[0m \u001b[0mmatches\u001b[0m\u001b[0;34m=\u001b[0m\u001b[0;36m1\u001b[0m\u001b[0;34m,\u001b[0m \u001b[0mchars\u001b[0m\u001b[0;34m=\u001b[0m\u001b[0;36m1024\u001b[0m\u001b[0;34m,\u001b[0m \u001b[0mseperator\u001b[0m\u001b[0;34m=\u001b[0m\u001b[0;34m'\\n'\u001b[0m\u001b[0;34m)\u001b[0m\u001b[0;34m:\u001b[0m\u001b[0;34m\u001b[0m\u001b[0m\n",
      "\u001b[0;31mTimeOutError\u001b[0m: Timeout on trial 10"
     ]
    }
   ],
   "source": [
    "from numpy import var, sqrt\n",
    "samples=5\n",
    "#from tessfpe.data.housekeeping_channels import housekeeping_channels\n",
    "fpe1.cmd_cam_status()\n",
    "\n",
    "\n",
    "# We make sample_data a dictionary and each value will be a set of HK \n",
    "# data, with key = sample_name.\n",
    "sample_data = {}\n",
    "\n",
    "# For later:\n",
    "signal_names = []\n",
    "signal_values = []\n",
    "signal_data = {}\n",
    "variance_values = {}\n",
    "\n",
    "#for i in range(samples):\n",
    "    # Get a new set of HK values\n",
    "#    house_keeping_values = fpe1.house_keeping[\"analogue\"]\n",
    "#    data_values = house_keeping_values.values()\n",
    "    # Add the new HK values to the sample_data dictionary:\n",
    "    sample_number = \"sample_\" + str(i)\n",
    "    sample_data[sample_number] = data_values\n",
    "\n",
    "# Get the signal names for use later\n",
    "signal_names = housekeeping_channels.keys()\n",
    "\n",
    "# Get list of units for later\n",
    "units = {}\n",
    "for name in housekeeping_channels:\n",
    "    units[name] = housekeeping_channels[name]['unit']\n",
    "    \n",
    "\"\"\"Assign the set of all HK values of the same signal (e.g. substrate_1) \n",
    "to the dictionary 'signal_data'\"\"\"\n",
    "\n",
    "for k in range(len(signal_names)):\n",
    "    # Build the list 'signal_values' for this signal:\n",
    "    for i in range(samples):\n",
    "        sample_number = \"sample_\" + str(i)\n",
    "        signal_values.append(sample_data[sample_number][k])\n",
    "    # Add signal_values to the signal_data dictionary:\n",
    "    signal_data[signal_names[k]] = signal_values\n",
    "    signal_values = []\n",
    "\n",
    "\"\"\" Now get the square root of the variance of each of the 'signal_values' in the \n",
    "signal_data dictionary and put the result in the 'variance_values' \n",
    "dictionary.\"\"\"\n",
    "for name in signal_data:\n",
    "    variance_values[name] = sqrt(var(signal_data[name]))\n",
    "    #print units[name][\"unit\"]\n",
    "    #print signal_data\n",
    "    #print units[name]\n",
    "    print '{0:26}     {1:.3} {2}'.format(name, variance_values[name], units[name])\n",
    "\n",
    "# Results will be displayed below, in engineering units (root-variance).  \n",
    "# Watch ObsSim LEDs for activity."
   ]
  },
  {
   "cell_type": "markdown",
   "metadata": {},
   "source": [
    "## End HK Variance Test."
   ]
  }
 ],
 "metadata": {
  "kernelspec": {
   "display_name": "Python 2",
   "language": "python",
   "name": "python2"
  },
  "language_info": {
   "codemirror_mode": {
    "name": "ipython",
    "version": 2
   },
   "file_extension": ".py",
   "mimetype": "text/x-python",
   "name": "python",
   "nbconvert_exporter": "python",
   "pygments_lexer": "ipython2",
   "version": "2.7.10"
  }
 },
 "nbformat": 4,
 "nbformat_minor": 0
}
